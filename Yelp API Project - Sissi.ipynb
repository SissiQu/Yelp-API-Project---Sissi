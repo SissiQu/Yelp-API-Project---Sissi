{
 "cells": [
  {
   "cell_type": "markdown",
   "metadata": {},
   "source": [
    "# Yelp API Project\n",
    "\n",
    "\n",
    "## Introduction \n",
    "\n",
    "We've learned how to query the Yelp API, analyze JSON data and create basic visualizations. It's time to put those skills to work in order to create a project of your own! Taking things a step further, you'll also independently explore how to perform pagination in order to retrieve a full results set from the Yelp API.\n",
    "\n",
    "## Objectives\n",
    "\n",
    "You will be able to: \n",
    "\n",
    "* Practice using functions to organize your code\n",
    "* Use pagination to retrieve all results from an API query\n",
    "* Practice parsing data returned from an API query\n",
    "* Practice interpreting visualizations of a dataset"
   ]
  },
  {
   "cell_type": "markdown",
   "metadata": {},
   "source": [
    "# Task: Query Yelp for All Businesses in a Category and Analyze the Results\n",
    "\n",
    "![restaurant counter with pizza](images/restaurant_counter.jpg)\n",
    "\n",
    "Photo by <a href=\"https://unsplash.com/@jordanmadrid?utm_source=unsplash&utm_medium=referral&utm_content=creditCopyText\">Jordan Madrid</a> on <a href=\"/s/photos/pizza-restaurant?utm_source=unsplash&utm_medium=referral&utm_content=creditCopyText\">Unsplash</a>"
   ]
  },
  {
   "cell_type": "markdown",
   "metadata": {},
   "source": [
    "## Overview\n",
    "\n",
    "You've now worked with some API calls, but we have yet to see how to retrieve a more complete dataset in a programmatic manner. In this lab, you will write a query of businesses on Yelp, then use *pagination* to retrieve all possible results for that query. Then you will pre-process and analyze your data, leading to a presentation of your findings.\n",
    "\n",
    "## Requirements\n",
    "\n",
    "### 1. Make the Initial Request\n",
    "\n",
    "Start by filling in your API key to make the initial request to the business search API. \n",
    "\n",
    "### 2. Add Pagination\n",
    "\n",
    "Using loops and functions, collect the maximum number of results for your query from the API.\n",
    "\n",
    "### 3. Prepare Data\n",
    "\n",
    "Investigate the structure of the response you get back and extract the relevant information.\n",
    "\n",
    "### 4. Perform Descriptive Analysis\n",
    "\n",
    "Interpret visualizations related to the price range, average rating, and number of reviews for all query results.\n",
    "\n",
    "### 5. Create Presentation Notebook\n",
    "\n",
    "Edit this notebook or create a new one to showcase your work."
   ]
  },
  {
   "cell_type": "markdown",
   "metadata": {},
   "source": [
    "# 1. Make the Initial Request\n",
    "\n",
    "## Querying\n",
    "\n",
    "Start by making an initial request to the Yelp API. Your search must include at least 2 parameters: **term** and **location**. For example, you might search for pizza restaurants in NYC. The term and location is up to you but make the request below.\n",
    "\n",
    "Use the `requests` library ([documentation here](https://requests.readthedocs.io/en/master/user/quickstart/#make-a-request)).\n",
    "\n",
    "You'll also need an API key from Yelp. If you haven't done this already, go to the Yelp [Manage App page](https://www.yelp.com/developers/v3/manage_app) and create a new app (after making an account if you haven't already)."
   ]
  },
  {
   "cell_type": "code",
   "execution_count": 1,
   "metadata": {},
   "outputs": [
    {
     "name": "stdout",
     "output_type": "stream",
     "text": [
      "<Response [200]>\n",
      "<class 'str'>\n",
      "{\"businesses\": [{\"id\": \"zj8Lq1T8KIC5zwFief15jg\", \"alias\": \"prince-street-pizza-new-york-2\", \"name\": \"Prince Street Pizza\", \"image_url\": \"https://s3-media3.fl.yelpcdn.com/bphoto/ZAukOyv530w4KjOHC5YY1w/o.jpg\", \"is_closed\": false, \"url\": \"https://www.yelp.com/biz/prince-street-pizza-new-york-2?adjust_creative=NtcFoooAs9UikH5GiAnG7g&utm_campaign=yelp_api_v3&utm_medium=api_v3_business_search&utm_source=NtcFoooAs9UikH5GiAnG7g\", \"review_count\": 3936, \"categories\": [{\"alias\": \"pizza\", \"title\": \"Pizza\"}, {\"alias\": \"italian\", \"title\": \"Italian\"}], \"rating\": 4.5, \"coordinates\": {\"latitude\": 40.72308755605564, \"longitude\": -73.99453001177575}, \"transactions\": [\"delivery\", \"pickup\"], \"price\": \"$\", \"location\": {\"address1\": \"27 Prince St\", \"address2\": null, \"address3\": \"\", \"city\": \"New York\", \"zip_code\": \"10012\", \"country\": \"US\", \"state\": \"NY\", \"display_address\": [\"27 Prince St\", \"New York, NY 10012\"]}, \"phone\": \"+12129664100\", \"display_phone\": \"(212) 966-4100\", \"distance\": 1961.8771417367063}, {\"id\"\n"
     ]
    }
   ],
   "source": [
    "# Replace None with appropriate code\n",
    "\n",
    "# Import the requests library\n",
    "import requests\n",
    "\n",
    "# Get this from the \"Manage App\" page. Make sure you set them\n",
    "# back to None before pushing this to GitHub, since otherwise\n",
    "# your credentials will be compromised\n",
    "import json\n",
    "\n",
    "def get_keys(path):\n",
    "    with open(path) as f:\n",
    "        return json.load(f)\n",
    "keys= get_keys('/Users/.json')\n",
    "\n",
    "api_key = keys['api_key']\n",
    "\n",
    "# These can be whatever you want! But the solution uses \"pizza\"\n",
    "# and \"New York NY\" if you want to compare your work directly\n",
    "term = 'pizza'\n",
    "location = 'New York NY'\n",
    "\n",
    "# Set up params for request\n",
    "url = \"https://api.yelp.com/v3/businesses/search\"\n",
    "headers = {\n",
    "    \"Authorization\": \"Bearer {}\".format(api_key)\n",
    "}\n",
    "url_params = {\n",
    "    \"term\": term.replace(\" \", \"+\"),\n",
    "    \"location\": location.replace(\" \", \"+\")\n",
    "}\n",
    "\n",
    "# Make the request using requests.get, passing in\n",
    "# url, headers=headers, and params=url_params\n",
    "response = requests.get(url, headers = headers, params = url_params)\n",
    "\n",
    "# Confirm we got a 200 response\n",
    "print(response)\n",
    "print(type(response.text))\n",
    "print(response.text[:1000])"
   ]
  },
  {
   "cell_type": "code",
   "execution_count": 2,
   "metadata": {},
   "outputs": [
    {
     "data": {
      "text/plain": [
       "dict_keys(['businesses', 'total', 'region'])"
      ]
     },
     "execution_count": 2,
     "metadata": {},
     "output_type": "execute_result"
    }
   ],
   "source": [
    "# Run this cell without changes\n",
    "\n",
    "# Get the response body in JSON format\n",
    "response_json = response.json()\n",
    "# View the keys\n",
    "response_json.keys()"
   ]
  },
  {
   "cell_type": "markdown",
   "metadata": {},
   "source": [
    "## Extracting Data\n",
    "\n",
    "Now, retrieve the value associated with the `'businesses'` key, and inspect its contents."
   ]
  },
  {
   "cell_type": "code",
   "execution_count": 3,
   "metadata": {},
   "outputs": [
    {
     "name": "stdout",
     "output_type": "stream",
     "text": [
      "There are 20 businesses in this response\n"
     ]
    },
    {
     "data": {
      "text/plain": [
       "[{'id': 'zj8Lq1T8KIC5zwFief15jg',\n",
       "  'alias': 'prince-street-pizza-new-york-2',\n",
       "  'name': 'Prince Street Pizza',\n",
       "  'image_url': 'https://s3-media3.fl.yelpcdn.com/bphoto/ZAukOyv530w4KjOHC5YY1w/o.jpg',\n",
       "  'is_closed': False,\n",
       "  'url': 'https://www.yelp.com/biz/prince-street-pizza-new-york-2?adjust_creative=NtcFoooAs9UikH5GiAnG7g&utm_campaign=yelp_api_v3&utm_medium=api_v3_business_search&utm_source=NtcFoooAs9UikH5GiAnG7g',\n",
       "  'review_count': 3936,\n",
       "  'categories': [{'alias': 'pizza', 'title': 'Pizza'},\n",
       "   {'alias': 'italian', 'title': 'Italian'}],\n",
       "  'rating': 4.5,\n",
       "  'coordinates': {'latitude': 40.72308755605564,\n",
       "   'longitude': -73.99453001177575},\n",
       "  'transactions': ['delivery', 'pickup'],\n",
       "  'price': '$',\n",
       "  'location': {'address1': '27 Prince St',\n",
       "   'address2': None,\n",
       "   'address3': '',\n",
       "   'city': 'New York',\n",
       "   'zip_code': '10012',\n",
       "   'country': 'US',\n",
       "   'state': 'NY',\n",
       "   'display_address': ['27 Prince St', 'New York, NY 10012']},\n",
       "  'phone': '+12129664100',\n",
       "  'display_phone': '(212) 966-4100',\n",
       "  'distance': 1961.8771417367063},\n",
       " {'id': 'ysqgdbSrezXgVwER2kQWKA',\n",
       "  'alias': 'julianas-brooklyn-3',\n",
       "  'name': \"Juliana's\",\n",
       "  'image_url': 'https://s3-media2.fl.yelpcdn.com/bphoto/clscwgOF9_Ecq-Rwsq7jyQ/o.jpg',\n",
       "  'is_closed': False,\n",
       "  'url': 'https://www.yelp.com/biz/julianas-brooklyn-3?adjust_creative=NtcFoooAs9UikH5GiAnG7g&utm_campaign=yelp_api_v3&utm_medium=api_v3_business_search&utm_source=NtcFoooAs9UikH5GiAnG7g',\n",
       "  'review_count': 2339,\n",
       "  'categories': [{'alias': 'pizza', 'title': 'Pizza'}],\n",
       "  'rating': 4.5,\n",
       "  'coordinates': {'latitude': 40.70274718768062,\n",
       "   'longitude': -73.99343490196397},\n",
       "  'transactions': ['delivery'],\n",
       "  'price': '$$',\n",
       "  'location': {'address1': '19 Old Fulton St',\n",
       "   'address2': '',\n",
       "   'address3': '',\n",
       "   'city': 'Brooklyn',\n",
       "   'zip_code': '11201',\n",
       "   'country': 'US',\n",
       "   'state': 'NY',\n",
       "   'display_address': ['19 Old Fulton St', 'Brooklyn, NY 11201']},\n",
       "  'phone': '+17185966700',\n",
       "  'display_phone': '(718) 596-6700',\n",
       "  'distance': 308.56984360837544}]"
      ]
     },
     "execution_count": 3,
     "metadata": {},
     "output_type": "execute_result"
    }
   ],
   "source": [
    "# Replace None with appropriate code\n",
    "\n",
    "# Retrieve the value from response_json\n",
    "businesses = response_json['businesses']\n",
    "\n",
    "# View number of records\n",
    "print(f\"There are {len(businesses)} businesses in this response\")\n",
    "\n",
    "# View the first 2 records\n",
    "businesses[:2]"
   ]
  },
  {
   "cell_type": "markdown",
   "metadata": {},
   "source": [
    "# 2. Add Pagination\n",
    "\n",
    "Now that you are able to get one set of responses, known as a **page**, let's figure out how to request as many pages as possible.\n",
    "\n",
    "## Technical Details\n",
    "\n",
    "Returning to the Yelp API, the [documentation](https://www.yelp.com/developers/documentation/v3/business_search) also provides us details regarding the **API limits**. These often include details about the number of requests a user is allowed to make within a specified time limit and the maximum number of results to be returned. In this case, we are told that any request has a **maximum of 50 results per request** and defaults to 20. Furthermore, any search will be limited to a **total of 1000 results**. To retrieve all 1000 of these results, we would have to page through the results piece by piece, retrieving 50 at a time. Processes such as these are often referred to as pagination.\n",
    "\n",
    "Also, be mindful of the **API** ***rate*** **limits**. You can only make **5000 requests per day** and are also can make requests too fast. Start prototyping small before running a loop that could be faulty. You can also use `time.sleep(n)` to add delays. For more details see https://www.yelp.com/developers/documentation/v3/rate_limiting.\n",
    "\n",
    "In this lab, you will define a search and then paginate over the results to retrieve all of the results. You'll then parse these responses as a list of dictionaries (for further exploration) and create a map using Folium to visualize the results geographically.\n",
    "\n",
    "## Determining the Total\n",
    "\n",
    "Depending on the number of total results for your query, you will either retrieve all of the results, or just the first 1000 (if there are more than 1000 total).\n",
    "\n",
    "We can find the total number of results using the `\"total\"` key:"
   ]
  },
  {
   "cell_type": "code",
   "execution_count": 4,
   "metadata": {},
   "outputs": [
    {
     "data": {
      "text/plain": [
       "11800"
      ]
     },
     "execution_count": 4,
     "metadata": {},
     "output_type": "execute_result"
    }
   ],
   "source": [
    "# Run this cell without changes\n",
    "response_json[\"total\"]"
   ]
  },
  {
   "cell_type": "markdown",
   "metadata": {},
   "source": [
    "(This is specific to the implementation of the Yelp API. Some APIs will just tell you that there are more pages, or will tell you the number of pages total, rather than the total number of results. If you're not sure, always check the documentation.)\n",
    "\n",
    "In the cell below, assign the variable `total` to either the value shown above (if it is less than 1000), or 1000."
   ]
  },
  {
   "cell_type": "code",
   "execution_count": 5,
   "metadata": {},
   "outputs": [
    {
     "data": {
      "text/plain": [
       "1000"
      ]
     },
     "execution_count": 5,
     "metadata": {},
     "output_type": "execute_result"
    }
   ],
   "source": [
    "# Replace None with appropriate code\n",
    "if response_json['total'] < 1000:\n",
    "    total = response_json['total']\n",
    "else:\n",
    "    total = 1000\n",
    "\n",
    "total "
   ]
  },
  {
   "cell_type": "markdown",
   "metadata": {},
   "source": [
    "### Calculating the Offsets\n",
    "\n",
    "The documentation states in the parameters section:\n",
    "\n",
    "> **Name**: `limit`, **Type:** int, **Description:** Optional. Number of business results to return. By default, it will return 20. Maximum is 50.\n",
    "\n",
    "> **Name**: `offset`, **Type:** int, **Description:** Optional. Offset the list of returned business results by this amount.\n",
    "\n",
    "So, to get the most results with the fewest API calls we want to set a limit of 50 every time. If, say, we wanted to get 210 total results, that would mean:\n",
    "\n",
    "1. Offset of `0` (first 50 records)\n",
    "2. Offset of `50` (second 50 records)\n",
    "3. Offset of `100` (third 50 records)\n",
    "4. Offset of `150` (fourth 50 records)\n",
    "5. Offset of `200` (final 10 records)\n",
    "\n",
    "In the cell below, create a function `get_offsets` that takes in a total and returns a list of offsets for that total. You can assume that there is a limit of 50 every time.\n",
    "\n",
    "*Hint: you can use `range` ([documentation here](https://docs.python.org/3.3/library/stdtypes.html?highlight=range#range)) to do this in one line of code. Just make the returned result is a list.*"
   ]
  },
  {
   "cell_type": "code",
   "execution_count": 6,
   "metadata": {},
   "outputs": [],
   "source": [
    "# Replace None with appropriate code\n",
    "def get_offsets(total):\n",
    "    \"\"\"\n",
    "    Get a list of offsets needed to get all pages\n",
    "    of data up until the total\n",
    "    \"\"\"\n",
    "    return list(range(0, total, 50))"
   ]
  },
  {
   "cell_type": "code",
   "execution_count": 7,
   "metadata": {},
   "outputs": [
    {
     "data": {
      "text/plain": [
       "[0,\n",
       " 50,\n",
       " 100,\n",
       " 150,\n",
       " 200,\n",
       " 250,\n",
       " 300,\n",
       " 350,\n",
       " 400,\n",
       " 450,\n",
       " 500,\n",
       " 550,\n",
       " 600,\n",
       " 650,\n",
       " 700,\n",
       " 750,\n",
       " 800,\n",
       " 850,\n",
       " 900,\n",
       " 950]"
      ]
     },
     "execution_count": 7,
     "metadata": {},
     "output_type": "execute_result"
    }
   ],
   "source": [
    "get_offsets(1000)"
   ]
  },
  {
   "cell_type": "markdown",
   "metadata": {},
   "source": [
    "Check that your function works below:"
   ]
  },
  {
   "cell_type": "code",
   "execution_count": 8,
   "metadata": {},
   "outputs": [],
   "source": [
    "# Run this cell without changes\n",
    "\n",
    "assert get_offsets(200) == [0, 50, 100, 150]\n",
    "assert get_offsets(210) == [0, 50, 100, 150, 200]"
   ]
  },
  {
   "cell_type": "markdown",
   "metadata": {},
   "source": [
    "### Putting It All Together\n",
    "\n",
    "Recall that the following variable has already been declared for you:"
   ]
  },
  {
   "cell_type": "code",
   "execution_count": 9,
   "metadata": {},
   "outputs": [
    {
     "data": {
      "text/plain": [
       "{'term': 'pizza', 'location': 'New+York+NY'}"
      ]
     },
     "execution_count": 9,
     "metadata": {},
     "output_type": "execute_result"
    }
   ],
   "source": [
    "# Run this cell without changes\n",
    "url_params"
   ]
  },
  {
   "cell_type": "markdown",
   "metadata": {},
   "source": [
    "We'll go ahead and also specify that the limit should be 50 every time:"
   ]
  },
  {
   "cell_type": "code",
   "execution_count": 10,
   "metadata": {},
   "outputs": [],
   "source": [
    "# Run this cell without changes\n",
    "url_params[\"limit\"] = 50"
   ]
  },
  {
   "cell_type": "markdown",
   "metadata": {},
   "source": [
    "In order to modify the offset, you'll need to add it to `url_params` with the key `\"offset\"` and whatever value is needed.\n",
    "\n",
    "In the cell below, write code that:\n",
    "\n",
    "* Creates an empty list for the full prepared dataset\n",
    "* Loops over all of the offsets from `get_offsets` and makes an API call each time with the specified offset\n",
    "* Extends the full dataset list with each query's dataset"
   ]
  },
  {
   "cell_type": "code",
   "execution_count": 11,
   "metadata": {},
   "outputs": [
    {
     "data": {
      "text/plain": [
       "1000"
      ]
     },
     "execution_count": 11,
     "metadata": {},
     "output_type": "execute_result"
    }
   ],
   "source": [
    "# Replace None with appropriate code\n",
    "\n",
    "# Create an empty list for the full prepared dataset\n",
    "full_dataset = []\n",
    "\n",
    "for offset in get_offsets(total):\n",
    "    # Add or update the \"offset\" key-value pair in url_params\n",
    "    url_params['offset'] = offset\n",
    "    \n",
    "    # Make the query and get the response\n",
    "    response = requests.get(url, headers=headers, params=url_params)\n",
    "    \n",
    "    # Get the response body in JSON format\n",
    "    response_json = response.json()\n",
    "    \n",
    "    # Get the list of businesses from the response_json\n",
    "    businesses = response_json['businesses']\n",
    "    \n",
    "    # Extend full_dataset with this list (don't append, or you'll get\n",
    "    # a list of lists instead of a flat list)\n",
    "    full_dataset.extend(businesses)\n",
    "\n",
    "# Check the length of the full dataset. It will be up to `total`,\n",
    "# potentially less if there were missing values\n",
    "len(full_dataset)"
   ]
  },
  {
   "cell_type": "markdown",
   "metadata": {},
   "source": [
    "This code may take up to a few minutes to run.\n",
    "\n",
    "If you get an error trying to get the response body in JSON format, try adding `time.sleep(1)` right after the `requests.get` line, so your code will sleep for 1 second between each API call."
   ]
  },
  {
   "cell_type": "markdown",
   "metadata": {},
   "source": [
    "# 3. Prepare Data\n",
    "\n",
    "Now that we have all of our data, let's prepare it for analysis. It can be helpful to start this process by inspecting the raw data."
   ]
  },
  {
   "cell_type": "code",
   "execution_count": 12,
   "metadata": {},
   "outputs": [
    {
     "data": {
      "text/plain": [
       "[{'id': 'zj8Lq1T8KIC5zwFief15jg',\n",
       "  'alias': 'prince-street-pizza-new-york-2',\n",
       "  'name': 'Prince Street Pizza',\n",
       "  'image_url': 'https://s3-media3.fl.yelpcdn.com/bphoto/ZAukOyv530w4KjOHC5YY1w/o.jpg',\n",
       "  'is_closed': False,\n",
       "  'url': 'https://www.yelp.com/biz/prince-street-pizza-new-york-2?adjust_creative=NtcFoooAs9UikH5GiAnG7g&utm_campaign=yelp_api_v3&utm_medium=api_v3_business_search&utm_source=NtcFoooAs9UikH5GiAnG7g',\n",
       "  'review_count': 3936,\n",
       "  'categories': [{'alias': 'pizza', 'title': 'Pizza'},\n",
       "   {'alias': 'italian', 'title': 'Italian'}],\n",
       "  'rating': 4.5,\n",
       "  'coordinates': {'latitude': 40.72308755605564,\n",
       "   'longitude': -73.99453001177575},\n",
       "  'transactions': ['pickup', 'delivery'],\n",
       "  'price': '$',\n",
       "  'location': {'address1': '27 Prince St',\n",
       "   'address2': None,\n",
       "   'address3': '',\n",
       "   'city': 'New York',\n",
       "   'zip_code': '10012',\n",
       "   'country': 'US',\n",
       "   'state': 'NY',\n",
       "   'display_address': ['27 Prince St', 'New York, NY 10012']},\n",
       "  'phone': '+12129664100',\n",
       "  'display_phone': '(212) 966-4100',\n",
       "  'distance': 1961.8771417367063},\n",
       " {'id': 'ysqgdbSrezXgVwER2kQWKA',\n",
       "  'alias': 'julianas-brooklyn-3',\n",
       "  'name': \"Juliana's\",\n",
       "  'image_url': 'https://s3-media2.fl.yelpcdn.com/bphoto/clscwgOF9_Ecq-Rwsq7jyQ/o.jpg',\n",
       "  'is_closed': False,\n",
       "  'url': 'https://www.yelp.com/biz/julianas-brooklyn-3?adjust_creative=NtcFoooAs9UikH5GiAnG7g&utm_campaign=yelp_api_v3&utm_medium=api_v3_business_search&utm_source=NtcFoooAs9UikH5GiAnG7g',\n",
       "  'review_count': 2339,\n",
       "  'categories': [{'alias': 'pizza', 'title': 'Pizza'}],\n",
       "  'rating': 4.5,\n",
       "  'coordinates': {'latitude': 40.70274718768062,\n",
       "   'longitude': -73.99343490196397},\n",
       "  'transactions': ['delivery'],\n",
       "  'price': '$$',\n",
       "  'location': {'address1': '19 Old Fulton St',\n",
       "   'address2': '',\n",
       "   'address3': '',\n",
       "   'city': 'Brooklyn',\n",
       "   'zip_code': '11201',\n",
       "   'country': 'US',\n",
       "   'state': 'NY',\n",
       "   'display_address': ['19 Old Fulton St', 'Brooklyn, NY 11201']},\n",
       "  'phone': '+17185966700',\n",
       "  'display_phone': '(718) 596-6700',\n",
       "  'distance': 308.56984360837544}]"
      ]
     },
     "execution_count": 12,
     "metadata": {},
     "output_type": "execute_result"
    }
   ],
   "source": [
    "# Run this cell without changes\n",
    "\n",
    "# View the first 2 records\n",
    "full_dataset[:2]"
   ]
  },
  {
   "cell_type": "markdown",
   "metadata": {},
   "source": [
    "Write a function `prepare_data` that takes in a list of dictionaries like `businesses` and returns a copy that has been prepared for analysis:\n",
    "\n",
    "1. The `coordinates` key-value pair has been converted into two separate key-value pairs, `latitude` and `longitude`\n",
    "2. All other key-value pairs except for `name`, `review_count`, `rating`, and `price` have been dropped\n",
    "3. All dictionaries missing one of the relevant keys or containing null values have been dropped\n",
    "\n",
    "In other words, the final keys for each dictionary should be `name`, `review_count`, `rating`, `price`, `latitude`, and `longitude`.\n",
    "\n",
    "Complete the function in the cell below:"
   ]
  },
  {
   "cell_type": "code",
   "execution_count": 13,
   "metadata": {},
   "outputs": [
    {
     "data": {
      "text/plain": [
       "dict_keys(['id', 'alias', 'name', 'image_url', 'is_closed', 'url', 'review_count', 'categories', 'rating', 'coordinates', 'transactions', 'price', 'location', 'phone', 'display_phone', 'distance'])"
      ]
     },
     "execution_count": 13,
     "metadata": {},
     "output_type": "execute_result"
    }
   ],
   "source": [
    "full_dataset[1].keys()"
   ]
  },
  {
   "cell_type": "code",
   "execution_count": 14,
   "metadata": {},
   "outputs": [
    {
     "data": {
      "text/plain": [
       "dict_items([('id', 'ysqgdbSrezXgVwER2kQWKA'), ('alias', 'julianas-brooklyn-3'), ('name', \"Juliana's\"), ('image_url', 'https://s3-media2.fl.yelpcdn.com/bphoto/clscwgOF9_Ecq-Rwsq7jyQ/o.jpg'), ('is_closed', False), ('url', 'https://www.yelp.com/biz/julianas-brooklyn-3?adjust_creative=NtcFoooAs9UikH5GiAnG7g&utm_campaign=yelp_api_v3&utm_medium=api_v3_business_search&utm_source=NtcFoooAs9UikH5GiAnG7g'), ('review_count', 2339), ('categories', [{'alias': 'pizza', 'title': 'Pizza'}]), ('rating', 4.5), ('coordinates', {'latitude': 40.70274718768062, 'longitude': -73.99343490196397}), ('transactions', ['delivery']), ('price', '$$'), ('location', {'address1': '19 Old Fulton St', 'address2': '', 'address3': '', 'city': 'Brooklyn', 'zip_code': '11201', 'country': 'US', 'state': 'NY', 'display_address': ['19 Old Fulton St', 'Brooklyn, NY 11201']}), ('phone', '+17185966700'), ('display_phone', '(718) 596-6700'), ('distance', 308.56984360837544)])"
      ]
     },
     "execution_count": 14,
     "metadata": {},
     "output_type": "execute_result"
    }
   ],
   "source": [
    "full_dataset[1].items()"
   ]
  },
  {
   "cell_type": "code",
   "execution_count": 15,
   "metadata": {},
   "outputs": [
    {
     "data": {
      "text/plain": [
       "[{'name': 'Prince Street Pizza',\n",
       "  'review_count': 3936,\n",
       "  'rating': 4.5,\n",
       "  'price': '$',\n",
       "  'latitude': 40.72308755605564,\n",
       "  'longitude': -73.99453001177575},\n",
       " {'name': \"Juliana's\",\n",
       "  'review_count': 2339,\n",
       "  'rating': 4.5,\n",
       "  'price': '$$',\n",
       "  'latitude': 40.70274718768062,\n",
       "  'longitude': -73.99343490196397},\n",
       " {'name': \"Lombardi's Pizza\",\n",
       "  'review_count': 6179,\n",
       "  'rating': 4.0,\n",
       "  'price': '$$',\n",
       "  'latitude': 40.7215934960083,\n",
       "  'longitude': -73.9955956044561},\n",
       " {'name': 'Lucali',\n",
       "  'review_count': 1697,\n",
       "  'rating': 4.0,\n",
       "  'price': '$$',\n",
       "  'latitude': 40.6818,\n",
       "  'longitude': -74.00024},\n",
       " {'name': 'Rubirosa',\n",
       "  'review_count': 2421,\n",
       "  'rating': 4.5,\n",
       "  'price': '$$',\n",
       "  'latitude': 40.722766,\n",
       "  'longitude': -73.996233}]"
      ]
     },
     "execution_count": 15,
     "metadata": {},
     "output_type": "execute_result"
    }
   ],
   "source": [
    "# Replace None with appropriate code\n",
    "import pandas as pd\n",
    "\n",
    "def prepare_data(data_list):\n",
    "    \"\"\"\n",
    "    This function takes in a list of dictionaries and prepares it\n",
    "    for analysis\n",
    "    \"\"\"\n",
    "    \n",
    "    # Make a new list to hold results\n",
    "    results = []\n",
    "    \n",
    "    for business_data in data_list:\n",
    "    \n",
    "        # Make a new dictionary to hold prepared data for this business\n",
    "        prepared_data = {}\n",
    "        \n",
    "        # Extract name, review_count, rating, and price key-value pairs\n",
    "        # from business_data and add to prepared_data\n",
    "        # If a key is not present in business_data, add it to prepared_data\n",
    "        # with an associated value of None\n",
    "        for k in ['name','review_count','rating','price']:\n",
    "            if k in business_data:\n",
    "                prepared_data[k] = business_data[k]\n",
    "            else:\n",
    "                prepared_data[k] = None\n",
    "        \n",
    "        # Parse and add latitude and longitude columns\n",
    "        prepared_data['latitude']= business_data['coordinates']['latitude']\n",
    "        prepared_data['longitude']= business_data['coordinates']['longitude']\n",
    "        \n",
    "        # Add to list if all values are present\n",
    "        if all(prepared_data.values()):\n",
    "            results.append(prepared_data)\n",
    "    \n",
    "    return results\n",
    "\n",
    "# Test out function\n",
    "prepared_businesses = prepare_data(full_dataset)\n",
    "prepared_businesses[:5]\n"
   ]
  },
  {
   "cell_type": "markdown",
   "metadata": {},
   "source": [
    "Check that your function created the correct keys:"
   ]
  },
  {
   "cell_type": "code",
   "execution_count": 16,
   "metadata": {},
   "outputs": [],
   "source": [
    "# Run this cell without changes\n",
    "\n",
    "assert sorted(list(prepared_businesses[0].keys())) == ['latitude', 'longitude', 'name', 'price', 'rating', 'review_count']"
   ]
  },
  {
   "cell_type": "markdown",
   "metadata": {},
   "source": [
    "The following code will differ depending on your query, but there may be fewer results in the prepared list than in the full dataset (if any of them were missing data):"
   ]
  },
  {
   "cell_type": "code",
   "execution_count": 17,
   "metadata": {},
   "outputs": [
    {
     "name": "stdout",
     "output_type": "stream",
     "text": [
      "Original: 1000\n",
      "Prepared: 785\n"
     ]
    }
   ],
   "source": [
    "# Run this cell without changes\n",
    "print(\"Original:\", len(full_dataset))\n",
    "print(\"Prepared:\", len(prepared_businesses))"
   ]
  },
  {
   "cell_type": "markdown",
   "metadata": {},
   "source": [
    "Great! Now let's create a DataFrame to hold our data - this will make our cleaning and analysis easier."
   ]
  },
  {
   "cell_type": "code",
   "execution_count": 18,
   "metadata": {},
   "outputs": [
    {
     "name": "stdout",
     "output_type": "stream",
     "text": [
      "(785, 6)\n"
     ]
    },
    {
     "data": {
      "text/html": [
       "<div>\n",
       "<style scoped>\n",
       "    .dataframe tbody tr th:only-of-type {\n",
       "        vertical-align: middle;\n",
       "    }\n",
       "\n",
       "    .dataframe tbody tr th {\n",
       "        vertical-align: top;\n",
       "    }\n",
       "\n",
       "    .dataframe thead th {\n",
       "        text-align: right;\n",
       "    }\n",
       "</style>\n",
       "<table border=\"1\" class=\"dataframe\">\n",
       "  <thead>\n",
       "    <tr style=\"text-align: right;\">\n",
       "      <th></th>\n",
       "      <th>name</th>\n",
       "      <th>review_count</th>\n",
       "      <th>rating</th>\n",
       "      <th>price</th>\n",
       "      <th>latitude</th>\n",
       "      <th>longitude</th>\n",
       "    </tr>\n",
       "  </thead>\n",
       "  <tbody>\n",
       "    <tr>\n",
       "      <th>0</th>\n",
       "      <td>Prince Street Pizza</td>\n",
       "      <td>3936</td>\n",
       "      <td>4.5</td>\n",
       "      <td>$</td>\n",
       "      <td>40.723088</td>\n",
       "      <td>-73.994530</td>\n",
       "    </tr>\n",
       "    <tr>\n",
       "      <th>1</th>\n",
       "      <td>Juliana's</td>\n",
       "      <td>2339</td>\n",
       "      <td>4.5</td>\n",
       "      <td>$$</td>\n",
       "      <td>40.702747</td>\n",
       "      <td>-73.993435</td>\n",
       "    </tr>\n",
       "    <tr>\n",
       "      <th>2</th>\n",
       "      <td>Lombardi's Pizza</td>\n",
       "      <td>6179</td>\n",
       "      <td>4.0</td>\n",
       "      <td>$$</td>\n",
       "      <td>40.721593</td>\n",
       "      <td>-73.995596</td>\n",
       "    </tr>\n",
       "    <tr>\n",
       "      <th>3</th>\n",
       "      <td>Lucali</td>\n",
       "      <td>1697</td>\n",
       "      <td>4.0</td>\n",
       "      <td>$$</td>\n",
       "      <td>40.681800</td>\n",
       "      <td>-74.000240</td>\n",
       "    </tr>\n",
       "    <tr>\n",
       "      <th>4</th>\n",
       "      <td>Rubirosa</td>\n",
       "      <td>2421</td>\n",
       "      <td>4.5</td>\n",
       "      <td>$$</td>\n",
       "      <td>40.722766</td>\n",
       "      <td>-73.996233</td>\n",
       "    </tr>\n",
       "  </tbody>\n",
       "</table>\n",
       "</div>"
      ],
      "text/plain": [
       "                  name  review_count  rating price   latitude  longitude\n",
       "0  Prince Street Pizza          3936     4.5     $  40.723088 -73.994530\n",
       "1            Juliana's          2339     4.5    $$  40.702747 -73.993435\n",
       "2     Lombardi's Pizza          6179     4.0    $$  40.721593 -73.995596\n",
       "3               Lucali          1697     4.0    $$  40.681800 -74.000240\n",
       "4             Rubirosa          2421     4.5    $$  40.722766 -73.996233"
      ]
     },
     "execution_count": 18,
     "metadata": {},
     "output_type": "execute_result"
    }
   ],
   "source": [
    "# Replace None with appropriate code\n",
    "\n",
    "# Import pandas\n",
    "import pandas as pd\n",
    "\n",
    "# Create DataFrame from prepared business data\n",
    "business_df = pd.DataFrame(prepared_businesses)\n",
    "\n",
    "# Inspect the DataFrame\n",
    "print(business_df.shape)\n",
    "business_df.head()"
   ]
  },
  {
   "cell_type": "markdown",
   "metadata": {},
   "source": [
    "To make analysis of prices easier, let's convert `price` to a numeric value indicating the number of dollar signs."
   ]
  },
  {
   "cell_type": "code",
   "execution_count": 19,
   "metadata": {},
   "outputs": [
    {
     "data": {
      "text/html": [
       "<div>\n",
       "<style scoped>\n",
       "    .dataframe tbody tr th:only-of-type {\n",
       "        vertical-align: middle;\n",
       "    }\n",
       "\n",
       "    .dataframe tbody tr th {\n",
       "        vertical-align: top;\n",
       "    }\n",
       "\n",
       "    .dataframe thead th {\n",
       "        text-align: right;\n",
       "    }\n",
       "</style>\n",
       "<table border=\"1\" class=\"dataframe\">\n",
       "  <thead>\n",
       "    <tr style=\"text-align: right;\">\n",
       "      <th></th>\n",
       "      <th>name</th>\n",
       "      <th>review_count</th>\n",
       "      <th>rating</th>\n",
       "      <th>price</th>\n",
       "      <th>latitude</th>\n",
       "      <th>longitude</th>\n",
       "    </tr>\n",
       "  </thead>\n",
       "  <tbody>\n",
       "    <tr>\n",
       "      <th>0</th>\n",
       "      <td>Prince Street Pizza</td>\n",
       "      <td>3936</td>\n",
       "      <td>4.5</td>\n",
       "      <td>1</td>\n",
       "      <td>40.723088</td>\n",
       "      <td>-73.994530</td>\n",
       "    </tr>\n",
       "    <tr>\n",
       "      <th>1</th>\n",
       "      <td>Juliana's</td>\n",
       "      <td>2339</td>\n",
       "      <td>4.5</td>\n",
       "      <td>2</td>\n",
       "      <td>40.702747</td>\n",
       "      <td>-73.993435</td>\n",
       "    </tr>\n",
       "    <tr>\n",
       "      <th>2</th>\n",
       "      <td>Lombardi's Pizza</td>\n",
       "      <td>6179</td>\n",
       "      <td>4.0</td>\n",
       "      <td>2</td>\n",
       "      <td>40.721593</td>\n",
       "      <td>-73.995596</td>\n",
       "    </tr>\n",
       "    <tr>\n",
       "      <th>3</th>\n",
       "      <td>Lucali</td>\n",
       "      <td>1697</td>\n",
       "      <td>4.0</td>\n",
       "      <td>2</td>\n",
       "      <td>40.681800</td>\n",
       "      <td>-74.000240</td>\n",
       "    </tr>\n",
       "    <tr>\n",
       "      <th>4</th>\n",
       "      <td>Rubirosa</td>\n",
       "      <td>2421</td>\n",
       "      <td>4.5</td>\n",
       "      <td>2</td>\n",
       "      <td>40.722766</td>\n",
       "      <td>-73.996233</td>\n",
       "    </tr>\n",
       "  </tbody>\n",
       "</table>\n",
       "</div>"
      ],
      "text/plain": [
       "                  name  review_count  rating  price   latitude  longitude\n",
       "0  Prince Street Pizza          3936     4.5      1  40.723088 -73.994530\n",
       "1            Juliana's          2339     4.5      2  40.702747 -73.993435\n",
       "2     Lombardi's Pizza          6179     4.0      2  40.721593 -73.995596\n",
       "3               Lucali          1697     4.0      2  40.681800 -74.000240\n",
       "4             Rubirosa          2421     4.5      2  40.722766 -73.996233"
      ]
     },
     "execution_count": 19,
     "metadata": {},
     "output_type": "execute_result"
    }
   ],
   "source": [
    "# Replace None with appropriate code\n",
    "\n",
    "# Convert price to numeric\n",
    "business_df[\"price\"] = business_df[\"price\"].str.len()\n",
    "business_df.head()"
   ]
  },
  {
   "cell_type": "code",
   "execution_count": 20,
   "metadata": {},
   "outputs": [
    {
     "name": "stdout",
     "output_type": "stream",
     "text": [
      "Data Type info:\n",
      "name             object\n",
      "review_count      int64\n",
      "rating          float64\n",
      "price             int64\n",
      "latitude        float64\n",
      "longitude       float64\n",
      "dtype: object\n"
     ]
    }
   ],
   "source": [
    "print('Data Type info:')\n",
    "print(business_df.dtypes)"
   ]
  },
  {
   "cell_type": "markdown",
   "metadata": {},
   "source": [
    "# 4. Perform Descriptive Analysis\n",
    "\n",
    "## Descriptive Statistics\n",
    "\n",
    "Take the businesses from the previous question and do an initial descriptive analysis. Calculate summary statistics for the review counts, average rating, and price."
   ]
  },
  {
   "cell_type": "code",
   "execution_count": 21,
   "metadata": {},
   "outputs": [
    {
     "data": {
      "text/html": [
       "<div>\n",
       "<style scoped>\n",
       "    .dataframe tbody tr th:only-of-type {\n",
       "        vertical-align: middle;\n",
       "    }\n",
       "\n",
       "    .dataframe tbody tr th {\n",
       "        vertical-align: top;\n",
       "    }\n",
       "\n",
       "    .dataframe thead th {\n",
       "        text-align: right;\n",
       "    }\n",
       "</style>\n",
       "<table border=\"1\" class=\"dataframe\">\n",
       "  <thead>\n",
       "    <tr style=\"text-align: right;\">\n",
       "      <th></th>\n",
       "      <th>review_count</th>\n",
       "      <th>rating</th>\n",
       "      <th>price</th>\n",
       "    </tr>\n",
       "  </thead>\n",
       "  <tbody>\n",
       "    <tr>\n",
       "      <th>count</th>\n",
       "      <td>785.00</td>\n",
       "      <td>785.00</td>\n",
       "      <td>785.00</td>\n",
       "    </tr>\n",
       "    <tr>\n",
       "      <th>mean</th>\n",
       "      <td>449.28</td>\n",
       "      <td>3.91</td>\n",
       "      <td>1.65</td>\n",
       "    </tr>\n",
       "    <tr>\n",
       "      <th>std</th>\n",
       "      <td>746.10</td>\n",
       "      <td>0.45</td>\n",
       "      <td>0.62</td>\n",
       "    </tr>\n",
       "    <tr>\n",
       "      <th>min</th>\n",
       "      <td>1.00</td>\n",
       "      <td>2.00</td>\n",
       "      <td>1.00</td>\n",
       "    </tr>\n",
       "    <tr>\n",
       "      <th>25%</th>\n",
       "      <td>118.00</td>\n",
       "      <td>3.50</td>\n",
       "      <td>1.00</td>\n",
       "    </tr>\n",
       "    <tr>\n",
       "      <th>50%</th>\n",
       "      <td>239.00</td>\n",
       "      <td>4.00</td>\n",
       "      <td>2.00</td>\n",
       "    </tr>\n",
       "    <tr>\n",
       "      <th>75%</th>\n",
       "      <td>475.00</td>\n",
       "      <td>4.00</td>\n",
       "      <td>2.00</td>\n",
       "    </tr>\n",
       "    <tr>\n",
       "      <th>max</th>\n",
       "      <td>9638.00</td>\n",
       "      <td>5.00</td>\n",
       "      <td>4.00</td>\n",
       "    </tr>\n",
       "  </tbody>\n",
       "</table>\n",
       "</div>"
      ],
      "text/plain": [
       "       review_count  rating   price\n",
       "count        785.00  785.00  785.00\n",
       "mean         449.28    3.91    1.65\n",
       "std          746.10    0.45    0.62\n",
       "min            1.00    2.00    1.00\n",
       "25%          118.00    3.50    1.00\n",
       "50%          239.00    4.00    2.00\n",
       "75%          475.00    4.00    2.00\n",
       "max         9638.00    5.00    4.00"
      ]
     },
     "execution_count": 21,
     "metadata": {},
     "output_type": "execute_result"
    }
   ],
   "source": [
    "# Replace None with appropriate code\n",
    "\n",
    "# Calculate summary statistics for the review counts, average rating, and price\n",
    "business_df[['review_count','rating','price']] .describe().round(2)"
   ]
  },
  {
   "cell_type": "markdown",
   "metadata": {},
   "source": [
    "Describe the results displayed above and interpret them in the context of your query. (Your answer may differ from the solution branch depending on your query.)"
   ]
  },
  {
   "cell_type": "code",
   "execution_count": 22,
   "metadata": {},
   "outputs": [
    {
     "name": "stdout",
     "output_type": "stream",
     "text": [
      "\n",
      "After removing the missing data, we have a selection of 792 restaurant reviews for pizza in New York.\n",
      "  The average rating is 3.91 out of 5\n",
      "  The average price is 1.65$ out of 4$\n",
      "  There are 446.68 reviews on average for each restaurant\n",
      "  The maximium reviews of the restaurants is 9638 while median review count is only 238.5, the quantiles and mean also tells us there are some outliers with very large number of reviews.\n",
      "\n"
     ]
    }
   ],
   "source": [
    "# Replace None with appropriate text\n",
    "print(\"\"\"\n",
    "After removing the missing data, we have a selection of 792 restaurant reviews for pizza in New York.\n",
    "  The average rating is 3.91 out of 5\n",
    "  The average price is 1.65$ out of 4$\n",
    "  There are 446.68 reviews on average for each restaurant\n",
    "  The maximium reviews of the restaurants is 9638 while median review count is only 238.5, the quantiles and mean also tells us there are some outliers with very large number of reviews.\n",
    "\"\"\")"
   ]
  },
  {
   "cell_type": "markdown",
   "metadata": {},
   "source": [
    "## Histograms\n",
    "\n",
    "Create histograms for the review counts, average rating, and price."
   ]
  },
  {
   "cell_type": "code",
   "execution_count": 23,
   "metadata": {},
   "outputs": [
    {
     "data": {
      "text/plain": [
       "Text(0, 0.5, 'Number of Restaurants')"
      ]
     },
     "execution_count": 23,
     "metadata": {},
     "output_type": "execute_result"
    },
    {
     "data": {
      "image/png": "[encoded data removed]",
      "text/plain": [
       "<Figure size 1152x360 with 3 Axes>"
      ]
     },
     "metadata": {
      "needs_background": "light"
     },
     "output_type": "display_data"
    }
   ],
   "source": [
    "# Replace None with your code\n",
    "import matplotlib.pyplot as plt\n",
    "%matplotlib inline\n",
    "\n",
    "\n",
    "fig, (ax1, ax2, ax3) = plt.subplots(ncols=3, figsize=(16, 5))\n",
    "\n",
    "# Plot distribution of number of reviews per business\n",
    "all_review_counts = ax1.hist(business_df['review_count'],bins=50, color = \"forestgreen\")\n",
    "\n",
    "ax1.set_title('Review Counts')\n",
    "ax1.set_xlabel('Number of Reviews')\n",
    "ax1.set_ylabel('Number of Restaurants')\n",
    "\n",
    "\n",
    "# Plot distribution of ratings across businesses\n",
    "\n",
    "all_ratings = ax2.hist(business_df['rating'],bins=8, color = \"darkorange\")\n",
    "\n",
    "ax2.set_title('Ratings')\n",
    "ax2.set_xlabel('Rating')\n",
    "ax2.set_ylabel('Number of Restaurants')\n",
    "# Plot distribution of prices across businesses\n",
    "\n",
    "all_prices = ax3.hist(business_df['price'],bins=6, color = \"skyblue\")\n",
    "\n",
    "ax3.set_title('Prices')\n",
    "ax3.set_xlabel('Price')\n",
    "ax3.set_ylabel('Number of Restaurants')\n"
   ]
  },
  {
   "cell_type": "markdown",
   "metadata": {},
   "source": [
    "Describe the distributions displayed above and interpret them in the context of your query. (Your answer may differ from the solution branch depending on your query.)"
   ]
  },
  {
   "cell_type": "code",
   "execution_count": 24,
   "metadata": {},
   "outputs": [
    {
     "name": "stdout",
     "output_type": "stream",
     "text": [
      "   \n",
      "From the Review Counts Histogram, we can see that:\n",
      "    -Restaurant reviews data is heavily right-skewed \n",
      "    -Most of the restaurants have less than 500 reviews which proves that 75% quantile of review counts is 472.75;\n",
      "\n",
      "From the Ratings Histogram, we can see that:\n",
      "    -Restaurant rating data is left-skewed, with 4.0 as the most common rating\n",
      "    -Most restaurants are rated between 3.5 to 4.5\n",
      "    -Only few restaurants are rated as low as below 2.5 or as high as 5 out of 5\n",
      "\n",
      "From the Price Histogram, we can see that:\n",
      "    -Most pizza restaurants in New York are cheap with majority priced $ - $$ out of $$$$\n",
      " \n",
      "\n"
     ]
    }
   ],
   "source": [
    "# Replace None with appropriate text\n",
    "print(\"\"\"   \n",
    "From the Review Counts Histogram, we can see that:\n",
    "    -Restaurant reviews data is heavily right-skewed \n",
    "    -Most of the restaurants have less than 500 reviews which proves that 75% quantile of review counts is 472.75;\n",
    "\n",
    "From the Ratings Histogram, we can see that:\n",
    "    -Restaurant rating data is left-skewed, with 4.0 as the most common rating\n",
    "    -Most restaurants are rated between 3.5 to 4.5\n",
    "    -Only few restaurants are rated as low as below 2.5 or as high as 5 out of 5\n",
    "\n",
    "From the Price Histogram, we can see that:\n",
    "    -Most pizza restaurants in New York are cheap with majority priced $ - $$ out of $$$$\n",
    " \n",
    "\"\"\")"
   ]
  },
  {
   "cell_type": "markdown",
   "metadata": {},
   "source": [
    "## Ratings vs. Price\n",
    "\n",
    "Create a visualization showing the relationship between rating and price. You can do this a few different ways - one option could be to show the average price at each rating using a bar chart."
   ]
  },
  {
   "cell_type": "code",
   "execution_count": 25,
   "metadata": {},
   "outputs": [
    {
     "name": "stdout",
     "output_type": "stream",
     "text": [
      "           price\n",
      "rating          \n",
      "2.0     1.500000\n",
      "2.5     1.333333\n",
      "3.0     1.363636\n",
      "3.5     1.491713\n",
      "4.0     1.759791\n",
      "4.5     1.658228\n",
      "5.0     1.800000\n"
     ]
    },
    {
     "data": {
      "text/plain": [
       "<AxesSubplot:title={'center':'Ratings vs Price'}, xlabel='Rating', ylabel='Average Price'>"
      ]
     },
     "execution_count": 25,
     "metadata": {},
     "output_type": "execute_result"
    },
    {
     "data": {
      "image/png": "[encoded data removed]",
      "text/plain": [
       "<Figure size 576x360 with 1 Axes>"
      ]
     },
     "metadata": {
      "needs_background": "light"
     },
     "output_type": "display_data"
    }
   ],
   "source": [
    "# Replace None with your code\n",
    "\n",
    "\n",
    "# Calculate average price for each rating\n",
    "rating_price = business_df[['rating','price']] .groupby('rating').agg({'price':'mean'})\n",
    "\n",
    "print(rating_price)\n",
    "\n",
    "# Plot results\n",
    "\n",
    "rating_price.plot(\n",
    "    kind=\"bar\",\n",
    "    title = \"Ratings vs Price\", \n",
    "    xlabel = \"Rating\", \n",
    "    ylabel = \"Average Price\",\n",
    "    color = \"skyblue\",\n",
    "    figsize=(8,5)\n",
    ")\n",
    "\n"
   ]
  },
  {
   "cell_type": "code",
   "execution_count": 26,
   "metadata": {},
   "outputs": [
    {
     "data": {
      "text/plain": [
       "<AxesSubplot:title={'center':'Price vs Ratings'}, xlabel='Price', ylabel='Average Rating'>"
      ]
     },
     "execution_count": 26,
     "metadata": {},
     "output_type": "execute_result"
    },
    {
     "data": {
      "image/png": "[encoded data removed]",
      "text/plain": [
       "<Figure size 576x360 with 1 Axes>"
      ]
     },
     "metadata": {
      "needs_background": "light"
     },
     "output_type": "display_data"
    }
   ],
   "source": [
    "price_rating =  business_df[['rating','price']] .groupby('price').agg({'rating':'mean'})\n",
    "price_rating.plot(\n",
    "    kind='bar',\n",
    "    title=\"Price vs Ratings\" , \n",
    "    xlabel = \"Price\", \n",
    "    ylabel = \"Average Rating\",\n",
    "    color = \"skyblue\",\n",
    "    figsize=(8,5)\n",
    ")"
   ]
  },
  {
   "cell_type": "markdown",
   "metadata": {},
   "source": [
    "Is a higher price associated with a higher rating? (No need for any additional math/statistics, just interpret what you see in the plot.)"
   ]
  },
  {
   "cell_type": "code",
   "execution_count": 27,
   "metadata": {},
   "outputs": [
    {
     "name": "stdout",
     "output_type": "stream",
     "text": [
      "\n",
      "We cannot see any association between price and rating. Higher price does not mean higher rating and vice versa.\n",
      "\n",
      "\n"
     ]
    }
   ],
   "source": [
    "# Replace None with appropriate text\n",
    "print(\"\"\"\n",
    "We cannot see any association between price and rating. Higher price does not mean higher rating and vice versa.\n",
    "\n",
    "\"\"\")"
   ]
  },
  {
   "cell_type": "markdown",
   "metadata": {},
   "source": [
    "## Ratings vs Review Counts\n",
    "\n",
    "Finally, let's look at ratings vs. review counts. You can analyze this relationship similarly to ratings vs. price."
   ]
  },
  {
   "cell_type": "code",
   "execution_count": 28,
   "metadata": {},
   "outputs": [
    {
     "data": {
      "text/plain": [
       "Text(0.5, 1.0, 'Ratings vs Review Counts')"
      ]
     },
     "execution_count": 28,
     "metadata": {},
     "output_type": "execute_result"
    },
    {
     "data": {
      "image/png": "[encoded data removed]",
      "text/plain": [
       "<Figure size 432x288 with 1 Axes>"
      ]
     },
     "metadata": {
      "needs_background": "light"
     },
     "output_type": "display_data"
    }
   ],
   "source": [
    "# Replace None with your code\n",
    "\n",
    "# Calculate average review count for each rating\n",
    "rating_review_count = business_df.groupby('rating').agg({'review_count': 'mean'})\n",
    "\n",
    "# Plot results\n",
    "fig, ax = plt.subplots()\n",
    "\n",
    "ax.bar(x = list(rating_review_count.index), height = list(rating_review_count['review_count']), width = 0.3, color = \"skyblue\")\n",
    "ax.set_xlabel(\"Average Rating\")\n",
    "ax.set_ylabel(\"Average Review Count\")\n",
    "ax.set_title(\"Ratings vs Review Counts\")"
   ]
  },
  {
   "cell_type": "markdown",
   "metadata": {},
   "source": [
    "Is a higher number of reviews associated with a higher rating?"
   ]
  },
  {
   "cell_type": "code",
   "execution_count": 29,
   "metadata": {},
   "outputs": [
    {
     "name": "stdout",
     "output_type": "stream",
     "text": [
      "\n",
      "Restaurants rated 4 have the highest number of reviews on average.\n",
      "Restaurants rated 5 have the lowest number of reviews on average.\n",
      "Therefore, we cannot have the conclusion that higher number of reviews associated with a higher rating.\n",
      "\n"
     ]
    }
   ],
   "source": [
    "# Replace None with appropriate text\n",
    "print(\"\"\"\n",
    "Restaurants rated 4 have the highest number of reviews on average.\n",
    "Restaurants rated 5 have the lowest number of reviews on average.\n",
    "Therefore, we cannot have the conclusion that higher number of reviews associated with a higher rating.\n",
    "\"\"\")"
   ]
  },
  {
   "cell_type": "markdown",
   "metadata": {},
   "source": [
    "## Level Up: Create a Folium Map\n",
    "\n",
    "Make a map using Folium of the businesses you retrieved. Be sure to also add popups to the markers giving some basic information such as name, rating and price.\n",
    "\n",
    "You can center the map around the latitude and longitude of the first item in your dataset."
   ]
  },
  {
   "cell_type": "code",
   "execution_count": 30,
   "metadata": {},
   "outputs": [
    {
     "data": {
      "text/html": [
       "<div style=\"width:100%;\"><div style=\"position:relative;width:100%;height:0;padding-bottom:60%;\"><span style=\"color:#565656\">Make this Notebook Trusted to load map: File -> Trust Notebook</span><iframe src=\"about:blank\" style=\"position:absolute;width:100%;height:100%;left:0;top:0;border:none !important;\" data-html=%3C%21DOCTYPE%20html%3E%0A%3Chead%3E%20%20%20%20%0A%20%20%20%20%3Cmeta%20http-equiv%3D%22content-type%22%20content%3D%22text/html%3B%20charset%3DUTF-8%22%20/%3E%0A%20%20%20%20%0A%20%20%20%20%20%20%20%20%3Cscript%3E%0A%20%20%20%20%20%20%20%20%20%20%20%20L_NO_TOUCH%20%3D%20false%3B%0A%20%20%20%20%20%20%20%20%20%20%20%20L_DISABLE_3D%20%3D%20false%3B%0A%20%20%20%20%20%20%20%20%3C/script%3E%0A%20%20%20%20%0A%20%20%20%20%3Cstyle%3Ehtml%2C%20body%20%7Bwidth%3A%20100%25%3Bheight%3A%20100%25%3Bmargin%3A%200%3Bpadding%3A%200%3B%7D%3C/style%3E%0A%20%20%20%20%3Cstyle%3E%23map%20%7Bposition%3Aabsolute%3Btop%3A0%3Bbottom%3A0%3Bright%3A0%3Bleft%3A0%3B%7D%3C/style%3E%0A%20%20%20%20%3Cscript%20src%3D%22https%3A//cdn.jsdelivr.net/npm/leaflet%401.6.0/dist/leaflet.js%22%3E%3C/script%3E%0A%20%20%20%20%3Cscript%20src%3D%22https%3A//code.jquery.com/jquery-1.12.4.min.js%22%3E%3C/script%3E%0A%20%20%20%20%3Cscript%20src%3D%22https%3A//maxcdn.bootstrapcdn.com/bootstrap/3.2.0/js/bootstrap.min.js%22%3E%3C/script%3E%0A%20%20%20%20%3Cscript%20src%3D%22https%3A//cdnjs.cloudflare.com/ajax/libs/Leaflet.awesome-markers/2.0.2/leaflet.awesome-markers.js%22%3E%3C/script%3E%0A%20%20%20%20%3Clink%20rel%3D%22stylesheet%22%20href%3D%22https%3A//cdn.jsdelivr.net/npm/leaflet%401.6.0/dist/leaflet.css%22/%3E%0A%20%20%20%20%3Clink%20rel%3D%22stylesheet%22%20href%3D%22https%3A//maxcdn.bootstrapcdn.com/bootstrap/3.2.0/css/bootstrap.min.css%22/%3E%0A%20%20%20%20%3Clink%20rel%3D%22stylesheet%22%20href%3D%22https%3A//maxcdn.bootstrapcdn.com/bootstrap/3.2.0/css/bootstrap-theme.min.css%22/%3E%0A%20%20%20%20%3Clink%20rel%3D%22stylesheet%22%20href%3D%22https%3A//maxcdn.bootstrapcdn.com/font-awesome/4.6.3/css/font-awesome.min.css%22/%3E%0A%20%20%20%20%3Clink%20rel%3D%22stylesheet%22%20href%3D%22https%3A//cdnjs.cloudflare.com/ajax/libs/Leaflet.awesome-markers/2.0.2/leaflet.awesome-markers.css%22/%3E%0A%20%20%20%20%3Clink%20rel%3D%22stylesheet%22%20href%3D%22https%3A//cdn.jsdelivr.net/gh/python-visualization/folium/folium/templates/leaflet.awesome.rotate.min.css%22/%3E%0A%20%20%20%20%0A%20%20%20%20%20%20%20%20%20%20%20%20%3Cmeta%20name%3D%22viewport%22%20content%3D%22width%3Ddevice-width%2C%0A%20%20%20%20%20%20%20%20%20%20%20%20%20%20%20%20initial-scale%3D1.0%2C%20maximum-scale%3D1.0%2C%20user-scalable%3Dno%22%20/%3E%0A%20%20%20%20%20%20%20%20%20%20%20%20%3Cstyle%3E%0A%20%20%20%20%20%20%20%20%20%20%20%20%20%20%20%20%23map_4aa00ef5102d4d3aa0af52fc5a9dde8d%20%7B%0A%20%20%20%20%20%20%20%20%20%20%20%20%20%20%20%20%20%20%20%20position%3A%20relative%3B%0A%20%20%20%20%20%20%20%20%20%20%20%20%20%20%20%20%20%20%20%20width%3A%20100.0%25%3B%0A%20%20%20%20%20%20%20%20%20%20%20%20%20%20%20%20%20%20%20%20height%3A%20100.0%25%3B%0A%20%20%20%20%20%20%20%20%20%20%20%20%20%20%20%20%20%20%20%20left%3A%200.0%25%3B%0A%20%20%20%20%20%20%20%20%20%20%20%20%20%20%20%20%20%20%20%20top%3A%200.0%25%3B%0A%20%20%20%20%20%20%20%20%20%20%20%20%20%20%20%20%7D%0A%20%20%20%20%20%20%20%20%20%20%20%20%3C/style%3E%0A%20%20%20%20%20%20%20%20%0A%3C/head%3E%0A%3Cbody%3E%20%20%20%20%0A%20%20%20%20%0A%20%20%20%20%20%20%20%20%20%20%20%20%3Cdiv%20class%3D%22folium-map%22%20id%3D%22map_4aa00ef5102d4d3aa0af52fc5a9dde8d%22%20%3E%3C/div%3E%0A%20%20%20%20%20%20%20%20%0A%3C/body%3E%0A%3Cscript%3E%20%20%20%20%0A%20%20%20%20%0A%20%20%20%20%20%20%20%20%20%20%20%20var%20map_4aa00ef5102d4d3aa0af52fc5a9dde8d%20%3D%20L.map%28%0A%20%20%20%20%20%20%20%20%20%20%20%20%20%20%20%20%22map_4aa00ef5102d4d3aa0af52fc5a9dde8d%22%2C%0A%20%20%20%20%20%20%20%20%20%20%20%20%20%20%20%20%7B%0A%20%20%20%20%20%20%20%20%20%20%20%20%20%20%20%20%20%20%20%20center%3A%20%5B40.72308755605564%2C%20-73.99453001177575%5D%2C%0A%20%20%20%20%20%20%20%20%20%20%20%20%20%20%20%20%20%20%20%20crs%3A%20L.CRS.EPSG3857%2C%0A%20%20%20%20%20%20%20%20%20%20%20%20%20%20%20%20%20%20%20%20zoom%3A%2013%2C%0A%20%20%20%20%20%20%20%20%20%20%20%20%20%20%20%20%20%20%20%20zoomControl%3A%20true%2C%0A%20%20%20%20%20%20%20%20%20%20%20%20%20%20%20%20%20%20%20%20preferCanvas%3A%20false%2C%0A%20%20%20%20%20%20%20%20%20%20%20%20%20%20%20%20%7D%0A%20%20%20%20%20%20%20%20%20%20%20%20%29%3B%0A%20%20%20%20%20%20%20%20%20%20%20%20L.control.scale%28%29.addTo%28map_4aa00ef5102d4d3aa0af52fc5a9dde8d%29%3B%0A%0A%20%20%20%20%20%20%20%20%20%20%20%20%0A%0A%20%20%20%20%20%20%20%20%0A%20%20%20%20%0A%20%20%20%20%20%20%20%20%20%20%20%20var%20tile_layer_f4edcb8d18d9459c8bddf51406f39f14%20%3D%20L.tileLayer%28%0A%20%20%20%20%20%20%20%20%20%20%20%20%20%20%20%20%22https%3A//%7Bs%7D.tile.openstreetmap.org/%7Bz%7D/%7Bx%7D/%7By%7D.png%22%2C%0A%20%20%20%20%20%20%20%20%20%20%20%20%20%20%20%20%7B%22attribution%22%3A%20%22Data%20by%20%5Cu0026copy%3B%20%5Cu003ca%20href%3D%5C%22http%3A//openstreetmap.org%5C%22%5Cu003eOpenStreetMap%5Cu003c/a%5Cu003e%2C%20under%20%5Cu003ca%20href%3D%5C%22http%3A//www.openstreetmap.org/copyright%5C%22%5Cu003eODbL%5Cu003c/a%5Cu003e.%22%2C%20%22detectRetina%22%3A%20false%2C%20%22maxNativeZoom%22%3A%2018%2C%20%22maxZoom%22%3A%2018%2C%20%22minZoom%22%3A%200%2C%20%22noWrap%22%3A%20false%2C%20%22opacity%22%3A%201%2C%20%22subdomains%22%3A%20%22abc%22%2C%20%22tms%22%3A%20false%7D%0A%20%20%20%20%20%20%20%20%20%20%20%20%29.addTo%28map_4aa00ef5102d4d3aa0af52fc5a9dde8d%29%3B%0A%20%20%20%20%20%20%20%20%0A%20%20%20%20%0A%20%20%20%20%20%20%20%20%20%20%20%20var%20marker_c80799fd3dfb48e88de349362628a34a%20%3D%20L.marker%28%0A%20%20%20%20%20%20%20%20%20%20%20%20%20%20%20%20%5B40.72308755605564%2C%20-73.99453001177575%5D%2C%0A%20%20%20%20%20%20%20%20%20%20%20%20%20%20%20%20%7B%7D%0A%20%20%20%20%20%20%20%20%20%20%20%20%29.addTo%28map_4aa00ef5102d4d3aa0af52fc5a9dde8d%29%3B%0A%20%20%20%20%20%20%20%20%0A%20%20%20%20%0A%20%20%20%20%20%20%20%20var%20popup_9add7c6bf1e84ac092ddff06fb0bb7ec%20%3D%20L.popup%28%7B%22maxWidth%22%3A%20450%7D%29%3B%0A%0A%20%20%20%20%20%20%20%20%0A%20%20%20%20%20%20%20%20%20%20%20%20var%20html_66cac046adbe495592077b089cd7e7b9%20%3D%20%24%28%60%3Cdiv%20id%3D%22html_66cac046adbe495592077b089cd7e7b9%22%20style%3D%22width%3A%20100.0%25%3B%20height%3A%20100.0%25%3B%22%3ERestaurant%20Name%3APrince%20Street%20Pizza%20Price%3A%20%24%20Rating%3A4.5%3C/div%3E%60%29%5B0%5D%3B%0A%20%20%20%20%20%20%20%20%20%20%20%20popup_9add7c6bf1e84ac092ddff06fb0bb7ec.setContent%28html_66cac046adbe495592077b089cd7e7b9%29%3B%0A%20%20%20%20%20%20%20%20%0A%0A%20%20%20%20%20%20%20%20marker_c80799fd3dfb48e88de349362628a34a.bindPopup%28popup_9add7c6bf1e84ac092ddff06fb0bb7ec%29%0A%20%20%20%20%20%20%20%20%3B%0A%0A%20%20%20%20%20%20%20%20%0A%20%20%20%20%0A%20%20%20%20%0A%20%20%20%20%20%20%20%20%20%20%20%20var%20marker_59f9908f687d4bf4ae1849a63be64c06%20%3D%20L.marker%28%0A%20%20%20%20%20%20%20%20%20%20%20%20%20%20%20%20%5B40.70274718768062%2C%20-73.99343490196397%5D%2C%0A%20%20%20%20%20%20%20%20%20%20%20%20%20%20%20%20%7B%7D%0A%20%20%20%20%20%20%20%20%20%20%20%20%29.addTo%28map_4aa00ef5102d4d3aa0af52fc5a9dde8d%29%3B%0A%20%20%20%20%20%20%20%20%0A%20%20%20%20%0A%20%20%20%20%20%20%20%20var%20popup_ba07479aec184fb8b92fa2dfe6a0281f%20%3D%20L.popup%28%7B%22maxWidth%22%3A%20450%7D%29%3B%0A%0A%20%20%20%20%20%20%20%20%0A%20%20%20%20%20%20%20%20%20%20%20%20var%20html_7363af8b7f2b478486f7ba106edb2b92%20%3D%20%24%28%60%3Cdiv%20id%3D%22html_7363af8b7f2b478486f7ba106edb2b92%22%20style%3D%22width%3A%20100.0%25%3B%20height%3A%20100.0%25%3B%22%3ERestaurant%20Name%3AJuliana%26%2339%3Bs%20Price%3A%20%24%24%20Rating%3A4.5%3C/div%3E%60%29%5B0%5D%3B%0A%20%20%20%20%20%20%20%20%20%20%20%20popup_ba07479aec184fb8b92fa2dfe6a0281f.setContent%28html_7363af8b7f2b478486f7ba106edb2b92%29%3B%0A%20%20%20%20%20%20%20%20%0A%0A%20%20%20%20%20%20%20%20marker_59f9908f687d4bf4ae1849a63be64c06.bindPopup%28popup_ba07479aec184fb8b92fa2dfe6a0281f%29%0A%20%20%20%20%20%20%20%20%3B%0A%0A%20%20%20%20%20%20%20%20%0A%20%20%20%20%0A%20%20%20%20%0A%20%20%20%20%20%20%20%20%20%20%20%20var%20marker_03f600c7743b492991ea9998d79cf3c7%20%3D%20L.marker%28%0A%20%20%20%20%20%20%20%20%20%20%20%20%20%20%20%20%5B40.7215934960083%2C%20-73.9955956044561%5D%2C%0A%20%20%20%20%20%20%20%20%20%20%20%20%20%20%20%20%7B%7D%0A%20%20%20%20%20%20%20%20%20%20%20%20%29.addTo%28map_4aa00ef5102d4d3aa0af52fc5a9dde8d%29%3B%0A%20%20%20%20%20%20%20%20%0A%20%20%20%20%0A%20%20%20%20%20%20%20%20var%20popup_7d3aa7af75654145aead57a44a039858%20%3D%20L.popup%28%7B%22maxWidth%22%3A%20450%7D%29%3B%0A%0A%20%20%20%20%20%20%20%20%0A%20%20%20%20%20%20%20%20%20%20%20%20var%20html_13f984e397f34659a84b0c2d75071db7%20%3D%20%24%28%60%3Cdiv%20id%3D%22html_13f984e397f34659a84b0c2d75071db7%22%20style%3D%22width%3A%20100.0%25%3B%20height%3A%20100.0%25%3B%22%3ERestaurant%20Name%3ALombardi%26%2339%3Bs%20Pizza%20Price%3A%20%24%24%20Rating%3A4.0%3C/div%3E%60%29%5B0%5D%3B%0A%20%20%20%20%20%20%20%20%20%20%20%20popup_7d3aa7af75654145aead57a44a039858.setContent%28html_13f984e397f34659a84b0c2d75071db7%29%3B%0A%20%20%20%20%20%20%20%20%0A%0A%20%20%20%20%20%20%20%20marker_03f600c7743b492991ea9998d79cf3c7.bindPopup%28popup_7d3aa7af75654145aead57a44a039858%29%0A%20%20%20%20%20%20%20%20%3B%0A%0A%20%20%20%20%20%20%20%20%0A%20%20%20%20%0A%20%20%20%20%0A%20%20%20%20%20%20%20%20%20%20%20%20var%20marker_09074b5e946744138ea9cd3bf0ff78b4%20%3D%20L.marker%28%0A%20%20%20%20%20%20%20%20%20%20%20%20%20%20%20%20%5B40.6818%2C%20-74.00024%5D%2C%0A%20%20%20%20%20%20%20%20%20%20%20%20%20%20%20%20%7B%7D%0A%20%20%20%20%20%20%20%20%20%20%20%20%29.addTo%28map_4aa00ef5102d4d3aa0af52fc5a9dde8d%29%3B%0A%20%20%20%20%20%20%20%20%0A%20%20%20%20%0A%20%20%20%20%20%20%20%20var%20popup_5eb4615f4f984175ba9425b003c6db01%20%3D%20L.popup%28%7B%22maxWidth%22%3A%20450%7D%29%3B%0A%0A%20%20%20%20%20%20%20%20%0A%20%20%20%20%20%20%20%20%20%20%20%20var%20html_1fe8565c41a04555bde80bb172a22f04%20%3D%20%24%28%60%3Cdiv%20id%3D%22html_1fe8565c41a04555bde80bb172a22f04%22%20style%3D%22width%3A%20100.0%25%3B%20height%3A%20100.0%25%3B%22%3ERestaurant%20Name%3ALucali%20Price%3A%20%24%24%20Rating%3A4.0%3C/div%3E%60%29%5B0%5D%3B%0A%20%20%20%20%20%20%20%20%20%20%20%20popup_5eb4615f4f984175ba9425b003c6db01.setContent%28html_1fe8565c41a04555bde80bb172a22f04%29%3B%0A%20%20%20%20%20%20%20%20%0A%0A%20%20%20%20%20%20%20%20marker_09074b5e946744138ea9cd3bf0ff78b4.bindPopup%28popup_5eb4615f4f984175ba9425b003c6db01%29%0A%20%20%20%20%20%20%20%20%3B%0A%0A%20%20%20%20%20%20%20%20%0A%20%20%20%20%0A%20%20%20%20%0A%20%20%20%20%20%20%20%20%20%20%20%20var%20marker_fb0fe70e3b0a417786aa068b0070e822%20%3D%20L.marker%28%0A%20%20%20%20%20%20%20%20%20%20%20%20%20%20%20%20%5B40.722766%2C%20-73.996233%5D%2C%0A%20%20%20%20%20%20%20%20%20%20%20%20%20%20%20%20%7B%7D%0A%20%20%20%20%20%20%20%20%20%20%20%20%29.addTo%28map_4aa00ef5102d4d3aa0af52fc5a9dde8d%29%3B%0A%20%20%20%20%20%20%20%20%0A%20%20%20%20%0A%20%20%20%20%20%20%20%20var%20popup_9305efe5bec04adf824cd6b086ac4fe6%20%3D%20L.popup%28%7B%22maxWidth%22%3A%20450%7D%29%3B%0A%0A%20%20%20%20%20%20%20%20%0A%20%20%20%20%20%20%20%20%20%20%20%20var%20html_0b4ca0c29acc4d9790c635c8d432a894%20%3D%20%24%28%60%3Cdiv%20id%3D%22html_0b4ca0c29acc4d9790c635c8d432a894%22%20style%3D%22width%3A%20100.0%25%3B%20height%3A%20100.0%25%3B%22%3ERestaurant%20Name%3ARubirosa%20Price%3A%20%24%24%20Rating%3A4.5%3C/div%3E%60%29%5B0%5D%3B%0A%20%20%20%20%20%20%20%20%20%20%20%20popup_9305efe5bec04adf824cd6b086ac4fe6.setContent%28html_0b4ca0c29acc4d9790c635c8d432a894%29%3B%0A%20%20%20%20%20%20%20%20%0A%0A%20%20%20%20%20%20%20%20marker_fb0fe70e3b0a417786aa068b0070e822.bindPopup%28popup_9305efe5bec04adf824cd6b086ac4fe6%29%0A%20%20%20%20%20%20%20%20%3B%0A%0A%20%20%20%20%20%20%20%20%0A%20%20%20%20%0A%20%20%20%20%0A%20%20%20%20%20%20%20%20%20%20%20%20var%20marker_3769081fe6974ea08b536f957c4f11eb%20%3D%20L.marker%28%0A%20%20%20%20%20%20%20%20%20%20%20%20%20%20%20%20%5B40.73055520355198%2C%20-74.00211632377929%5D%2C%0A%20%20%20%20%20%20%20%20%20%20%20%20%20%20%20%20%7B%7D%0A%20%20%20%20%20%20%20%20%20%20%20%20%29.addTo%28map_4aa00ef5102d4d3aa0af52fc5a9dde8d%29%3B%0A%20%20%20%20%20%20%20%20%0A%20%20%20%20%0A%20%20%20%20%20%20%20%20var%20popup_ccc3352c414b4c4c82598147c004da9a%20%3D%20L.popup%28%7B%22maxWidth%22%3A%20450%7D%29%3B%0A%0A%20%20%20%20%20%20%20%20%0A%20%20%20%20%20%20%20%20%20%20%20%20var%20html_3383deb667504af28ec0099256da9c36%20%3D%20%24%28%60%3Cdiv%20id%3D%22html_3383deb667504af28ec0099256da9c36%22%20style%3D%22width%3A%20100.0%25%3B%20height%3A%20100.0%25%3B%22%3ERestaurant%20Name%3AJoe%26%2339%3Bs%20Pizza%20Price%3A%20%24%20Rating%3A4.0%3C/div%3E%60%29%5B0%5D%3B%0A%20%20%20%20%20%20%20%20%20%20%20%20popup_ccc3352c414b4c4c82598147c004da9a.setContent%28html_3383deb667504af28ec0099256da9c36%29%3B%0A%20%20%20%20%20%20%20%20%0A%0A%20%20%20%20%20%20%20%20marker_3769081fe6974ea08b536f957c4f11eb.bindPopup%28popup_ccc3352c414b4c4c82598147c004da9a%29%0A%20%20%20%20%20%20%20%20%3B%0A%0A%20%20%20%20%20%20%20%20%0A%20%20%20%20%0A%20%20%20%20%0A%20%20%20%20%20%20%20%20%20%20%20%20var%20marker_0dc0931657834f668c7449da0fb54419%20%3D%20L.marker%28%0A%20%20%20%20%20%20%20%20%20%20%20%20%20%20%20%20%5B40.729546%2C%20-73.958568%5D%2C%0A%20%20%20%20%20%20%20%20%20%20%20%20%20%20%20%20%7B%7D%0A%20%20%20%20%20%20%20%20%20%20%20%20%29.addTo%28map_4aa00ef5102d4d3aa0af52fc5a9dde8d%29%3B%0A%20%20%20%20%20%20%20%20%0A%20%20%20%20%0A%20%20%20%20%20%20%20%20var%20popup_c168edd7688f4ef782c92e396202fe21%20%3D%20L.popup%28%7B%22maxWidth%22%3A%20450%7D%29%3B%0A%0A%20%20%20%20%20%20%20%20%0A%20%20%20%20%20%20%20%20%20%20%20%20var%20html_1086f86487a3495297cb65658a72cb9c%20%3D%20%24%28%60%3Cdiv%20id%3D%22html_1086f86487a3495297cb65658a72cb9c%22%20style%3D%22width%3A%20100.0%25%3B%20height%3A%20100.0%25%3B%22%3ERestaurant%20Name%3APaulie%20Gee%26%2339%3Bs%20Price%3A%20%24%24%20Rating%3A4.5%3C/div%3E%60%29%5B0%5D%3B%0A%20%20%20%20%20%20%20%20%20%20%20%20popup_c168edd7688f4ef782c92e396202fe21.setContent%28html_1086f86487a3495297cb65658a72cb9c%29%3B%0A%20%20%20%20%20%20%20%20%0A%0A%20%20%20%20%20%20%20%20marker_0dc0931657834f668c7449da0fb54419.bindPopup%28popup_c168edd7688f4ef782c92e396202fe21%29%0A%20%20%20%20%20%20%20%20%3B%0A%0A%20%20%20%20%20%20%20%20%0A%20%20%20%20%0A%20%20%20%20%0A%20%20%20%20%20%20%20%20%20%20%20%20var%20marker_4b2ebee111c24ee9a40ce06e66caa61c%20%3D%20L.marker%28%0A%20%20%20%20%20%20%20%20%20%20%20%20%20%20%20%20%5B40.71162%2C%20-73.95783%5D%2C%0A%20%20%20%20%20%20%20%20%20%20%20%20%20%20%20%20%7B%7D%0A%20%20%20%20%20%20%20%20%20%20%20%20%29.addTo%28map_4aa00ef5102d4d3aa0af52fc5a9dde8d%29%3B%0A%20%20%20%20%20%20%20%20%0A%20%20%20%20%0A%20%20%20%20%20%20%20%20var%20popup_4307453e9c9247da9c4509e93e4e16c8%20%3D%20L.popup%28%7B%22maxWidth%22%3A%20450%7D%29%3B%0A%0A%20%20%20%20%20%20%20%20%0A%20%20%20%20%20%20%20%20%20%20%20%20var%20html_c5c22392d7554e6386d3a121457de61b%20%3D%20%24%28%60%3Cdiv%20id%3D%22html_c5c22392d7554e6386d3a121457de61b%22%20style%3D%22width%3A%20100.0%25%3B%20height%3A%20100.0%25%3B%22%3ERestaurant%20Name%3AL%26%2339%3Bindustrie%20Pizzeria%20Price%3A%20%24%20Rating%3A4.5%3C/div%3E%60%29%5B0%5D%3B%0A%20%20%20%20%20%20%20%20%20%20%20%20popup_4307453e9c9247da9c4509e93e4e16c8.setContent%28html_c5c22392d7554e6386d3a121457de61b%29%3B%0A%20%20%20%20%20%20%20%20%0A%0A%20%20%20%20%20%20%20%20marker_4b2ebee111c24ee9a40ce06e66caa61c.bindPopup%28popup_4307453e9c9247da9c4509e93e4e16c8%29%0A%20%20%20%20%20%20%20%20%3B%0A%0A%20%20%20%20%20%20%20%20%0A%20%20%20%20%0A%20%20%20%20%0A%20%20%20%20%20%20%20%20%20%20%20%20var%20marker_f752ec3e4eee4f47b23f3ae2b7d454d9%20%3D%20L.marker%28%0A%20%20%20%20%20%20%20%20%20%20%20%20%20%20%20%20%5B40.70493%2C%20-73.93399%5D%2C%0A%20%20%20%20%20%20%20%20%20%20%20%20%20%20%20%20%7B%7D%0A%20%20%20%20%20%20%20%20%20%20%20%20%29.addTo%28map_4aa00ef5102d4d3aa0af52fc5a9dde8d%29%3B%0A%20%20%20%20%20%20%20%20%0A%20%20%20%20%0A%20%20%20%20%20%20%20%20var%20popup_e863a18ad68948fead072a2464fc97fe%20%3D%20L.popup%28%7B%22maxWidth%22%3A%20450%7D%29%3B%0A%0A%20%20%20%20%20%20%20%20%0A%20%20%20%20%20%20%20%20%20%20%20%20var%20html_f5da254e410640c5985fa66dac836c7f%20%3D%20%24%28%60%3Cdiv%20id%3D%22html_f5da254e410640c5985fa66dac836c7f%22%20style%3D%22width%3A%20100.0%25%3B%20height%3A%20100.0%25%3B%22%3ERestaurant%20Name%3ARoberta%26%2339%3Bs%20Price%3A%20%24%24%20Rating%3A4.0%3C/div%3E%60%29%5B0%5D%3B%0A%20%20%20%20%20%20%20%20%20%20%20%20popup_e863a18ad68948fead072a2464fc97fe.setContent%28html_f5da254e410640c5985fa66dac836c7f%29%3B%0A%20%20%20%20%20%20%20%20%0A%0A%20%20%20%20%20%20%20%20marker_f752ec3e4eee4f47b23f3ae2b7d454d9.bindPopup%28popup_e863a18ad68948fead072a2464fc97fe%29%0A%20%20%20%20%20%20%20%20%3B%0A%0A%20%20%20%20%20%20%20%20%0A%20%20%20%20%0A%20%20%20%20%0A%20%20%20%20%20%20%20%20%20%20%20%20var%20marker_bf07f1c9afb741b7bee09620ab3c109b%20%3D%20L.marker%28%0A%20%20%20%20%20%20%20%20%20%20%20%20%20%20%20%20%5B40.73158%2C%20-74.00332%5D%2C%0A%20%20%20%20%20%20%20%20%20%20%20%20%20%20%20%20%7B%7D%0A%20%20%20%20%20%20%20%20%20%20%20%20%29.addTo%28map_4aa00ef5102d4d3aa0af52fc5a9dde8d%29%3B%0A%20%20%20%20%20%20%20%20%0A%20%20%20%20%0A%20%20%20%20%20%20%20%20var%20popup_362062ca696c4131aecf2872351671d8%20%3D%20L.popup%28%7B%22maxWidth%22%3A%20450%7D%29%3B%0A%0A%20%20%20%20%20%20%20%20%0A%20%20%20%20%20%20%20%20%20%20%20%20var%20html_c6d4b55cd546476f898752d054ce6ae5%20%3D%20%24%28%60%3Cdiv%20id%3D%22html_c6d4b55cd546476f898752d054ce6ae5%22%20style%3D%22width%3A%20100.0%25%3B%20height%3A%20100.0%25%3B%22%3ERestaurant%20Name%3AJohn%26%2339%3Bs%20of%20Bleecker%20Street%20Price%3A%20%24%24%20Rating%3A4.0%3C/div%3E%60%29%5B0%5D%3B%0A%20%20%20%20%20%20%20%20%20%20%20%20popup_362062ca696c4131aecf2872351671d8.setContent%28html_c6d4b55cd546476f898752d054ce6ae5%29%3B%0A%20%20%20%20%20%20%20%20%0A%0A%20%20%20%20%20%20%20%20marker_bf07f1c9afb741b7bee09620ab3c109b.bindPopup%28popup_362062ca696c4131aecf2872351671d8%29%0A%20%20%20%20%20%20%20%20%3B%0A%0A%20%20%20%20%20%20%20%20%0A%20%20%20%20%0A%20%20%20%20%0A%20%20%20%20%20%20%20%20%20%20%20%20var%20marker_e431dca50e294209981804ab99bb688c%20%3D%20L.marker%28%0A%20%20%20%20%20%20%20%20%20%20%20%20%20%20%20%20%5B40.68752%2C%20-73.95442%5D%2C%0A%20%20%20%20%20%20%20%20%20%20%20%20%20%20%20%20%7B%7D%0A%20%20%20%20%20%20%20%20%20%20%20%20%29.addTo%28map_4aa00ef5102d4d3aa0af52fc5a9dde8d%29%3B%0A%20%20%20%20%20%20%20%20%0A%20%20%20%20%0A%20%20%20%20%20%20%20%20var%20popup_2f1041b13580427fbe666e5ba7f1b62d%20%3D%20L.popup%28%7B%22maxWidth%22%3A%20450%7D%29%3B%0A%0A%20%20%20%20%20%20%20%20%0A%20%20%20%20%20%20%20%20%20%20%20%20var%20html_ad61a8d1dc9e441ab5090ff05ac8f549%20%3D%20%24%28%60%3Cdiv%20id%3D%22html_ad61a8d1dc9e441ab5090ff05ac8f549%22%20style%3D%22width%3A%20100.0%25%3B%20height%3A%20100.0%25%3B%22%3ERestaurant%20Name%3AFrankie%20and%20Vali%E2%80%99s%20Price%3A%20None%20Rating%3A5.0%3C/div%3E%60%29%5B0%5D%3B%0A%20%20%20%20%20%20%20%20%20%20%20%20popup_2f1041b13580427fbe666e5ba7f1b62d.setContent%28html_ad61a8d1dc9e441ab5090ff05ac8f549%29%3B%0A%20%20%20%20%20%20%20%20%0A%0A%20%20%20%20%20%20%20%20marker_e431dca50e294209981804ab99bb688c.bindPopup%28popup_2f1041b13580427fbe666e5ba7f1b62d%29%0A%20%20%20%20%20%20%20%20%3B%0A%0A%20%20%20%20%20%20%20%20%0A%20%20%20%20%0A%20%20%20%20%0A%20%20%20%20%20%20%20%20%20%20%20%20var%20marker_e7f438456b914c55832a0389b322b2fa%20%3D%20L.marker%28%0A%20%20%20%20%20%20%20%20%20%20%20%20%20%20%20%20%5B40.702583%2C%20-73.9932413%5D%2C%0A%20%20%20%20%20%20%20%20%20%20%20%20%20%20%20%20%7B%7D%0A%20%20%20%20%20%20%20%20%20%20%20%20%29.addTo%28map_4aa00ef5102d4d3aa0af52fc5a9dde8d%29%3B%0A%20%20%20%20%20%20%20%20%0A%20%20%20%20%0A%20%20%20%20%20%20%20%20var%20popup_655fef2876334d7e916374126ded519c%20%3D%20L.popup%28%7B%22maxWidth%22%3A%20450%7D%29%3B%0A%0A%20%20%20%20%20%20%20%20%0A%20%20%20%20%20%20%20%20%20%20%20%20var%20html_bc0b6a6368a34216bae73dcdec529cd6%20%3D%20%24%28%60%3Cdiv%20id%3D%22html_bc0b6a6368a34216bae73dcdec529cd6%22%20style%3D%22width%3A%20100.0%25%3B%20height%3A%20100.0%25%3B%22%3ERestaurant%20Name%3AGrimaldi%26%2339%3Bs%20Pizzeria%20Price%3A%20%24%24%20Rating%3A3.5%3C/div%3E%60%29%5B0%5D%3B%0A%20%20%20%20%20%20%20%20%20%20%20%20popup_655fef2876334d7e916374126ded519c.setContent%28html_bc0b6a6368a34216bae73dcdec529cd6%29%3B%0A%20%20%20%20%20%20%20%20%0A%0A%20%20%20%20%20%20%20%20marker_e7f438456b914c55832a0389b322b2fa.bindPopup%28popup_655fef2876334d7e916374126ded519c%29%0A%20%20%20%20%20%20%20%20%3B%0A%0A%20%20%20%20%20%20%20%20%0A%20%20%20%20%0A%20%20%20%20%0A%20%20%20%20%20%20%20%20%20%20%20%20var%20marker_62112e556de048ba84b9b2cda4a5520d%20%3D%20L.marker%28%0A%20%20%20%20%20%20%20%20%20%20%20%20%20%20%20%20%5B40.634741%2C%20-74.0284259%5D%2C%0A%20%20%20%20%20%20%20%20%20%20%20%20%20%20%20%20%7B%7D%0A%20%20%20%20%20%20%20%20%20%20%20%20%29.addTo%28map_4aa00ef5102d4d3aa0af52fc5a9dde8d%29%3B%0A%20%20%20%20%20%20%20%20%0A%20%20%20%20%0A%20%20%20%20%20%20%20%20var%20popup_5a9d3a93330546d5aae76c00ab88a42f%20%3D%20L.popup%28%7B%22maxWidth%22%3A%20450%7D%29%3B%0A%0A%20%20%20%20%20%20%20%20%0A%20%20%20%20%20%20%20%20%20%20%20%20var%20html_1069b633fd224264b0124b7563cabed1%20%3D%20%24%28%60%3Cdiv%20id%3D%22html_1069b633fd224264b0124b7563cabed1%22%20style%3D%22width%3A%20100.0%25%3B%20height%3A%20100.0%25%3B%22%3ERestaurant%20Name%3ALombardo%26%2339%3Bs%20of%20Bay%20Ridge%20Price%3A%20%24%24%20Rating%3A5.0%3C/div%3E%60%29%5B0%5D%3B%0A%20%20%20%20%20%20%20%20%20%20%20%20popup_5a9d3a93330546d5aae76c00ab88a42f.setContent%28html_1069b633fd224264b0124b7563cabed1%29%3B%0A%20%20%20%20%20%20%20%20%0A%0A%20%20%20%20%20%20%20%20marker_62112e556de048ba84b9b2cda4a5520d.bindPopup%28popup_5a9d3a93330546d5aae76c00ab88a42f%29%0A%20%20%20%20%20%20%20%20%3B%0A%0A%20%20%20%20%20%20%20%20%0A%20%20%20%20%0A%20%20%20%20%0A%20%20%20%20%20%20%20%20%20%20%20%20var%20marker_8814dca9c75e49c49efc04326d589e0a%20%3D%20L.marker%28%0A%20%20%20%20%20%20%20%20%20%20%20%20%20%20%20%20%5B40.625093%2C%20-73.961531%5D%2C%0A%20%20%20%20%20%20%20%20%20%20%20%20%20%20%20%20%7B%7D%0A%20%20%20%20%20%20%20%20%20%20%20%20%29.addTo%28map_4aa00ef5102d4d3aa0af52fc5a9dde8d%29%3B%0A%20%20%20%20%20%20%20%20%0A%20%20%20%20%0A%20%20%20%20%20%20%20%20var%20popup_30dccdd77f564fa28b23fe5fd40898f4%20%3D%20L.popup%28%7B%22maxWidth%22%3A%20450%7D%29%3B%0A%0A%20%20%20%20%20%20%20%20%0A%20%20%20%20%20%20%20%20%20%20%20%20var%20html_c920e3d549c84339a006557bf50ff203%20%3D%20%24%28%60%3Cdiv%20id%3D%22html_c920e3d549c84339a006557bf50ff203%22%20style%3D%22width%3A%20100.0%25%3B%20height%3A%20100.0%25%3B%22%3ERestaurant%20Name%3ADi%20Fara%20Pizza%20Price%3A%20%24%24%20Rating%3A4.0%3C/div%3E%60%29%5B0%5D%3B%0A%20%20%20%20%20%20%20%20%20%20%20%20popup_30dccdd77f564fa28b23fe5fd40898f4.setContent%28html_c920e3d549c84339a006557bf50ff203%29%3B%0A%20%20%20%20%20%20%20%20%0A%0A%20%20%20%20%20%20%20%20marker_8814dca9c75e49c49efc04326d589e0a.bindPopup%28popup_30dccdd77f564fa28b23fe5fd40898f4%29%0A%20%20%20%20%20%20%20%20%3B%0A%0A%20%20%20%20%20%20%20%20%0A%20%20%20%20%0A%20%20%20%20%0A%20%20%20%20%20%20%20%20%20%20%20%20var%20marker_795c3841f79c46ae80642400a59d69be%20%3D%20L.marker%28%0A%20%20%20%20%20%20%20%20%20%20%20%20%20%20%20%20%5B40.73331%2C%20-73.98763%5D%2C%0A%20%20%20%20%20%20%20%20%20%20%20%20%20%20%20%20%7B%7D%0A%20%20%20%20%20%20%20%20%20%20%20%20%29.addTo%28map_4aa00ef5102d4d3aa0af52fc5a9dde8d%29%3B%0A%20%20%20%20%20%20%20%20%0A%20%20%20%20%0A%20%20%20%20%20%20%20%20var%20popup_3c1de26cfdbb4173aab26ca187f547bd%20%3D%20L.popup%28%7B%22maxWidth%22%3A%20450%7D%29%3B%0A%0A%20%20%20%20%20%20%20%20%0A%20%20%20%20%20%20%20%20%20%20%20%20var%20html_4f0f7dbb77de4d3693179f6be66ce343%20%3D%20%24%28%60%3Cdiv%20id%3D%22html_4f0f7dbb77de4d3693179f6be66ce343%22%20style%3D%22width%3A%20100.0%25%3B%20height%3A%20100.0%25%3B%22%3ERestaurant%20Name%3AJoe%26%2339%3Bs%20Pizza%20Price%3A%20%24%20Rating%3A4.0%3C/div%3E%60%29%5B0%5D%3B%0A%20%20%20%20%20%20%20%20%20%20%20%20popup_3c1de26cfdbb4173aab26ca187f547bd.setContent%28html_4f0f7dbb77de4d3693179f6be66ce343%29%3B%0A%20%20%20%20%20%20%20%20%0A%0A%20%20%20%20%20%20%20%20marker_795c3841f79c46ae80642400a59d69be.bindPopup%28popup_3c1de26cfdbb4173aab26ca187f547bd%29%0A%20%20%20%20%20%20%20%20%3B%0A%0A%20%20%20%20%20%20%20%20%0A%20%20%20%20%0A%20%20%20%20%0A%20%20%20%20%20%20%20%20%20%20%20%20var%20marker_27459f9512ed498fb292e2f5ebdaf32c%20%3D%20L.marker%28%0A%20%20%20%20%20%20%20%20%20%20%20%20%20%20%20%20%5B40.68010063450117%2C%20-73.99684270596433%5D%2C%0A%20%20%20%20%20%20%20%20%20%20%20%20%20%20%20%20%7B%7D%0A%20%20%20%20%20%20%20%20%20%20%20%20%29.addTo%28map_4aa00ef5102d4d3aa0af52fc5a9dde8d%29%3B%0A%20%20%20%20%20%20%20%20%0A%20%20%20%20%0A%20%20%20%20%20%20%20%20var%20popup_80c64bdc5b0b4366899ab057d9935c8d%20%3D%20L.popup%28%7B%22maxWidth%22%3A%20450%7D%29%3B%0A%0A%20%20%20%20%20%20%20%20%0A%20%20%20%20%20%20%20%20%20%20%20%20var%20html_91f186fd976c4a049ad84d471d9dda67%20%3D%20%24%28%60%3Cdiv%20id%3D%22html_91f186fd976c4a049ad84d471d9dda67%22%20style%3D%22width%3A%20100.0%25%3B%20height%3A%20100.0%25%3B%22%3ERestaurant%20Name%3ABaby%20Luc%E2%80%99s%20Price%3A%20None%20Rating%3A3.0%3C/div%3E%60%29%5B0%5D%3B%0A%20%20%20%20%20%20%20%20%20%20%20%20popup_80c64bdc5b0b4366899ab057d9935c8d.setContent%28html_91f186fd976c4a049ad84d471d9dda67%29%3B%0A%20%20%20%20%20%20%20%20%0A%0A%20%20%20%20%20%20%20%20marker_27459f9512ed498fb292e2f5ebdaf32c.bindPopup%28popup_80c64bdc5b0b4366899ab057d9935c8d%29%0A%20%20%20%20%20%20%20%20%3B%0A%0A%20%20%20%20%20%20%20%20%0A%20%20%20%20%0A%20%20%20%20%0A%20%20%20%20%20%20%20%20%20%20%20%20var%20marker_29e5123954374ec3b6895f459066329d%20%3D%20L.marker%28%0A%20%20%20%20%20%20%20%20%20%20%20%20%20%20%20%20%5B40.7320627016512%2C%20-74.0036552270137%5D%2C%0A%20%20%20%20%20%20%20%20%20%20%20%20%20%20%20%20%7B%7D%0A%20%20%20%20%20%20%20%20%20%20%20%20%29.addTo%28map_4aa00ef5102d4d3aa0af52fc5a9dde8d%29%3B%0A%20%20%20%20%20%20%20%20%0A%20%20%20%20%0A%20%20%20%20%20%20%20%20var%20popup_4ca8cbcb0f194b7ca08481872ceb614a%20%3D%20L.popup%28%7B%22maxWidth%22%3A%20450%7D%29%3B%0A%0A%20%20%20%20%20%20%20%20%0A%20%20%20%20%20%20%20%20%20%20%20%20var%20html_09a786447578460e8edfebc1a71c280b%20%3D%20%24%28%60%3Cdiv%20id%3D%22html_09a786447578460e8edfebc1a71c280b%22%20style%3D%22width%3A%20100.0%25%3B%20height%3A%20100.0%25%3B%22%3ERestaurant%20Name%3ABleecker%20Street%20Pizza%20Price%3A%20%24%20Rating%3A4.0%3C/div%3E%60%29%5B0%5D%3B%0A%20%20%20%20%20%20%20%20%20%20%20%20popup_4ca8cbcb0f194b7ca08481872ceb614a.setContent%28html_09a786447578460e8edfebc1a71c280b%29%3B%0A%20%20%20%20%20%20%20%20%0A%0A%20%20%20%20%20%20%20%20marker_29e5123954374ec3b6895f459066329d.bindPopup%28popup_4ca8cbcb0f194b7ca08481872ceb614a%29%0A%20%20%20%20%20%20%20%20%3B%0A%0A%20%20%20%20%20%20%20%20%0A%20%20%20%20%0A%20%20%20%20%0A%20%20%20%20%20%20%20%20%20%20%20%20var%20marker_49568212136c4cfaa8883c1cce911374%20%3D%20L.marker%28%0A%20%20%20%20%20%20%20%20%20%20%20%20%20%20%20%20%5B40.71618788546057%2C%20-73.96651754323669%5D%2C%0A%20%20%20%20%20%20%20%20%20%20%20%20%20%20%20%20%7B%7D%0A%20%20%20%20%20%20%20%20%20%20%20%20%29.addTo%28map_4aa00ef5102d4d3aa0af52fc5a9dde8d%29%3B%0A%20%20%20%20%20%20%20%20%0A%20%20%20%20%0A%20%20%20%20%20%20%20%20var%20popup_fd5c1b9c354d4ce09c549990b971e026%20%3D%20L.popup%28%7B%22maxWidth%22%3A%20450%7D%29%3B%0A%0A%20%20%20%20%20%20%20%20%0A%20%20%20%20%20%20%20%20%20%20%20%20var%20html_2fd4df60cbbf406393cfd20eee757b68%20%3D%20%24%28%60%3Cdiv%20id%3D%22html_2fd4df60cbbf406393cfd20eee757b68%22%20style%3D%22width%3A%20100.0%25%3B%20height%3A%20100.0%25%3B%22%3ERestaurant%20Name%3ARoberta%26%2339%3Bs%20Price%3A%20None%20Rating%3A4.0%3C/div%3E%60%29%5B0%5D%3B%0A%20%20%20%20%20%20%20%20%20%20%20%20popup_fd5c1b9c354d4ce09c549990b971e026.setContent%28html_2fd4df60cbbf406393cfd20eee757b68%29%3B%0A%20%20%20%20%20%20%20%20%0A%0A%20%20%20%20%20%20%20%20marker_49568212136c4cfaa8883c1cce911374.bindPopup%28popup_fd5c1b9c354d4ce09c549990b971e026%29%0A%20%20%20%20%20%20%20%20%3B%0A%0A%20%20%20%20%20%20%20%20%0A%20%20%20%20%0A%20%20%20%20%0A%20%20%20%20%20%20%20%20%20%20%20%20var%20marker_6fb3cdd556764d228aca43675ff080e1%20%3D%20L.marker%28%0A%20%20%20%20%20%20%20%20%20%20%20%20%20%20%20%20%5B40.7445882%2C%20-73.9847936%5D%2C%0A%20%20%20%20%20%20%20%20%20%20%20%20%20%20%20%20%7B%7D%0A%20%20%20%20%20%20%20%20%20%20%20%20%29.addTo%28map_4aa00ef5102d4d3aa0af52fc5a9dde8d%29%3B%0A%20%20%20%20%20%20%20%20%0A%20%20%20%20%0A%20%20%20%20%20%20%20%20var%20popup_b583fee114ec415e85515654aac587c0%20%3D%20L.popup%28%7B%22maxWidth%22%3A%20450%7D%29%3B%0A%0A%20%20%20%20%20%20%20%20%0A%20%20%20%20%20%20%20%20%20%20%20%20var%20html_a53acec847ab41ee9f3ad34cafd59852%20%3D%20%24%28%60%3Cdiv%20id%3D%22html_a53acec847ab41ee9f3ad34cafd59852%22%20style%3D%22width%3A%20100.0%25%3B%20height%3A%20100.0%25%3B%22%3ERestaurant%20Name%3AMarta%20Price%3A%20%24%24%24%20Rating%3A4.0%3C/div%3E%60%29%5B0%5D%3B%0A%20%20%20%20%20%20%20%20%20%20%20%20popup_b583fee114ec415e85515654aac587c0.setContent%28html_a53acec847ab41ee9f3ad34cafd59852%29%3B%0A%20%20%20%20%20%20%20%20%0A%0A%20%20%20%20%20%20%20%20marker_6fb3cdd556764d228aca43675ff080e1.bindPopup%28popup_b583fee114ec415e85515654aac587c0%29%0A%20%20%20%20%20%20%20%20%3B%0A%0A%20%20%20%20%20%20%20%20%0A%20%20%20%20%0A%20%20%20%20%0A%20%20%20%20%20%20%20%20%20%20%20%20var%20marker_b70dfb5574a649f8a19391693258c54a%20%3D%20L.marker%28%0A%20%20%20%20%20%20%20%20%20%20%20%20%20%20%20%20%5B40.728199%2C%20-73.985182%5D%2C%0A%20%20%20%20%20%20%20%20%20%20%20%20%20%20%20%20%7B%7D%0A%20%20%20%20%20%20%20%20%20%20%20%20%29.addTo%28map_4aa00ef5102d4d3aa0af52fc5a9dde8d%29%3B%0A%20%20%20%20%20%20%20%20%0A%20%20%20%20%0A%20%20%20%20%20%20%20%20var%20popup_1915000bc7ff4a43bc9578b92d211c75%20%3D%20L.popup%28%7B%22maxWidth%22%3A%20450%7D%29%3B%0A%0A%20%20%20%20%20%20%20%20%0A%20%20%20%20%20%20%20%20%20%20%20%20var%20html_1b5c3ccaccc94f5997cca598701afaa4%20%3D%20%24%28%60%3Cdiv%20id%3D%22html_1b5c3ccaccc94f5997cca598701afaa4%22%20style%3D%22width%3A%20100.0%25%3B%20height%3A%20100.0%25%3B%22%3ERestaurant%20Name%3AEast%20Village%20Pizza%20Price%3A%20%24%20Rating%3A4.0%3C/div%3E%60%29%5B0%5D%3B%0A%20%20%20%20%20%20%20%20%20%20%20%20popup_1915000bc7ff4a43bc9578b92d211c75.setContent%28html_1b5c3ccaccc94f5997cca598701afaa4%29%3B%0A%20%20%20%20%20%20%20%20%0A%0A%20%20%20%20%20%20%20%20marker_b70dfb5574a649f8a19391693258c54a.bindPopup%28popup_1915000bc7ff4a43bc9578b92d211c75%29%0A%20%20%20%20%20%20%20%20%3B%0A%0A%20%20%20%20%20%20%20%20%0A%20%20%20%20%0A%20%20%20%20%0A%20%20%20%20%20%20%20%20%20%20%20%20var%20marker_411ac36264284b24a8ec4af22884c2b6%20%3D%20L.marker%28%0A%20%20%20%20%20%20%20%20%20%20%20%20%20%20%20%20%5B40.71534%2C%20-73.9914%5D%2C%0A%20%20%20%20%20%20%20%20%20%20%20%20%20%20%20%20%7B%7D%0A%20%20%20%20%20%20%20%20%20%20%20%20%29.addTo%28map_4aa00ef5102d4d3aa0af52fc5a9dde8d%29%3B%0A%20%20%20%20%20%20%20%20%0A%20%20%20%20%0A%20%20%20%20%20%20%20%20var%20popup_0d1f182b6bd9406e824484e1a571d839%20%3D%20L.popup%28%7B%22maxWidth%22%3A%20450%7D%29%3B%0A%0A%20%20%20%20%20%20%20%20%0A%20%20%20%20%20%20%20%20%20%20%20%20var%20html_b5367267a93b47048344a72b080fcf42%20%3D%20%24%28%60%3Cdiv%20id%3D%22html_b5367267a93b47048344a72b080fcf42%22%20style%3D%22width%3A%20100.0%25%3B%20height%3A%20100.0%25%3B%22%3ERestaurant%20Name%3AScarr%26%2339%3Bs%20Pizza%20Price%3A%20%24%20Rating%3A4.0%3C/div%3E%60%29%5B0%5D%3B%0A%20%20%20%20%20%20%20%20%20%20%20%20popup_0d1f182b6bd9406e824484e1a571d839.setContent%28html_b5367267a93b47048344a72b080fcf42%29%3B%0A%20%20%20%20%20%20%20%20%0A%0A%20%20%20%20%20%20%20%20marker_411ac36264284b24a8ec4af22884c2b6.bindPopup%28popup_0d1f182b6bd9406e824484e1a571d839%29%0A%20%20%20%20%20%20%20%20%3B%0A%0A%20%20%20%20%20%20%20%20%0A%20%20%20%20%0A%20%20%20%20%0A%20%20%20%20%20%20%20%20%20%20%20%20var%20marker_ae4d9ede0c0b4f549b0df5f2c2e7f712%20%3D%20L.marker%28%0A%20%20%20%20%20%20%20%20%20%20%20%20%20%20%20%20%5B40.77408%2C%20-73.95969%5D%2C%0A%20%20%20%20%20%20%20%20%20%20%20%20%20%20%20%20%7B%7D%0A%20%20%20%20%20%20%20%20%20%20%20%20%29.addTo%28map_4aa00ef5102d4d3aa0af52fc5a9dde8d%29%3B%0A%20%20%20%20%20%20%20%20%0A%20%20%20%20%0A%20%20%20%20%20%20%20%20var%20popup_795264dc205645acb5b5ec34b40bb84f%20%3D%20L.popup%28%7B%22maxWidth%22%3A%20450%7D%29%3B%0A%0A%20%20%20%20%20%20%20%20%0A%20%20%20%20%20%20%20%20%20%20%20%20var%20html_192ed0091a3645419896bc90ee977de1%20%3D%20%24%28%60%3Cdiv%20id%3D%22html_192ed0091a3645419896bc90ee977de1%22%20style%3D%22width%3A%20100.0%25%3B%20height%3A%20100.0%25%3B%22%3ERestaurant%20Name%3AKoronet%20Pizza%20Price%3A%20None%20Rating%3A4.5%3C/div%3E%60%29%5B0%5D%3B%0A%20%20%20%20%20%20%20%20%20%20%20%20popup_795264dc205645acb5b5ec34b40bb84f.setContent%28html_192ed0091a3645419896bc90ee977de1%29%3B%0A%20%20%20%20%20%20%20%20%0A%0A%20%20%20%20%20%20%20%20marker_ae4d9ede0c0b4f549b0df5f2c2e7f712.bindPopup%28popup_795264dc205645acb5b5ec34b40bb84f%29%0A%20%20%20%20%20%20%20%20%3B%0A%0A%20%20%20%20%20%20%20%20%0A%20%20%20%20%0A%20%20%20%20%0A%20%20%20%20%20%20%20%20%20%20%20%20var%20marker_863736a90a264ba7970f2f144b2c6ba6%20%3D%20L.marker%28%0A%20%20%20%20%20%20%20%20%20%20%20%20%20%20%20%20%5B40.7321124557704%2C%20-73.9839056828882%5D%2C%0A%20%20%20%20%20%20%20%20%20%20%20%20%20%20%20%20%7B%7D%0A%20%20%20%20%20%20%20%20%20%20%20%20%29.addTo%28map_4aa00ef5102d4d3aa0af52fc5a9dde8d%29%3B%0A%20%20%20%20%20%20%20%20%0A%20%20%20%20%0A%20%20%20%20%20%20%20%20var%20popup_77e2b4e58f1a431693d6e6a83a6717a9%20%3D%20L.popup%28%7B%22maxWidth%22%3A%20450%7D%29%3B%0A%0A%20%20%20%20%20%20%20%20%0A%20%20%20%20%20%20%20%20%20%20%20%20var%20html_af3c0799c579486d944bc83a506411c3%20%3D%20%24%28%60%3Cdiv%20id%3D%22html_af3c0799c579486d944bc83a506411c3%22%20style%3D%22width%3A%20100.0%25%3B%20height%3A%20100.0%25%3B%22%3ERestaurant%20Name%3AArtichoke%20Basille%26%2339%3Bs%20Pizza%20Price%3A%20%24%20Rating%3A4.0%3C/div%3E%60%29%5B0%5D%3B%0A%20%20%20%20%20%20%20%20%20%20%20%20popup_77e2b4e58f1a431693d6e6a83a6717a9.setContent%28html_af3c0799c579486d944bc83a506411c3%29%3B%0A%20%20%20%20%20%20%20%20%0A%0A%20%20%20%20%20%20%20%20marker_863736a90a264ba7970f2f144b2c6ba6.bindPopup%28popup_77e2b4e58f1a431693d6e6a83a6717a9%29%0A%20%20%20%20%20%20%20%20%3B%0A%0A%20%20%20%20%20%20%20%20%0A%20%20%20%20%0A%20%20%20%20%0A%20%20%20%20%20%20%20%20%20%20%20%20var%20marker_22a8358bd42e49bfbfefff07df05860d%20%3D%20L.marker%28%0A%20%20%20%20%20%20%20%20%20%20%20%20%20%20%20%20%5B40.723625%2C%20-73.988555%5D%2C%0A%20%20%20%20%20%20%20%20%20%20%20%20%20%20%20%20%7B%7D%0A%20%20%20%20%20%20%20%20%20%20%20%20%29.addTo%28map_4aa00ef5102d4d3aa0af52fc5a9dde8d%29%3B%0A%20%20%20%20%20%20%20%20%0A%20%20%20%20%0A%20%20%20%20%20%20%20%20var%20popup_09f0270b19ff4fe5ace7be13392429af%20%3D%20L.popup%28%7B%22maxWidth%22%3A%20450%7D%29%3B%0A%0A%20%20%20%20%20%20%20%20%0A%20%20%20%20%20%20%20%20%20%20%20%20var%20html_13b1493aa3c24d90963127431add5f0c%20%3D%20%24%28%60%3Cdiv%20id%3D%22html_13b1493aa3c24d90963127431add5f0c%22%20style%3D%22width%3A%20100.0%25%3B%20height%3A%20100.0%25%3B%22%3ERestaurant%20Name%3ALil%20Frankie%26%2339%3Bs%20Price%3A%20%24%24%20Rating%3A4.0%3C/div%3E%60%29%5B0%5D%3B%0A%20%20%20%20%20%20%20%20%20%20%20%20popup_09f0270b19ff4fe5ace7be13392429af.setContent%28html_13b1493aa3c24d90963127431add5f0c%29%3B%0A%20%20%20%20%20%20%20%20%0A%0A%20%20%20%20%20%20%20%20marker_22a8358bd42e49bfbfefff07df05860d.bindPopup%28popup_09f0270b19ff4fe5ace7be13392429af%29%0A%20%20%20%20%20%20%20%20%3B%0A%0A%20%20%20%20%20%20%20%20%0A%20%20%20%20%0A%20%20%20%20%0A%20%20%20%20%20%20%20%20%20%20%20%20var%20marker_bddd164210ef4295b0ddfd5d3db3f508%20%3D%20L.marker%28%0A%20%20%20%20%20%20%20%20%20%20%20%20%20%20%20%20%5B40.6818695%2C%20-73.976181%5D%2C%0A%20%20%20%20%20%20%20%20%20%20%20%20%20%20%20%20%7B%7D%0A%20%20%20%20%20%20%20%20%20%20%20%20%29.addTo%28map_4aa00ef5102d4d3aa0af52fc5a9dde8d%29%3B%0A%20%20%20%20%20%20%20%20%0A%20%20%20%20%0A%20%20%20%20%20%20%20%20var%20popup_d693bc65db4e4c6db24df34b0f3c8c15%20%3D%20L.popup%28%7B%22maxWidth%22%3A%20450%7D%29%3B%0A%0A%20%20%20%20%20%20%20%20%0A%20%20%20%20%20%20%20%20%20%20%20%20var%20html_9a443a74de7844c38f284d31cbdccc7f%20%3D%20%24%28%60%3Cdiv%20id%3D%22html_9a443a74de7844c38f284d31cbdccc7f%22%20style%3D%22width%3A%20100.0%25%3B%20height%3A%20100.0%25%3B%22%3ERestaurant%20Name%3APatsy%26%2339%3Bs%20Pizzeria%20Price%3A%20%24%24%20Rating%3A4.5%3C/div%3E%60%29%5B0%5D%3B%0A%20%20%20%20%20%20%20%20%20%20%20%20popup_d693bc65db4e4c6db24df34b0f3c8c15.setContent%28html_9a443a74de7844c38f284d31cbdccc7f%29%3B%0A%20%20%20%20%20%20%20%20%0A%0A%20%20%20%20%20%20%20%20marker_bddd164210ef4295b0ddfd5d3db3f508.bindPopup%28popup_d693bc65db4e4c6db24df34b0f3c8c15%29%0A%20%20%20%20%20%20%20%20%3B%0A%0A%20%20%20%20%20%20%20%20%0A%20%20%20%20%0A%20%20%20%20%0A%20%20%20%20%20%20%20%20%20%20%20%20var%20marker_05c020369b2c432ba7d7674d3120996f%20%3D%20L.marker%28%0A%20%20%20%20%20%20%20%20%20%20%20%20%20%20%20%20%5B40.73829%2C%20-74.0054%5D%2C%0A%20%20%20%20%20%20%20%20%20%20%20%20%20%20%20%20%7B%7D%0A%20%20%20%20%20%20%20%20%20%20%20%20%29.addTo%28map_4aa00ef5102d4d3aa0af52fc5a9dde8d%29%3B%0A%20%20%20%20%20%20%20%20%0A%20%20%20%20%0A%20%20%20%20%20%20%20%20var%20popup_a25dd430c7e449c9a144c0183b00d048%20%3D%20L.popup%28%7B%22maxWidth%22%3A%20450%7D%29%3B%0A%0A%20%20%20%20%20%20%20%20%0A%20%20%20%20%20%20%20%20%20%20%20%20var%20html_8e011f7fc7524c23b040a165a53d24b6%20%3D%20%24%28%60%3Cdiv%20id%3D%22html_8e011f7fc7524c23b040a165a53d24b6%22%20style%3D%22width%3A%20100.0%25%3B%20height%3A%20100.0%25%3B%22%3ERestaurant%20Name%3ABrunetti%20Pizza%20Price%3A%20%24%24%20Rating%3A4.5%3C/div%3E%60%29%5B0%5D%3B%0A%20%20%20%20%20%20%20%20%20%20%20%20popup_a25dd430c7e449c9a144c0183b00d048.setContent%28html_8e011f7fc7524c23b040a165a53d24b6%29%3B%0A%20%20%20%20%20%20%20%20%0A%0A%20%20%20%20%20%20%20%20marker_05c020369b2c432ba7d7674d3120996f.bindPopup%28popup_a25dd430c7e449c9a144c0183b00d048%29%0A%20%20%20%20%20%20%20%20%3B%0A%0A%20%20%20%20%20%20%20%20%0A%20%20%20%20%0A%20%20%20%20%0A%20%20%20%20%20%20%20%20%20%20%20%20var%20marker_f390e720e9a14a6ab6df41168a39deb5%20%3D%20L.marker%28%0A%20%20%20%20%20%20%20%20%20%20%20%20%20%20%20%20%5B40.7547%2C%20-73.98696%5D%2C%0A%20%20%20%20%20%20%20%20%20%20%20%20%20%20%20%20%7B%7D%0A%20%20%20%20%20%20%20%20%20%20%20%20%29.addTo%28map_4aa00ef5102d4d3aa0af52fc5a9dde8d%29%3B%0A%20%20%20%20%20%20%20%20%0A%20%20%20%20%0A%20%20%20%20%20%20%20%20var%20popup_a4b015a07d7d4a129c953880c8854845%20%3D%20L.popup%28%7B%22maxWidth%22%3A%20450%7D%29%3B%0A%0A%20%20%20%20%20%20%20%20%0A%20%20%20%20%20%20%20%20%20%20%20%20var%20html_98c1ba1b917842d3bc92d388f41b773f%20%3D%20%24%28%60%3Cdiv%20id%3D%22html_98c1ba1b917842d3bc92d388f41b773f%22%20style%3D%22width%3A%20100.0%25%3B%20height%3A%20100.0%25%3B%22%3ERestaurant%20Name%3AJoe%26%2339%3Bs%20Pizza%20Price%3A%20%24%20Rating%3A4.0%3C/div%3E%60%29%5B0%5D%3B%0A%20%20%20%20%20%20%20%20%20%20%20%20popup_a4b015a07d7d4a129c953880c8854845.setContent%28html_98c1ba1b917842d3bc92d388f41b773f%29%3B%0A%20%20%20%20%20%20%20%20%0A%0A%20%20%20%20%20%20%20%20marker_f390e720e9a14a6ab6df41168a39deb5.bindPopup%28popup_a4b015a07d7d4a129c953880c8854845%29%0A%20%20%20%20%20%20%20%20%3B%0A%0A%20%20%20%20%20%20%20%20%0A%20%20%20%20%0A%20%20%20%20%0A%20%20%20%20%20%20%20%20%20%20%20%20var%20marker_4e564ba123824deb89434b67924ded0a%20%3D%20L.marker%28%0A%20%20%20%20%20%20%20%20%20%20%20%20%20%20%20%20%5B40.778638%2C%20-73.952895%5D%2C%0A%20%20%20%20%20%20%20%20%20%20%20%20%20%20%20%20%7B%7D%0A%20%20%20%20%20%20%20%20%20%20%20%20%29.addTo%28map_4aa00ef5102d4d3aa0af52fc5a9dde8d%29%3B%0A%20%20%20%20%20%20%20%20%0A%20%20%20%20%0A%20%20%20%20%20%20%20%20var%20popup_205c3fe4e49d4d0aa218bb50c0c4e238%20%3D%20L.popup%28%7B%22maxWidth%22%3A%20450%7D%29%3B%0A%0A%20%20%20%20%20%20%20%20%0A%20%20%20%20%20%20%20%20%20%20%20%20var%20html_16c5688752ee4241af1eb1b5650c4f98%20%3D%20%24%28%60%3Cdiv%20id%3D%22html_16c5688752ee4241af1eb1b5650c4f98%22%20style%3D%22width%3A%20100.0%25%3B%20height%3A%20100.0%25%3B%22%3ERestaurant%20Name%3AMimi%26%2339%3Bs%20Pizza%20Price%3A%20None%20Rating%3A4.5%3C/div%3E%60%29%5B0%5D%3B%0A%20%20%20%20%20%20%20%20%20%20%20%20popup_205c3fe4e49d4d0aa218bb50c0c4e238.setContent%28html_16c5688752ee4241af1eb1b5650c4f98%29%3B%0A%20%20%20%20%20%20%20%20%0A%0A%20%20%20%20%20%20%20%20marker_4e564ba123824deb89434b67924ded0a.bindPopup%28popup_205c3fe4e49d4d0aa218bb50c0c4e238%29%0A%20%20%20%20%20%20%20%20%3B%0A%0A%20%20%20%20%20%20%20%20%0A%20%20%20%20%0A%20%20%20%20%0A%20%20%20%20%20%20%20%20%20%20%20%20var%20marker_d671403edbde4f8aa5444dcabd1d4a12%20%3D%20L.marker%28%0A%20%20%20%20%20%20%20%20%20%20%20%20%20%20%20%20%5B40.71691%2C%20-73.958987%5D%2C%0A%20%20%20%20%20%20%20%20%20%20%20%20%20%20%20%20%7B%7D%0A%20%20%20%20%20%20%20%20%20%20%20%20%29.addTo%28map_4aa00ef5102d4d3aa0af52fc5a9dde8d%29%3B%0A%20%20%20%20%20%20%20%20%0A%20%20%20%20%0A%20%20%20%20%20%20%20%20var%20popup_1843b2c4920041a2b31e58c8851bb689%20%3D%20L.popup%28%7B%22maxWidth%22%3A%20450%7D%29%3B%0A%0A%20%20%20%20%20%20%20%20%0A%20%20%20%20%20%20%20%20%20%20%20%20var%20html_295192f8572e4bfb80b03e45bc289be1%20%3D%20%24%28%60%3Cdiv%20id%3D%22html_295192f8572e4bfb80b03e45bc289be1%22%20style%3D%22width%3A%20100.0%25%3B%20height%3A%20100.0%25%3B%22%3ERestaurant%20Name%3AJoe%26%2339%3Bs%20Pizza%20Price%3A%20%24%20Rating%3A4.0%3C/div%3E%60%29%5B0%5D%3B%0A%20%20%20%20%20%20%20%20%20%20%20%20popup_1843b2c4920041a2b31e58c8851bb689.setContent%28html_295192f8572e4bfb80b03e45bc289be1%29%3B%0A%20%20%20%20%20%20%20%20%0A%0A%20%20%20%20%20%20%20%20marker_d671403edbde4f8aa5444dcabd1d4a12.bindPopup%28popup_1843b2c4920041a2b31e58c8851bb689%29%0A%20%20%20%20%20%20%20%20%3B%0A%0A%20%20%20%20%20%20%20%20%0A%20%20%20%20%0A%20%20%20%20%0A%20%20%20%20%20%20%20%20%20%20%20%20var%20marker_72cd83dda458493c99bbdfad3ad523c3%20%3D%20L.marker%28%0A%20%20%20%20%20%20%20%20%20%20%20%20%20%20%20%20%5B40.70244%2C%20-73.98943%5D%2C%0A%20%20%20%20%20%20%20%20%20%20%20%20%20%20%20%20%7B%7D%0A%20%20%20%20%20%20%20%20%20%20%20%20%29.addTo%28map_4aa00ef5102d4d3aa0af52fc5a9dde8d%29%3B%0A%20%20%20%20%20%20%20%20%0A%20%20%20%20%0A%20%20%20%20%20%20%20%20var%20popup_99119c8705fa49128b45dd8fd8dfdea1%20%3D%20L.popup%28%7B%22maxWidth%22%3A%20450%7D%29%3B%0A%0A%20%20%20%20%20%20%20%20%0A%20%20%20%20%20%20%20%20%20%20%20%20var%20html_520f48610dd24af48c385216f9ac42f2%20%3D%20%24%28%60%3Cdiv%20id%3D%22html_520f48610dd24af48c385216f9ac42f2%22%20style%3D%22width%3A%20100.0%25%3B%20height%3A%20100.0%25%3B%22%3ERestaurant%20Name%3AFront%20Street%20Pizza%20Price%3A%20%24%20Rating%3A4.0%3C/div%3E%60%29%5B0%5D%3B%0A%20%20%20%20%20%20%20%20%20%20%20%20popup_99119c8705fa49128b45dd8fd8dfdea1.setContent%28html_520f48610dd24af48c385216f9ac42f2%29%3B%0A%20%20%20%20%20%20%20%20%0A%0A%20%20%20%20%20%20%20%20marker_72cd83dda458493c99bbdfad3ad523c3.bindPopup%28popup_99119c8705fa49128b45dd8fd8dfdea1%29%0A%20%20%20%20%20%20%20%20%3B%0A%0A%20%20%20%20%20%20%20%20%0A%20%20%20%20%0A%20%20%20%20%0A%20%20%20%20%20%20%20%20%20%20%20%20var%20marker_32af83c0e2ed4dd98463b6854083dbe1%20%3D%20L.marker%28%0A%20%20%20%20%20%20%20%20%20%20%20%20%20%20%20%20%5B40.7194089547259%2C%20-73.9973777877722%5D%2C%0A%20%20%20%20%20%20%20%20%20%20%20%20%20%20%20%20%7B%7D%0A%20%20%20%20%20%20%20%20%20%20%20%20%29.addTo%28map_4aa00ef5102d4d3aa0af52fc5a9dde8d%29%3B%0A%20%20%20%20%20%20%20%20%0A%20%20%20%20%0A%20%20%20%20%20%20%20%20var%20popup_9e7b27bd106b47c391ec0c893c9257a3%20%3D%20L.popup%28%7B%22maxWidth%22%3A%20450%7D%29%3B%0A%0A%20%20%20%20%20%20%20%20%0A%20%20%20%20%20%20%20%20%20%20%20%20var%20html_51865768c7a44138a4b13d0dda8fe673%20%3D%20%24%28%60%3Cdiv%20id%3D%22html_51865768c7a44138a4b13d0dda8fe673%22%20style%3D%22width%3A%20100.0%25%3B%20height%3A%20100.0%25%3B%22%3ERestaurant%20Name%3AGelso%20%26amp%3B%20Grand%20Price%3A%20%24%24%20Rating%3A4.5%3C/div%3E%60%29%5B0%5D%3B%0A%20%20%20%20%20%20%20%20%20%20%20%20popup_9e7b27bd106b47c391ec0c893c9257a3.setContent%28html_51865768c7a44138a4b13d0dda8fe673%29%3B%0A%20%20%20%20%20%20%20%20%0A%0A%20%20%20%20%20%20%20%20marker_32af83c0e2ed4dd98463b6854083dbe1.bindPopup%28popup_9e7b27bd106b47c391ec0c893c9257a3%29%0A%20%20%20%20%20%20%20%20%3B%0A%0A%20%20%20%20%20%20%20%20%0A%20%20%20%20%0A%20%20%20%20%0A%20%20%20%20%20%20%20%20%20%20%20%20var%20marker_9882801977c64b40ada663087205e350%20%3D%20L.marker%28%0A%20%20%20%20%20%20%20%20%20%20%20%20%20%20%20%20%5B40.688285%2C%20-73.989006%5D%2C%0A%20%20%20%20%20%20%20%20%20%20%20%20%20%20%20%20%7B%7D%0A%20%20%20%20%20%20%20%20%20%20%20%20%29.addTo%28map_4aa00ef5102d4d3aa0af52fc5a9dde8d%29%3B%0A%20%20%20%20%20%20%20%20%0A%20%20%20%20%0A%20%20%20%20%20%20%20%20var%20popup_04d0e995e021478eb71d279fec47c157%20%3D%20L.popup%28%7B%22maxWidth%22%3A%20450%7D%29%3B%0A%0A%20%20%20%20%20%20%20%20%0A%20%20%20%20%20%20%20%20%20%20%20%20var%20html_bb8c0adc7131463a80d3bdd905a468e6%20%3D%20%24%28%60%3Cdiv%20id%3D%22html_bb8c0adc7131463a80d3bdd905a468e6%22%20style%3D%22width%3A%20100.0%25%3B%20height%3A%20100.0%25%3B%22%3ERestaurant%20Name%3ASottocasa%20Pizzeria%20Price%3A%20%24%24%20Rating%3A4.5%3C/div%3E%60%29%5B0%5D%3B%0A%20%20%20%20%20%20%20%20%20%20%20%20popup_04d0e995e021478eb71d279fec47c157.setContent%28html_bb8c0adc7131463a80d3bdd905a468e6%29%3B%0A%20%20%20%20%20%20%20%20%0A%0A%20%20%20%20%20%20%20%20marker_9882801977c64b40ada663087205e350.bindPopup%28popup_04d0e995e021478eb71d279fec47c157%29%0A%20%20%20%20%20%20%20%20%3B%0A%0A%20%20%20%20%20%20%20%20%0A%20%20%20%20%0A%20%20%20%20%0A%20%20%20%20%20%20%20%20%20%20%20%20var%20marker_4ca598a9bbf64b499263e1dae5c36e98%20%3D%20L.marker%28%0A%20%20%20%20%20%20%20%20%20%20%20%20%20%20%20%20%5B40.691219329834%2C%20-73.9973449707031%5D%2C%0A%20%20%20%20%20%20%20%20%20%20%20%20%20%20%20%20%7B%7D%0A%20%20%20%20%20%20%20%20%20%20%20%20%29.addTo%28map_4aa00ef5102d4d3aa0af52fc5a9dde8d%29%3B%0A%20%20%20%20%20%20%20%20%0A%20%20%20%20%0A%20%20%20%20%20%20%20%20var%20popup_469a11fb0ce442cb9b475cbcf3ce45c3%20%3D%20L.popup%28%7B%22maxWidth%22%3A%20450%7D%29%3B%0A%0A%20%20%20%20%20%20%20%20%0A%20%20%20%20%20%20%20%20%20%20%20%20var%20html_8af371e6fa5447b686b7ef8fe1347992%20%3D%20%24%28%60%3Cdiv%20id%3D%22html_8af371e6fa5447b686b7ef8fe1347992%22%20style%3D%22width%3A%20100.0%25%3B%20height%3A%20100.0%25%3B%22%3ERestaurant%20Name%3ATable%2087%20-%20Brooklyn%20Heights%20Price%3A%20%24%24%20Rating%3A4.0%3C/div%3E%60%29%5B0%5D%3B%0A%20%20%20%20%20%20%20%20%20%20%20%20popup_469a11fb0ce442cb9b475cbcf3ce45c3.setContent%28html_8af371e6fa5447b686b7ef8fe1347992%29%3B%0A%20%20%20%20%20%20%20%20%0A%0A%20%20%20%20%20%20%20%20marker_4ca598a9bbf64b499263e1dae5c36e98.bindPopup%28popup_469a11fb0ce442cb9b475cbcf3ce45c3%29%0A%20%20%20%20%20%20%20%20%3B%0A%0A%20%20%20%20%20%20%20%20%0A%20%20%20%20%0A%20%20%20%20%0A%20%20%20%20%20%20%20%20%20%20%20%20var%20marker_49dad8195f014713bf4dd36592073e51%20%3D%20L.marker%28%0A%20%20%20%20%20%20%20%20%20%20%20%20%20%20%20%20%5B40.7502059936523%2C%20-73.9953231811523%5D%2C%0A%20%20%20%20%20%20%20%20%20%20%20%20%20%20%20%20%7B%7D%0A%20%20%20%20%20%20%20%20%20%20%20%20%29.addTo%28map_4aa00ef5102d4d3aa0af52fc5a9dde8d%29%3B%0A%20%20%20%20%20%20%20%20%0A%20%20%20%20%0A%20%20%20%20%20%20%20%20var%20popup_deb3bf59b61744978333da8990f0d3db%20%3D%20L.popup%28%7B%22maxWidth%22%3A%20450%7D%29%3B%0A%0A%20%20%20%20%20%20%20%20%0A%20%20%20%20%20%20%20%20%20%20%20%20var%20html_e3bdca0416e74019a9c18f5d026fbd69%20%3D%20%24%28%60%3Cdiv%20id%3D%22html_e3bdca0416e74019a9c18f5d026fbd69%22%20style%3D%22width%3A%20100.0%25%3B%20height%3A%20100.0%25%3B%22%3ERestaurant%20Name%3ANY%20Pizza%20Suprema%20Price%3A%20%24%20Rating%3A4.0%3C/div%3E%60%29%5B0%5D%3B%0A%20%20%20%20%20%20%20%20%20%20%20%20popup_deb3bf59b61744978333da8990f0d3db.setContent%28html_e3bdca0416e74019a9c18f5d026fbd69%29%3B%0A%20%20%20%20%20%20%20%20%0A%0A%20%20%20%20%20%20%20%20marker_49dad8195f014713bf4dd36592073e51.bindPopup%28popup_deb3bf59b61744978333da8990f0d3db%29%0A%20%20%20%20%20%20%20%20%3B%0A%0A%20%20%20%20%20%20%20%20%0A%20%20%20%20%0A%20%20%20%20%0A%20%20%20%20%20%20%20%20%20%20%20%20var%20marker_49a226fea7ce4a73872cb1851be8eb51%20%3D%20L.marker%28%0A%20%20%20%20%20%20%20%20%20%20%20%20%20%20%20%20%5B40.7177490485075%2C%20-74.0441924355125%5D%2C%0A%20%20%20%20%20%20%20%20%20%20%20%20%20%20%20%20%7B%7D%0A%20%20%20%20%20%20%20%20%20%20%20%20%29.addTo%28map_4aa00ef5102d4d3aa0af52fc5a9dde8d%29%3B%0A%20%20%20%20%20%20%20%20%0A%20%20%20%20%0A%20%20%20%20%20%20%20%20var%20popup_6f40c3c73e77435b9571388f78e423f2%20%3D%20L.popup%28%7B%22maxWidth%22%3A%20450%7D%29%3B%0A%0A%20%20%20%20%20%20%20%20%0A%20%20%20%20%20%20%20%20%20%20%20%20var%20html_e563ce1c09594e84a7fa05389edc144b%20%3D%20%24%28%60%3Cdiv%20id%3D%22html_e563ce1c09594e84a7fa05389edc144b%22%20style%3D%22width%3A%20100.0%25%3B%20height%3A%20100.0%25%3B%22%3ERestaurant%20Name%3ARazza%20Pizza%20Artigianale%20Price%3A%20%24%24%20Rating%3A4.0%3C/div%3E%60%29%5B0%5D%3B%0A%20%20%20%20%20%20%20%20%20%20%20%20popup_6f40c3c73e77435b9571388f78e423f2.setContent%28html_e563ce1c09594e84a7fa05389edc144b%29%3B%0A%20%20%20%20%20%20%20%20%0A%0A%20%20%20%20%20%20%20%20marker_49a226fea7ce4a73872cb1851be8eb51.bindPopup%28popup_6f40c3c73e77435b9571388f78e423f2%29%0A%20%20%20%20%20%20%20%20%3B%0A%0A%20%20%20%20%20%20%20%20%0A%20%20%20%20%0A%20%20%20%20%0A%20%20%20%20%20%20%20%20%20%20%20%20var%20marker_3fee53b4e92e4b5e97d91cb165f50083%20%3D%20L.marker%28%0A%20%20%20%20%20%20%20%20%20%20%20%20%20%20%20%20%5B40.733826%2C%20-73.999852%5D%2C%0A%20%20%20%20%20%20%20%20%20%20%20%20%20%20%20%20%7B%7D%0A%20%20%20%20%20%20%20%20%20%20%20%20%29.addTo%28map_4aa00ef5102d4d3aa0af52fc5a9dde8d%29%3B%0A%20%20%20%20%20%20%20%20%0A%20%20%20%20%0A%20%20%20%20%20%20%20%20var%20popup_8fe6fab59305450eb782a8926b891187%20%3D%20L.popup%28%7B%22maxWidth%22%3A%20450%7D%29%3B%0A%0A%20%20%20%20%20%20%20%20%0A%20%20%20%20%20%20%20%20%20%20%20%20var%20html_361c4be0467845378dcf17e46e5d4bdf%20%3D%20%24%28%60%3Cdiv%20id%3D%22html_361c4be0467845378dcf17e46e5d4bdf%22%20style%3D%22width%3A%20100.0%25%3B%20height%3A%20100.0%25%3B%22%3ERestaurant%20Name%3AOlio%20e%20Pi%C3%BA%20Price%3A%20%24%24%20Rating%3A4.5%3C/div%3E%60%29%5B0%5D%3B%0A%20%20%20%20%20%20%20%20%20%20%20%20popup_8fe6fab59305450eb782a8926b891187.setContent%28html_361c4be0467845378dcf17e46e5d4bdf%29%3B%0A%20%20%20%20%20%20%20%20%0A%0A%20%20%20%20%20%20%20%20marker_3fee53b4e92e4b5e97d91cb165f50083.bindPopup%28popup_8fe6fab59305450eb782a8926b891187%29%0A%20%20%20%20%20%20%20%20%3B%0A%0A%20%20%20%20%20%20%20%20%0A%20%20%20%20%0A%20%20%20%20%0A%20%20%20%20%20%20%20%20%20%20%20%20var%20marker_f8b8f0f85dec4007ad910e5b4eb3c116%20%3D%20L.marker%28%0A%20%20%20%20%20%20%20%20%20%20%20%20%20%20%20%20%5B40.717953%2C%20-73.9637027%5D%2C%0A%20%20%20%20%20%20%20%20%20%20%20%20%20%20%20%20%7B%7D%0A%20%20%20%20%20%20%20%20%20%20%20%20%29.addTo%28map_4aa00ef5102d4d3aa0af52fc5a9dde8d%29%3B%0A%20%20%20%20%20%20%20%20%0A%20%20%20%20%0A%20%20%20%20%20%20%20%20var%20popup_966539bcfb43401a9911971a674804fe%20%3D%20L.popup%28%7B%22maxWidth%22%3A%20450%7D%29%3B%0A%0A%20%20%20%20%20%20%20%20%0A%20%20%20%20%20%20%20%20%20%20%20%20var%20html_33f8f1bcc75644509f0879df0411f492%20%3D%20%24%28%60%3Cdiv%20id%3D%22html_33f8f1bcc75644509f0879df0411f492%22%20style%3D%22width%3A%20100.0%25%3B%20height%3A%20100.0%25%3B%22%3ERestaurant%20Name%3ALa%20Nonna%20Krispy%20Krust%20Pizza%20Price%3A%20%24%24%20Rating%3A4.0%3C/div%3E%60%29%5B0%5D%3B%0A%20%20%20%20%20%20%20%20%20%20%20%20popup_966539bcfb43401a9911971a674804fe.setContent%28html_33f8f1bcc75644509f0879df0411f492%29%3B%0A%20%20%20%20%20%20%20%20%0A%0A%20%20%20%20%20%20%20%20marker_f8b8f0f85dec4007ad910e5b4eb3c116.bindPopup%28popup_966539bcfb43401a9911971a674804fe%29%0A%20%20%20%20%20%20%20%20%3B%0A%0A%20%20%20%20%20%20%20%20%0A%20%20%20%20%0A%20%20%20%20%0A%20%20%20%20%20%20%20%20%20%20%20%20var%20marker_432296df03d04ce7a772f2558b94d92c%20%3D%20L.marker%28%0A%20%20%20%20%20%20%20%20%20%20%20%20%20%20%20%20%5B40.722121%2C%20-73.956678%5D%2C%0A%20%20%20%20%20%20%20%20%20%20%20%20%20%20%20%20%7B%7D%0A%20%20%20%20%20%20%20%20%20%20%20%20%29.addTo%28map_4aa00ef5102d4d3aa0af52fc5a9dde8d%29%3B%0A%20%20%20%20%20%20%20%20%0A%20%20%20%20%0A%20%20%20%20%20%20%20%20var%20popup_449d102e1b4e41fa898a81b7a32b9dd8%20%3D%20L.popup%28%7B%22maxWidth%22%3A%20450%7D%29%3B%0A%0A%20%20%20%20%20%20%20%20%0A%20%20%20%20%20%20%20%20%20%20%20%20var%20html_732c3a6bc41f4ac48efa060c07865d71%20%3D%20%24%28%60%3Cdiv%20id%3D%22html_732c3a6bc41f4ac48efa060c07865d71%22%20style%3D%22width%3A%20100.0%25%3B%20height%3A%20100.0%25%3B%22%3ERestaurant%20Name%3ALeuca%20Price%3A%20%24%24%24%20Rating%3A4.0%3C/div%3E%60%29%5B0%5D%3B%0A%20%20%20%20%20%20%20%20%20%20%20%20popup_449d102e1b4e41fa898a81b7a32b9dd8.setContent%28html_732c3a6bc41f4ac48efa060c07865d71%29%3B%0A%20%20%20%20%20%20%20%20%0A%0A%20%20%20%20%20%20%20%20marker_432296df03d04ce7a772f2558b94d92c.bindPopup%28popup_449d102e1b4e41fa898a81b7a32b9dd8%29%0A%20%20%20%20%20%20%20%20%3B%0A%0A%20%20%20%20%20%20%20%20%0A%20%20%20%20%0A%20%20%20%20%0A%20%20%20%20%20%20%20%20%20%20%20%20var%20marker_520554fd43a94494a598d714f5be9c52%20%3D%20L.marker%28%0A%20%20%20%20%20%20%20%20%20%20%20%20%20%20%20%20%5B40.7608512%2C%20-73.9694809%5D%2C%0A%20%20%20%20%20%20%20%20%20%20%20%20%20%20%20%20%7B%7D%0A%20%20%20%20%20%20%20%20%20%20%20%20%29.addTo%28map_4aa00ef5102d4d3aa0af52fc5a9dde8d%29%3B%0A%20%20%20%20%20%20%20%20%0A%20%20%20%20%0A%20%20%20%20%20%20%20%20var%20popup_f339f9d17cee4e8f8c09aabaf969014e%20%3D%20L.popup%28%7B%22maxWidth%22%3A%20450%7D%29%3B%0A%0A%20%20%20%20%20%20%20%20%0A%20%20%20%20%20%20%20%20%20%20%20%20var%20html_0697176fe30d493dbc50fa4fe9fcaa57%20%3D%20%24%28%60%3Cdiv%20id%3D%22html_0697176fe30d493dbc50fa4fe9fcaa57%22%20style%3D%22width%3A%20100.0%25%3B%20height%3A%20100.0%25%3B%22%3ERestaurant%20Name%3AMy%20Pie%20Pizzeria%20Romana%20Price%3A%20%24%20Rating%3A4.5%3C/div%3E%60%29%5B0%5D%3B%0A%20%20%20%20%20%20%20%20%20%20%20%20popup_f339f9d17cee4e8f8c09aabaf969014e.setContent%28html_0697176fe30d493dbc50fa4fe9fcaa57%29%3B%0A%20%20%20%20%20%20%20%20%0A%0A%20%20%20%20%20%20%20%20marker_520554fd43a94494a598d714f5be9c52.bindPopup%28popup_f339f9d17cee4e8f8c09aabaf969014e%29%0A%20%20%20%20%20%20%20%20%3B%0A%0A%20%20%20%20%20%20%20%20%0A%20%20%20%20%0A%20%20%20%20%0A%20%20%20%20%20%20%20%20%20%20%20%20var%20marker_99476c57f8b647db87aeb4bdcf2fa924%20%3D%20L.marker%28%0A%20%20%20%20%20%20%20%20%20%20%20%20%20%20%20%20%5B40.6810107667113%2C%20-73.9771813899279%5D%2C%0A%20%20%20%20%20%20%20%20%20%20%20%20%20%20%20%20%7B%7D%0A%20%20%20%20%20%20%20%20%20%20%20%20%29.addTo%28map_4aa00ef5102d4d3aa0af52fc5a9dde8d%29%3B%0A%20%20%20%20%20%20%20%20%0A%20%20%20%20%0A%20%20%20%20%20%20%20%20var%20popup_a7990d30f3d54bb78502e7f980e60a10%20%3D%20L.popup%28%7B%22maxWidth%22%3A%20450%7D%29%3B%0A%0A%20%20%20%20%20%20%20%20%0A%20%20%20%20%20%20%20%20%20%20%20%20var%20html_ddf345aeea3c4b2bb385053600a94948%20%3D%20%24%28%60%3Cdiv%20id%3D%22html_ddf345aeea3c4b2bb385053600a94948%22%20style%3D%22width%3A%20100.0%25%3B%20height%3A%20100.0%25%3B%22%3ERestaurant%20Name%3AArtichoke%20Basille%26%2339%3Bs%20Pizza%20Price%3A%20%24%20Rating%3A3.5%3C/div%3E%60%29%5B0%5D%3B%0A%20%20%20%20%20%20%20%20%20%20%20%20popup_a7990d30f3d54bb78502e7f980e60a10.setContent%28html_ddf345aeea3c4b2bb385053600a94948%29%3B%0A%20%20%20%20%20%20%20%20%0A%0A%20%20%20%20%20%20%20%20marker_99476c57f8b647db87aeb4bdcf2fa924.bindPopup%28popup_a7990d30f3d54bb78502e7f980e60a10%29%0A%20%20%20%20%20%20%20%20%3B%0A%0A%20%20%20%20%20%20%20%20%0A%20%20%20%20%0A%20%20%20%20%0A%20%20%20%20%20%20%20%20%20%20%20%20var%20marker_e026fa1f35b948499294678e6c774393%20%3D%20L.marker%28%0A%20%20%20%20%20%20%20%20%20%20%20%20%20%20%20%20%5B40.75157%2C%20-73.98059%5D%2C%0A%20%20%20%20%20%20%20%20%20%20%20%20%20%20%20%20%7B%7D%0A%20%20%20%20%20%20%20%20%20%20%20%20%29.addTo%28map_4aa00ef5102d4d3aa0af52fc5a9dde8d%29%3B%0A%20%20%20%20%20%20%20%20%0A%20%20%20%20%0A%20%20%20%20%20%20%20%20var%20popup_5813bd5520ba4361aa9b32f6e59ffdaf%20%3D%20L.popup%28%7B%22maxWidth%22%3A%20450%7D%29%3B%0A%0A%20%20%20%20%20%20%20%20%0A%20%20%20%20%20%20%20%20%20%20%20%20var%20html_7de779235d9f43ab89ab0fe3fc26aa53%20%3D%20%24%28%60%3Cdiv%20id%3D%22html_7de779235d9f43ab89ab0fe3fc26aa53%22%20style%3D%22width%3A%20100.0%25%3B%20height%3A%20100.0%25%3B%22%3ERestaurant%20Name%3AUpside%20Pizza%20Price%3A%20None%20Rating%3A4.5%3C/div%3E%60%29%5B0%5D%3B%0A%20%20%20%20%20%20%20%20%20%20%20%20popup_5813bd5520ba4361aa9b32f6e59ffdaf.setContent%28html_7de779235d9f43ab89ab0fe3fc26aa53%29%3B%0A%20%20%20%20%20%20%20%20%0A%0A%20%20%20%20%20%20%20%20marker_e026fa1f35b948499294678e6c774393.bindPopup%28popup_5813bd5520ba4361aa9b32f6e59ffdaf%29%0A%20%20%20%20%20%20%20%20%3B%0A%0A%20%20%20%20%20%20%20%20%0A%20%20%20%20%0A%20%20%20%20%0A%20%20%20%20%20%20%20%20%20%20%20%20var%20marker_3829b10cc1dc401d897580db8cf985a8%20%3D%20L.marker%28%0A%20%20%20%20%20%20%20%20%20%20%20%20%20%20%20%20%5B40.714987%2C%20-73.94414%5D%2C%0A%20%20%20%20%20%20%20%20%20%20%20%20%20%20%20%20%7B%7D%0A%20%20%20%20%20%20%20%20%20%20%20%20%29.addTo%28map_4aa00ef5102d4d3aa0af52fc5a9dde8d%29%3B%0A%20%20%20%20%20%20%20%20%0A%20%20%20%20%0A%20%20%20%20%20%20%20%20var%20popup_a7d5d013917c405e9f37d19911837a07%20%3D%20L.popup%28%7B%22maxWidth%22%3A%20450%7D%29%3B%0A%0A%20%20%20%20%20%20%20%20%0A%20%20%20%20%20%20%20%20%20%20%20%20var%20html_564ee9d6c46b4ca6b44981dce85a8bcd%20%3D%20%24%28%60%3Cdiv%20id%3D%22html_564ee9d6c46b4ca6b44981dce85a8bcd%22%20style%3D%22width%3A%20100.0%25%3B%20height%3A%20100.0%25%3B%22%3ERestaurant%20Name%3ACarmine%26%2339%3Bs%20Pizzeria%20Price%3A%20%24%24%20Rating%3A4.0%3C/div%3E%60%29%5B0%5D%3B%0A%20%20%20%20%20%20%20%20%20%20%20%20popup_a7d5d013917c405e9f37d19911837a07.setContent%28html_564ee9d6c46b4ca6b44981dce85a8bcd%29%3B%0A%20%20%20%20%20%20%20%20%0A%0A%20%20%20%20%20%20%20%20marker_3829b10cc1dc401d897580db8cf985a8.bindPopup%28popup_a7d5d013917c405e9f37d19911837a07%29%0A%20%20%20%20%20%20%20%20%3B%0A%0A%20%20%20%20%20%20%20%20%0A%20%20%20%20%0A%20%20%20%20%0A%20%20%20%20%20%20%20%20%20%20%20%20var%20marker_fb38256dd3554001a1e4b91802245e70%20%3D%20L.marker%28%0A%20%20%20%20%20%20%20%20%20%20%20%20%20%20%20%20%5B40.722115%2C%20-73.996407%5D%2C%0A%20%20%20%20%20%20%20%20%20%20%20%20%20%20%20%20%7B%7D%0A%20%20%20%20%20%20%20%20%20%20%20%20%29.addTo%28map_4aa00ef5102d4d3aa0af52fc5a9dde8d%29%3B%0A%20%20%20%20%20%20%20%20%0A%20%20%20%20%0A%20%20%20%20%20%20%20%20var%20popup_42999e648e984ecba473e44bc92ff494%20%3D%20L.popup%28%7B%22maxWidth%22%3A%20450%7D%29%3B%0A%0A%20%20%20%20%20%20%20%20%0A%20%20%20%20%20%20%20%20%20%20%20%20var%20html_c7b93743a5d64ecea85cd22c15ceb543%20%3D%20%24%28%60%3Cdiv%20id%3D%22html_c7b93743a5d64ecea85cd22c15ceb543%22%20style%3D%22width%3A%20100.0%25%3B%20height%3A%20100.0%25%3B%22%3ERestaurant%20Name%3AUpside%20Pizza%20Price%3A%20None%20Rating%3A4.5%3C/div%3E%60%29%5B0%5D%3B%0A%20%20%20%20%20%20%20%20%20%20%20%20popup_42999e648e984ecba473e44bc92ff494.setContent%28html_c7b93743a5d64ecea85cd22c15ceb543%29%3B%0A%20%20%20%20%20%20%20%20%0A%0A%20%20%20%20%20%20%20%20marker_fb38256dd3554001a1e4b91802245e70.bindPopup%28popup_42999e648e984ecba473e44bc92ff494%29%0A%20%20%20%20%20%20%20%20%3B%0A%0A%20%20%20%20%20%20%20%20%0A%20%20%20%20%0A%20%20%20%20%0A%20%20%20%20%20%20%20%20%20%20%20%20var%20marker_29be10a511fe43e1a5e5ad6c7801121e%20%3D%20L.marker%28%0A%20%20%20%20%20%20%20%20%20%20%20%20%20%20%20%20%5B40.76772937223715%2C%20-73.9234633428848%5D%2C%0A%20%20%20%20%20%20%20%20%20%20%20%20%20%20%20%20%7B%7D%0A%20%20%20%20%20%20%20%20%20%20%20%20%29.addTo%28map_4aa00ef5102d4d3aa0af52fc5a9dde8d%29%3B%0A%20%20%20%20%20%20%20%20%0A%20%20%20%20%0A%20%20%20%20%20%20%20%20var%20popup_2ce9f49571bf4caeb9f417e9a352668a%20%3D%20L.popup%28%7B%22maxWidth%22%3A%20450%7D%29%3B%0A%0A%20%20%20%20%20%20%20%20%0A%20%20%20%20%20%20%20%20%20%20%20%20var%20html_95269dd757294e8db06bab5cbacf8f09%20%3D%20%24%28%60%3Cdiv%20id%3D%22html_95269dd757294e8db06bab5cbacf8f09%22%20style%3D%22width%3A%20100.0%25%3B%20height%3A%20100.0%25%3B%22%3ERestaurant%20Name%3ABellucci%20Pizza%20Price%3A%20None%20Rating%3A4.5%3C/div%3E%60%29%5B0%5D%3B%0A%20%20%20%20%20%20%20%20%20%20%20%20popup_2ce9f49571bf4caeb9f417e9a352668a.setContent%28html_95269dd757294e8db06bab5cbacf8f09%29%3B%0A%20%20%20%20%20%20%20%20%0A%0A%20%20%20%20%20%20%20%20marker_29be10a511fe43e1a5e5ad6c7801121e.bindPopup%28popup_2ce9f49571bf4caeb9f417e9a352668a%29%0A%20%20%20%20%20%20%20%20%3B%0A%0A%20%20%20%20%20%20%20%20%0A%20%20%20%20%0A%20%20%20%20%0A%20%20%20%20%20%20%20%20%20%20%20%20var%20marker_7d1f77f1c9134dc68bdfac0ef4cd8846%20%3D%20L.marker%28%0A%20%20%20%20%20%20%20%20%20%20%20%20%20%20%20%20%5B40.7101297729083%2C%20-74.0077206864953%5D%2C%0A%20%20%20%20%20%20%20%20%20%20%20%20%20%20%20%20%7B%7D%0A%20%20%20%20%20%20%20%20%20%20%20%20%29.addTo%28map_4aa00ef5102d4d3aa0af52fc5a9dde8d%29%3B%0A%20%20%20%20%20%20%20%20%0A%20%20%20%20%0A%20%20%20%20%20%20%20%20var%20popup_ef7df98aff1846eba61e4d257bca1289%20%3D%20L.popup%28%7B%22maxWidth%22%3A%20450%7D%29%3B%0A%0A%20%20%20%20%20%20%20%20%0A%20%20%20%20%20%20%20%20%20%20%20%20var%20html_87740c506d014aa190038f39858cb2b7%20%3D%20%24%28%60%3Cdiv%20id%3D%22html_87740c506d014aa190038f39858cb2b7%22%20style%3D%22width%3A%20100.0%25%3B%20height%3A%20100.0%25%3B%22%3ERestaurant%20Name%3AJoe%26%2339%3Bs%20Pizza%20Price%3A%20%24%20Rating%3A4.0%3C/div%3E%60%29%5B0%5D%3B%0A%20%20%20%20%20%20%20%20%20%20%20%20popup_ef7df98aff1846eba61e4d257bca1289.setContent%28html_87740c506d014aa190038f39858cb2b7%29%3B%0A%20%20%20%20%20%20%20%20%0A%0A%20%20%20%20%20%20%20%20marker_7d1f77f1c9134dc68bdfac0ef4cd8846.bindPopup%28popup_ef7df98aff1846eba61e4d257bca1289%29%0A%20%20%20%20%20%20%20%20%3B%0A%0A%20%20%20%20%20%20%20%20%0A%20%20%20%20%0A%20%20%20%20%0A%20%20%20%20%20%20%20%20%20%20%20%20var%20marker_3a30c4ee31594e8f9de9a57b6f49bc60%20%3D%20L.marker%28%0A%20%20%20%20%20%20%20%20%20%20%20%20%20%20%20%20%5B40.70276%2C%20-73.9171%5D%2C%0A%20%20%20%20%20%20%20%20%20%20%20%20%20%20%20%20%7B%7D%0A%20%20%20%20%20%20%20%20%20%20%20%20%29.addTo%28map_4aa00ef5102d4d3aa0af52fc5a9dde8d%29%3B%0A%20%20%20%20%20%20%20%20%0A%20%20%20%20%0A%20%20%20%20%20%20%20%20var%20popup_0d5efd32d44e489b910ce9e395435d58%20%3D%20L.popup%28%7B%22maxWidth%22%3A%20450%7D%29%3B%0A%0A%20%20%20%20%20%20%20%20%0A%20%20%20%20%20%20%20%20%20%20%20%20var%20html_458af1d3940a45c5b7150c3ef38be983%20%3D%20%24%28%60%3Cdiv%20id%3D%22html_458af1d3940a45c5b7150c3ef38be983%22%20style%3D%22width%3A%20100.0%25%3B%20height%3A%20100.0%25%3B%22%3ERestaurant%20Name%3AOps%20Price%3A%20%24%24%20Rating%3A4.5%3C/div%3E%60%29%5B0%5D%3B%0A%20%20%20%20%20%20%20%20%20%20%20%20popup_0d5efd32d44e489b910ce9e395435d58.setContent%28html_458af1d3940a45c5b7150c3ef38be983%29%3B%0A%20%20%20%20%20%20%20%20%0A%0A%20%20%20%20%20%20%20%20marker_3a30c4ee31594e8f9de9a57b6f49bc60.bindPopup%28popup_0d5efd32d44e489b910ce9e395435d58%29%0A%20%20%20%20%20%20%20%20%3B%0A%0A%20%20%20%20%20%20%20%20%0A%20%20%20%20%0A%20%20%20%20%0A%20%20%20%20%20%20%20%20%20%20%20%20var%20marker_d42759ffdfa1450992b9df274e44ca29%20%3D%20L.marker%28%0A%20%20%20%20%20%20%20%20%20%20%20%20%20%20%20%20%5B40.80084%2C%20-73.96766%5D%2C%0A%20%20%20%20%20%20%20%20%20%20%20%20%20%20%20%20%7B%7D%0A%20%20%20%20%20%20%20%20%20%20%20%20%29.addTo%28map_4aa00ef5102d4d3aa0af52fc5a9dde8d%29%3B%0A%20%20%20%20%20%20%20%20%0A%20%20%20%20%0A%20%20%20%20%20%20%20%20var%20popup_f8864cf529ce4825812d8fb5bbd294bb%20%3D%20L.popup%28%7B%22maxWidth%22%3A%20450%7D%29%3B%0A%0A%20%20%20%20%20%20%20%20%0A%20%20%20%20%20%20%20%20%20%20%20%20var%20html_4a4cf373b6b2464e96e9a56c7865f9e6%20%3D%20%24%28%60%3Cdiv%20id%3D%22html_4a4cf373b6b2464e96e9a56c7865f9e6%22%20style%3D%22width%3A%20100.0%25%3B%20height%3A%20100.0%25%3B%22%3ERestaurant%20Name%3AMAMA%26%2339%3BS%20TOO%21%20Price%3A%20%24%24%20Rating%3A3.5%3C/div%3E%60%29%5B0%5D%3B%0A%20%20%20%20%20%20%20%20%20%20%20%20popup_f8864cf529ce4825812d8fb5bbd294bb.setContent%28html_4a4cf373b6b2464e96e9a56c7865f9e6%29%3B%0A%20%20%20%20%20%20%20%20%0A%0A%20%20%20%20%20%20%20%20marker_d42759ffdfa1450992b9df274e44ca29.bindPopup%28popup_f8864cf529ce4825812d8fb5bbd294bb%29%0A%20%20%20%20%20%20%20%20%3B%0A%0A%20%20%20%20%20%20%20%20%0A%20%20%20%20%0A%20%20%20%20%0A%20%20%20%20%20%20%20%20%20%20%20%20var%20marker_ffe1c36857594c0fb8b4295214cf6425%20%3D%20L.marker%28%0A%20%20%20%20%20%20%20%20%20%20%20%20%20%20%20%20%5B40.743553%2C%20-73.980026%5D%2C%0A%20%20%20%20%20%20%20%20%20%20%20%20%20%20%20%20%7B%7D%0A%20%20%20%20%20%20%20%20%20%20%20%20%29.addTo%28map_4aa00ef5102d4d3aa0af52fc5a9dde8d%29%3B%0A%20%20%20%20%20%20%20%20%0A%20%20%20%20%0A%20%20%20%20%20%20%20%20var%20popup_ace177b9b0a04e8aa6e0b41b46bfcafd%20%3D%20L.popup%28%7B%22maxWidth%22%3A%20450%7D%29%3B%0A%0A%20%20%20%20%20%20%20%20%0A%20%20%20%20%20%20%20%20%20%20%20%20var%20html_9aad1b1b96044ffb9469ecb47101e9f0%20%3D%20%24%28%60%3Cdiv%20id%3D%22html_9aad1b1b96044ffb9469ecb47101e9f0%22%20style%3D%22width%3A%20100.0%25%3B%20height%3A%20100.0%25%3B%22%3ERestaurant%20Name%3ANorma%20Price%3A%20%24%24%20Rating%3A4.5%3C/div%3E%60%29%5B0%5D%3B%0A%20%20%20%20%20%20%20%20%20%20%20%20popup_ace177b9b0a04e8aa6e0b41b46bfcafd.setContent%28html_9aad1b1b96044ffb9469ecb47101e9f0%29%3B%0A%20%20%20%20%20%20%20%20%0A%0A%20%20%20%20%20%20%20%20marker_ffe1c36857594c0fb8b4295214cf6425.bindPopup%28popup_ace177b9b0a04e8aa6e0b41b46bfcafd%29%0A%20%20%20%20%20%20%20%20%3B%0A%0A%20%20%20%20%20%20%20%20%0A%20%20%20%20%0A%20%20%20%20%0A%20%20%20%20%20%20%20%20%20%20%20%20var%20marker_dee79cc7718644999868b8ce3878ccbf%20%3D%20L.marker%28%0A%20%20%20%20%20%20%20%20%20%20%20%20%20%20%20%20%5B40.6950309%2C%20-73.9961252%5D%2C%0A%20%20%20%20%20%20%20%20%20%20%20%20%20%20%20%20%7B%7D%0A%20%20%20%20%20%20%20%20%20%20%20%20%29.addTo%28map_4aa00ef5102d4d3aa0af52fc5a9dde8d%29%3B%0A%20%20%20%20%20%20%20%20%0A%20%20%20%20%0A%20%20%20%20%20%20%20%20var%20popup_899b918d90254bdcaba9b38f1c4c1095%20%3D%20L.popup%28%7B%22maxWidth%22%3A%20450%7D%29%3B%0A%0A%20%20%20%20%20%20%20%20%0A%20%20%20%20%20%20%20%20%20%20%20%20var%20html_79c811ed4858422cbc9eb6594a1f9c06%20%3D%20%24%28%60%3Cdiv%20id%3D%22html_79c811ed4858422cbc9eb6594a1f9c06%22%20style%3D%22width%3A%20100.0%25%3B%20height%3A%20100.0%25%3B%22%3ERestaurant%20Name%3ADellarocco%26%2339%3Bs%20Price%3A%20%24%24%20Rating%3A4.0%3C/div%3E%60%29%5B0%5D%3B%0A%20%20%20%20%20%20%20%20%20%20%20%20popup_899b918d90254bdcaba9b38f1c4c1095.setContent%28html_79c811ed4858422cbc9eb6594a1f9c06%29%3B%0A%20%20%20%20%20%20%20%20%0A%0A%20%20%20%20%20%20%20%20marker_dee79cc7718644999868b8ce3878ccbf.bindPopup%28popup_899b918d90254bdcaba9b38f1c4c1095%29%0A%20%20%20%20%20%20%20%20%3B%0A%0A%20%20%20%20%20%20%20%20%0A%20%20%20%20%0A%20%20%20%20%0A%20%20%20%20%20%20%20%20%20%20%20%20var%20marker_cf02dc1b7563413c8ebc7f263ddba3e7%20%3D%20L.marker%28%0A%20%20%20%20%20%20%20%20%20%20%20%20%20%20%20%20%5B40.578913225666966%2C%20-73.98383392883555%5D%2C%0A%20%20%20%20%20%20%20%20%20%20%20%20%20%20%20%20%7B%7D%0A%20%20%20%20%20%20%20%20%20%20%20%20%29.addTo%28map_4aa00ef5102d4d3aa0af52fc5a9dde8d%29%3B%0A%20%20%20%20%20%20%20%20%0A%20%20%20%20%0A%20%20%20%20%20%20%20%20var%20popup_7f6d9d8aefe04af984f69ac481b1e987%20%3D%20L.popup%28%7B%22maxWidth%22%3A%20450%7D%29%3B%0A%0A%20%20%20%20%20%20%20%20%0A%20%20%20%20%20%20%20%20%20%20%20%20var%20html_fddee35c39804372bd1c6d4483b30630%20%3D%20%24%28%60%3Cdiv%20id%3D%22html_fddee35c39804372bd1c6d4483b30630%22%20style%3D%22width%3A%20100.0%25%3B%20height%3A%20100.0%25%3B%22%3ERestaurant%20Name%3ATotonno%26%2339%3Bs%20Price%3A%20%24%24%20Rating%3A4.0%3C/div%3E%60%29%5B0%5D%3B%0A%20%20%20%20%20%20%20%20%20%20%20%20popup_7f6d9d8aefe04af984f69ac481b1e987.setContent%28html_fddee35c39804372bd1c6d4483b30630%29%3B%0A%20%20%20%20%20%20%20%20%0A%0A%20%20%20%20%20%20%20%20marker_cf02dc1b7563413c8ebc7f263ddba3e7.bindPopup%28popup_7f6d9d8aefe04af984f69ac481b1e987%29%0A%20%20%20%20%20%20%20%20%3B%0A%0A%20%20%20%20%20%20%20%20%0A%20%20%20%20%0A%20%20%20%20%0A%20%20%20%20%20%20%20%20%20%20%20%20var%20marker_c62948bdf7b6490a8426b6b5b762277b%20%3D%20L.marker%28%0A%20%20%20%20%20%20%20%20%20%20%20%20%20%20%20%20%5B40.72836%2C%20-73.9572%5D%2C%0A%20%20%20%20%20%20%20%20%20%20%20%20%20%20%20%20%7B%7D%0A%20%20%20%20%20%20%20%20%20%20%20%20%29.addTo%28map_4aa00ef5102d4d3aa0af52fc5a9dde8d%29%3B%0A%20%20%20%20%20%20%20%20%0A%20%20%20%20%0A%20%20%20%20%20%20%20%20var%20popup_522b95711ff64e38ad4e19639d7e82d2%20%3D%20L.popup%28%7B%22maxWidth%22%3A%20450%7D%29%3B%0A%0A%20%20%20%20%20%20%20%20%0A%20%20%20%20%20%20%20%20%20%20%20%20var%20html_3ddbb4cdc0214baea417fe2d5fb1722f%20%3D%20%24%28%60%3Cdiv%20id%3D%22html_3ddbb4cdc0214baea417fe2d5fb1722f%22%20style%3D%22width%3A%20100.0%25%3B%20height%3A%20100.0%25%3B%22%3ERestaurant%20Name%3APaulie%20Gee%26%2339%3Bs%20Slice%20Shop%20Price%3A%20%24%20Rating%3A4.0%3C/div%3E%60%29%5B0%5D%3B%0A%20%20%20%20%20%20%20%20%20%20%20%20popup_522b95711ff64e38ad4e19639d7e82d2.setContent%28html_3ddbb4cdc0214baea417fe2d5fb1722f%29%3B%0A%20%20%20%20%20%20%20%20%0A%0A%20%20%20%20%20%20%20%20marker_c62948bdf7b6490a8426b6b5b762277b.bindPopup%28popup_522b95711ff64e38ad4e19639d7e82d2%29%0A%20%20%20%20%20%20%20%20%3B%0A%0A%20%20%20%20%20%20%20%20%0A%20%20%20%20%0A%20%20%20%20%0A%20%20%20%20%20%20%20%20%20%20%20%20var%20marker_9edf7cb4b7b847ef8cff084e80653bc5%20%3D%20L.marker%28%0A%20%20%20%20%20%20%20%20%20%20%20%20%20%20%20%20%5B40.76492%2C%20-73.97794%5D%2C%0A%20%20%20%20%20%20%20%20%20%20%20%20%20%20%20%20%7B%7D%0A%20%20%20%20%20%20%20%20%20%20%20%20%29.addTo%28map_4aa00ef5102d4d3aa0af52fc5a9dde8d%29%3B%0A%20%20%20%20%20%20%20%20%0A%20%20%20%20%0A%20%20%20%20%20%20%20%20var%20popup_cbf6c8ebc3924694b0a669b524632b0e%20%3D%20L.popup%28%7B%22maxWidth%22%3A%20450%7D%29%3B%0A%0A%20%20%20%20%20%20%20%20%0A%20%20%20%20%20%20%20%20%20%20%20%20var%20html_86a93df8759f4465af399a0ff76708ad%20%3D%20%24%28%60%3Cdiv%20id%3D%22html_86a93df8759f4465af399a0ff76708ad%22%20style%3D%22width%3A%20100.0%25%3B%20height%3A%20100.0%25%3B%22%3ERestaurant%20Name%3AAngelo%26%2339%3Bs%20Coal%20Oven%20Pizzeria%20Price%3A%20%24%24%20Rating%3A4.0%3C/div%3E%60%29%5B0%5D%3B%0A%20%20%20%20%20%20%20%20%20%20%20%20popup_cbf6c8ebc3924694b0a669b524632b0e.setContent%28html_86a93df8759f4465af399a0ff76708ad%29%3B%0A%20%20%20%20%20%20%20%20%0A%0A%20%20%20%20%20%20%20%20marker_9edf7cb4b7b847ef8cff084e80653bc5.bindPopup%28popup_cbf6c8ebc3924694b0a669b524632b0e%29%0A%20%20%20%20%20%20%20%20%3B%0A%0A%20%20%20%20%20%20%20%20%0A%20%20%20%20%0A%20%20%20%20%0A%20%20%20%20%20%20%20%20%20%20%20%20var%20marker_d5f6529b93b9408dab1b2ffb783ee3c8%20%3D%20L.marker%28%0A%20%20%20%20%20%20%20%20%20%20%20%20%20%20%20%20%5B40.7826%2C%20-73.95351%5D%2C%0A%20%20%20%20%20%20%20%20%20%20%20%20%20%20%20%20%7B%7D%0A%20%20%20%20%20%20%20%20%20%20%20%20%29.addTo%28map_4aa00ef5102d4d3aa0af52fc5a9dde8d%29%3B%0A%20%20%20%20%20%20%20%20%0A%20%20%20%20%0A%20%20%20%20%20%20%20%20var%20popup_53a5d71702f84b84a71775dbd0e71c3f%20%3D%20L.popup%28%7B%22maxWidth%22%3A%20450%7D%29%3B%0A%0A%20%20%20%20%20%20%20%20%0A%20%20%20%20%20%20%20%20%20%20%20%20var%20html_26534d86a2864326a7f599fcfe6779e9%20%3D%20%24%28%60%3Cdiv%20id%3D%22html_26534d86a2864326a7f599fcfe6779e9%22%20style%3D%22width%3A%20100.0%25%3B%20height%3A%20100.0%25%3B%22%3ERestaurant%20Name%3AMarinara%20Pizza%20Price%3A%20%24%20Rating%3A4.0%3C/div%3E%60%29%5B0%5D%3B%0A%20%20%20%20%20%20%20%20%20%20%20%20popup_53a5d71702f84b84a71775dbd0e71c3f.setContent%28html_26534d86a2864326a7f599fcfe6779e9%29%3B%0A%20%20%20%20%20%20%20%20%0A%0A%20%20%20%20%20%20%20%20marker_d5f6529b93b9408dab1b2ffb783ee3c8.bindPopup%28popup_53a5d71702f84b84a71775dbd0e71c3f%29%0A%20%20%20%20%20%20%20%20%3B%0A%0A%20%20%20%20%20%20%20%20%0A%20%20%20%20%0A%20%20%20%20%0A%20%20%20%20%20%20%20%20%20%20%20%20var%20marker_a85606058e144abca7bb86224a2ff37e%20%3D%20L.marker%28%0A%20%20%20%20%20%20%20%20%20%20%20%20%20%20%20%20%5B40.6912834070746%2C%20-73.9906029201042%5D%2C%0A%20%20%20%20%20%20%20%20%20%20%20%20%20%20%20%20%7B%7D%0A%20%20%20%20%20%20%20%20%20%20%20%20%29.addTo%28map_4aa00ef5102d4d3aa0af52fc5a9dde8d%29%3B%0A%20%20%20%20%20%20%20%20%0A%20%20%20%20%0A%20%20%20%20%20%20%20%20var%20popup_4036e77989364a7b89efae0e00d3e3cd%20%3D%20L.popup%28%7B%22maxWidth%22%3A%20450%7D%29%3B%0A%0A%20%20%20%20%20%20%20%20%0A%20%20%20%20%20%20%20%20%20%20%20%20var%20html_b53b52720171496893318cd182172024%20%3D%20%24%28%60%3Cdiv%20id%3D%22html_b53b52720171496893318cd182172024%22%20style%3D%22width%3A%20100.0%25%3B%20height%3A%20100.0%25%3B%22%3ERestaurant%20Name%3APiz-zetta%20Price%3A%20%24%20Rating%3A4.5%3C/div%3E%60%29%5B0%5D%3B%0A%20%20%20%20%20%20%20%20%20%20%20%20popup_4036e77989364a7b89efae0e00d3e3cd.setContent%28html_b53b52720171496893318cd182172024%29%3B%0A%20%20%20%20%20%20%20%20%0A%0A%20%20%20%20%20%20%20%20marker_a85606058e144abca7bb86224a2ff37e.bindPopup%28popup_4036e77989364a7b89efae0e00d3e3cd%29%0A%20%20%20%20%20%20%20%20%3B%0A%0A%20%20%20%20%20%20%20%20%0A%20%20%20%20%0A%20%20%20%20%0A%20%20%20%20%20%20%20%20%20%20%20%20var%20marker_65216a78eb80468ea3220468d58dda30%20%3D%20L.marker%28%0A%20%20%20%20%20%20%20%20%20%20%20%20%20%20%20%20%5B40.7043362%2C%20-74.0101733%5D%2C%0A%20%20%20%20%20%20%20%20%20%20%20%20%20%20%20%20%7B%7D%0A%20%20%20%20%20%20%20%20%20%20%20%20%29.addTo%28map_4aa00ef5102d4d3aa0af52fc5a9dde8d%29%3B%0A%20%20%20%20%20%20%20%20%0A%20%20%20%20%0A%20%20%20%20%20%20%20%20var%20popup_083e8ad94ed646efb716c9d7741d12b0%20%3D%20L.popup%28%7B%22maxWidth%22%3A%20450%7D%29%3B%0A%0A%20%20%20%20%20%20%20%20%0A%20%20%20%20%20%20%20%20%20%20%20%20var%20html_93479d4ba2f74f9387a82379211b60f8%20%3D%20%24%28%60%3Cdiv%20id%3D%22html_93479d4ba2f74f9387a82379211b60f8%22%20style%3D%22width%3A%20100.0%25%3B%20height%3A%20100.0%25%3B%22%3ERestaurant%20Name%3AAdrienne%26%2339%3Bs%20Pizzabar%20Price%3A%20%24%24%20Rating%3A4.0%3C/div%3E%60%29%5B0%5D%3B%0A%20%20%20%20%20%20%20%20%20%20%20%20popup_083e8ad94ed646efb716c9d7741d12b0.setContent%28html_93479d4ba2f74f9387a82379211b60f8%29%3B%0A%20%20%20%20%20%20%20%20%0A%0A%20%20%20%20%20%20%20%20marker_65216a78eb80468ea3220468d58dda30.bindPopup%28popup_083e8ad94ed646efb716c9d7741d12b0%29%0A%20%20%20%20%20%20%20%20%3B%0A%0A%20%20%20%20%20%20%20%20%0A%20%20%20%20%0A%20%20%20%20%0A%20%20%20%20%20%20%20%20%20%20%20%20var%20marker_514230fa1af042689e39640d5dddbe37%20%3D%20L.marker%28%0A%20%20%20%20%20%20%20%20%20%20%20%20%20%20%20%20%5B40.6897%2C%20-73.965369%5D%2C%0A%20%20%20%20%20%20%20%20%20%20%20%20%20%20%20%20%7B%7D%0A%20%20%20%20%20%20%20%20%20%20%20%20%29.addTo%28map_4aa00ef5102d4d3aa0af52fc5a9dde8d%29%3B%0A%20%20%20%20%20%20%20%20%0A%20%20%20%20%0A%20%20%20%20%20%20%20%20var%20popup_8d6584c661d84db2a80c83c6d8a32169%20%3D%20L.popup%28%7B%22maxWidth%22%3A%20450%7D%29%3B%0A%0A%20%20%20%20%20%20%20%20%0A%20%20%20%20%20%20%20%20%20%20%20%20var%20html_6920f615e25f44a2a43ba65dcef55feb%20%3D%20%24%28%60%3Cdiv%20id%3D%22html_6920f615e25f44a2a43ba65dcef55feb%22%20style%3D%22width%3A%20100.0%25%3B%20height%3A%20100.0%25%3B%22%3ERestaurant%20Name%3ALuigi%26%2339%3Bs%20Pizzeria%20Price%3A%20%24%20Rating%3A4.5%3C/div%3E%60%29%5B0%5D%3B%0A%20%20%20%20%20%20%20%20%20%20%20%20popup_8d6584c661d84db2a80c83c6d8a32169.setContent%28html_6920f615e25f44a2a43ba65dcef55feb%29%3B%0A%20%20%20%20%20%20%20%20%0A%0A%20%20%20%20%20%20%20%20marker_514230fa1af042689e39640d5dddbe37.bindPopup%28popup_8d6584c661d84db2a80c83c6d8a32169%29%0A%20%20%20%20%20%20%20%20%3B%0A%0A%20%20%20%20%20%20%20%20%0A%20%20%20%20%0A%20%20%20%20%0A%20%20%20%20%20%20%20%20%20%20%20%20var%20marker_67abef283c074caab4dc9d673a5dcd69%20%3D%20L.marker%28%0A%20%20%20%20%20%20%20%20%20%20%20%20%20%20%20%20%5B40.71995520720623%2C%20-73.98304455197378%5D%2C%0A%20%20%20%20%20%20%20%20%20%20%20%20%20%20%20%20%7B%7D%0A%20%20%20%20%20%20%20%20%20%20%20%20%29.addTo%28map_4aa00ef5102d4d3aa0af52fc5a9dde8d%29%3B%0A%20%20%20%20%20%20%20%20%0A%20%20%20%20%0A%20%20%20%20%20%20%20%20var%20popup_abf20dc615614c20b427eb16ac359a7f%20%3D%20L.popup%28%7B%22maxWidth%22%3A%20450%7D%29%3B%0A%0A%20%20%20%20%20%20%20%20%0A%20%20%20%20%20%20%20%20%20%20%20%20var%20html_843e32fff86e460798d42afd8ee49cd5%20%3D%20%24%28%60%3Cdiv%20id%3D%22html_843e32fff86e460798d42afd8ee49cd5%22%20style%3D%22width%3A%20100.0%25%3B%20height%3A%20100.0%25%3B%22%3ERestaurant%20Name%3ARoberta%26%2339%3Bs%20Price%3A%20None%20Rating%3A4.5%3C/div%3E%60%29%5B0%5D%3B%0A%20%20%20%20%20%20%20%20%20%20%20%20popup_abf20dc615614c20b427eb16ac359a7f.setContent%28html_843e32fff86e460798d42afd8ee49cd5%29%3B%0A%20%20%20%20%20%20%20%20%0A%0A%20%20%20%20%20%20%20%20marker_67abef283c074caab4dc9d673a5dcd69.bindPopup%28popup_abf20dc615614c20b427eb16ac359a7f%29%0A%20%20%20%20%20%20%20%20%3B%0A%0A%20%20%20%20%20%20%20%20%0A%20%20%20%20%0A%20%20%20%20%0A%20%20%20%20%20%20%20%20%20%20%20%20var%20marker_2cd685001e744ec6b8cdd06ae7b66894%20%3D%20L.marker%28%0A%20%20%20%20%20%20%20%20%20%20%20%20%20%20%20%20%5B40.76394%2C%20-73.9883399%5D%2C%0A%20%20%20%20%20%20%20%20%20%20%20%20%20%20%20%20%7B%7D%0A%20%20%20%20%20%20%20%20%20%20%20%20%29.addTo%28map_4aa00ef5102d4d3aa0af52fc5a9dde8d%29%3B%0A%20%20%20%20%20%20%20%20%0A%20%20%20%20%0A%20%20%20%20%20%20%20%20var%20popup_fa4d6d04343249e79e864860fac88598%20%3D%20L.popup%28%7B%22maxWidth%22%3A%20450%7D%29%3B%0A%0A%20%20%20%20%20%20%20%20%0A%20%20%20%20%20%20%20%20%20%20%20%20var%20html_968263b4e8cb43cc89da6ccaf0c0d607%20%3D%20%24%28%60%3Cdiv%20id%3D%22html_968263b4e8cb43cc89da6ccaf0c0d607%22%20style%3D%22width%3A%20100.0%25%3B%20height%3A%20100.0%25%3B%22%3ERestaurant%20Name%3AB%20Side%20Pizza%20%26amp%3B%20Wine%20Bar%20Price%3A%20%24%24%20Rating%3A4.5%3C/div%3E%60%29%5B0%5D%3B%0A%20%20%20%20%20%20%20%20%20%20%20%20popup_fa4d6d04343249e79e864860fac88598.setContent%28html_968263b4e8cb43cc89da6ccaf0c0d607%29%3B%0A%20%20%20%20%20%20%20%20%0A%0A%20%20%20%20%20%20%20%20marker_2cd685001e744ec6b8cdd06ae7b66894.bindPopup%28popup_fa4d6d04343249e79e864860fac88598%29%0A%20%20%20%20%20%20%20%20%3B%0A%0A%20%20%20%20%20%20%20%20%0A%20%20%20%20%0A%20%20%20%20%0A%20%20%20%20%20%20%20%20%20%20%20%20var%20marker_7b4a0fbb5c3e4e2e8e1411e80088d186%20%3D%20L.marker%28%0A%20%20%20%20%20%20%20%20%20%20%20%20%20%20%20%20%5B40.7372%2C%20-73.99919%5D%2C%0A%20%20%20%20%20%20%20%20%20%20%20%20%20%20%20%20%7B%7D%0A%20%20%20%20%20%20%20%20%20%20%20%20%29.addTo%28map_4aa00ef5102d4d3aa0af52fc5a9dde8d%29%3B%0A%20%20%20%20%20%20%20%20%0A%20%20%20%20%0A%20%20%20%20%20%20%20%20var%20popup_aef964ce394f4063986a772255f80aa5%20%3D%20L.popup%28%7B%22maxWidth%22%3A%20450%7D%29%3B%0A%0A%20%20%20%20%20%20%20%20%0A%20%20%20%20%20%20%20%20%20%20%20%20var%20html_56d8514f234b40589069e7589731ab43%20%3D%20%24%28%60%3Cdiv%20id%3D%22html_56d8514f234b40589069e7589731ab43%22%20style%3D%22width%3A%20100.0%25%3B%20height%3A%20100.0%25%3B%22%3ERestaurant%20Name%3ASotto%2013%20Price%3A%20%24%24%20Rating%3A4.0%3C/div%3E%60%29%5B0%5D%3B%0A%20%20%20%20%20%20%20%20%20%20%20%20popup_aef964ce394f4063986a772255f80aa5.setContent%28html_56d8514f234b40589069e7589731ab43%29%3B%0A%20%20%20%20%20%20%20%20%0A%0A%20%20%20%20%20%20%20%20marker_7b4a0fbb5c3e4e2e8e1411e80088d186.bindPopup%28popup_aef964ce394f4063986a772255f80aa5%29%0A%20%20%20%20%20%20%20%20%3B%0A%0A%20%20%20%20%20%20%20%20%0A%20%20%20%20%0A%20%20%20%20%0A%20%20%20%20%20%20%20%20%20%20%20%20var%20marker_878f438d5d224945bc83e6459c923a15%20%3D%20L.marker%28%0A%20%20%20%20%20%20%20%20%20%20%20%20%20%20%20%20%5B40.7302%2C%20-73.98069%5D%2C%0A%20%20%20%20%20%20%20%20%20%20%20%20%20%20%20%20%7B%7D%0A%20%20%20%20%20%20%20%20%20%20%20%20%29.addTo%28map_4aa00ef5102d4d3aa0af52fc5a9dde8d%29%3B%0A%20%20%20%20%20%20%20%20%0A%20%20%20%20%0A%20%20%20%20%20%20%20%20var%20popup_77dabd26a25a49078aab9093970b1fbd%20%3D%20L.popup%28%7B%22maxWidth%22%3A%20450%7D%29%3B%0A%0A%20%20%20%20%20%20%20%20%0A%20%20%20%20%20%20%20%20%20%20%20%20var%20html_3a51a73782c04b6a809ba718883a5cfc%20%3D%20%24%28%60%3Cdiv%20id%3D%22html_3a51a73782c04b6a809ba718883a5cfc%22%20style%3D%22width%3A%20100.0%25%3B%20height%3A%20100.0%25%3B%22%3ERestaurant%20Name%3ABurrata%20Pizza%20Price%3A%20None%20Rating%3A4.5%3C/div%3E%60%29%5B0%5D%3B%0A%20%20%20%20%20%20%20%20%20%20%20%20popup_77dabd26a25a49078aab9093970b1fbd.setContent%28html_3a51a73782c04b6a809ba718883a5cfc%29%3B%0A%20%20%20%20%20%20%20%20%0A%0A%20%20%20%20%20%20%20%20marker_878f438d5d224945bc83e6459c923a15.bindPopup%28popup_77dabd26a25a49078aab9093970b1fbd%29%0A%20%20%20%20%20%20%20%20%3B%0A%0A%20%20%20%20%20%20%20%20%0A%20%20%20%20%0A%20%20%20%20%0A%20%20%20%20%20%20%20%20%20%20%20%20var%20marker_cf881a6fab404b28a229117490736348%20%3D%20L.marker%28%0A%20%20%20%20%20%20%20%20%20%20%20%20%20%20%20%20%5B40.6136093139648%2C%20-74.033332824707%5D%2C%0A%20%20%20%20%20%20%20%20%20%20%20%20%20%20%20%20%7B%7D%0A%20%20%20%20%20%20%20%20%20%20%20%20%29.addTo%28map_4aa00ef5102d4d3aa0af52fc5a9dde8d%29%3B%0A%20%20%20%20%20%20%20%20%0A%20%20%20%20%0A%20%20%20%20%20%20%20%20var%20popup_e1475b042e0047d3b02761a77bcb0393%20%3D%20L.popup%28%7B%22maxWidth%22%3A%20450%7D%29%3B%0A%0A%20%20%20%20%20%20%20%20%0A%20%20%20%20%20%20%20%20%20%20%20%20var%20html_ac1f4c8f5d804d0aa61e144926fed74a%20%3D%20%24%28%60%3Cdiv%20id%3D%22html_ac1f4c8f5d804d0aa61e144926fed74a%22%20style%3D%22width%3A%20100.0%25%3B%20height%3A%20100.0%25%3B%22%3ERestaurant%20Name%3ACampania%20Coal%20Fired%20Pizza%20Price%3A%20%24%24%20Rating%3A4.5%3C/div%3E%60%29%5B0%5D%3B%0A%20%20%20%20%20%20%20%20%20%20%20%20popup_e1475b042e0047d3b02761a77bcb0393.setContent%28html_ac1f4c8f5d804d0aa61e144926fed74a%29%3B%0A%20%20%20%20%20%20%20%20%0A%0A%20%20%20%20%20%20%20%20marker_cf881a6fab404b28a229117490736348.bindPopup%28popup_e1475b042e0047d3b02761a77bcb0393%29%0A%20%20%20%20%20%20%20%20%3B%0A%0A%20%20%20%20%20%20%20%20%0A%20%20%20%20%0A%20%20%20%20%0A%20%20%20%20%20%20%20%20%20%20%20%20var%20marker_cf8cb040fa26483aa1cd54f8d402af3a%20%3D%20L.marker%28%0A%20%20%20%20%20%20%20%20%20%20%20%20%20%20%20%20%5B40.72748%2C%20-73.98268%5D%2C%0A%20%20%20%20%20%20%20%20%20%20%20%20%20%20%20%20%7B%7D%0A%20%20%20%20%20%20%20%20%20%20%20%20%29.addTo%28map_4aa00ef5102d4d3aa0af52fc5a9dde8d%29%3B%0A%20%20%20%20%20%20%20%20%0A%20%20%20%20%0A%20%20%20%20%20%20%20%20var%20popup_653cda18c7d544eaaed9fc09f6803d8e%20%3D%20L.popup%28%7B%22maxWidth%22%3A%20450%7D%29%3B%0A%0A%20%20%20%20%20%20%20%20%0A%20%20%20%20%20%20%20%20%20%20%20%20var%20html_080238c352c941baad07532959e2c15b%20%3D%20%24%28%60%3Cdiv%20id%3D%22html_080238c352c941baad07532959e2c15b%22%20style%3D%22width%3A%20100.0%25%3B%20height%3A%20100.0%25%3B%22%3ERestaurant%20Name%3AVillage%20Square%20Pizza%20Price%3A%20%24%20Rating%3A4.5%3C/div%3E%60%29%5B0%5D%3B%0A%20%20%20%20%20%20%20%20%20%20%20%20popup_653cda18c7d544eaaed9fc09f6803d8e.setContent%28html_080238c352c941baad07532959e2c15b%29%3B%0A%20%20%20%20%20%20%20%20%0A%0A%20%20%20%20%20%20%20%20marker_cf8cb040fa26483aa1cd54f8d402af3a.bindPopup%28popup_653cda18c7d544eaaed9fc09f6803d8e%29%0A%20%20%20%20%20%20%20%20%3B%0A%0A%20%20%20%20%20%20%20%20%0A%20%20%20%20%0A%20%20%20%20%0A%20%20%20%20%20%20%20%20%20%20%20%20var%20marker_0886882e4e2740489651e2fc3846c96a%20%3D%20L.marker%28%0A%20%20%20%20%20%20%20%20%20%20%20%20%20%20%20%20%5B40.6837407%2C%20-73.9353473%5D%2C%0A%20%20%20%20%20%20%20%20%20%20%20%20%20%20%20%20%7B%7D%0A%20%20%20%20%20%20%20%20%20%20%20%20%29.addTo%28map_4aa00ef5102d4d3aa0af52fc5a9dde8d%29%3B%0A%20%20%20%20%20%20%20%20%0A%20%20%20%20%0A%20%20%20%20%20%20%20%20var%20popup_b240672d37b949f0bec159d97bc93e3f%20%3D%20L.popup%28%7B%22maxWidth%22%3A%20450%7D%29%3B%0A%0A%20%20%20%20%20%20%20%20%0A%20%20%20%20%20%20%20%20%20%20%20%20var%20html_204b282100904855b95f540838cd4f4b%20%3D%20%24%28%60%3Cdiv%20id%3D%22html_204b282100904855b95f540838cd4f4b%22%20style%3D%22width%3A%20100.0%25%3B%20height%3A%20100.0%25%3B%22%3ERestaurant%20Name%3ASaraghina%20Price%3A%20%24%24%20Rating%3A4.0%3C/div%3E%60%29%5B0%5D%3B%0A%20%20%20%20%20%20%20%20%20%20%20%20popup_b240672d37b949f0bec159d97bc93e3f.setContent%28html_204b282100904855b95f540838cd4f4b%29%3B%0A%20%20%20%20%20%20%20%20%0A%0A%20%20%20%20%20%20%20%20marker_0886882e4e2740489651e2fc3846c96a.bindPopup%28popup_b240672d37b949f0bec159d97bc93e3f%29%0A%20%20%20%20%20%20%20%20%3B%0A%0A%20%20%20%20%20%20%20%20%0A%20%20%20%20%0A%20%20%20%20%0A%20%20%20%20%20%20%20%20%20%20%20%20var%20marker_02afe1e16929424ebea97f0e9c6642a5%20%3D%20L.marker%28%0A%20%20%20%20%20%20%20%20%20%20%20%20%20%20%20%20%5B40.72813%2C%20-74.00188%5D%2C%0A%20%20%20%20%20%20%20%20%20%20%20%20%20%20%20%20%7B%7D%0A%20%20%20%20%20%20%20%20%20%20%20%20%29.addTo%28map_4aa00ef5102d4d3aa0af52fc5a9dde8d%29%3B%0A%20%20%20%20%20%20%20%20%0A%20%20%20%20%0A%20%20%20%20%20%20%20%20var%20popup_d33708a727364a139b5b111fdabaac2a%20%3D%20L.popup%28%7B%22maxWidth%22%3A%20450%7D%29%3B%0A%0A%20%20%20%20%20%20%20%20%0A%20%20%20%20%20%20%20%20%20%20%20%20var%20html_fc50757207144a80bf1f87989d907ab0%20%3D%20%24%28%60%3Cdiv%20id%3D%22html_fc50757207144a80bf1f87989d907ab0%22%20style%3D%22width%3A%20100.0%25%3B%20height%3A%20100.0%25%3B%22%3ERestaurant%20Name%3ASong%20E%20Napule%20Price%3A%20%24%24%20Rating%3A4.5%3C/div%3E%60%29%5B0%5D%3B%0A%20%20%20%20%20%20%20%20%20%20%20%20popup_d33708a727364a139b5b111fdabaac2a.setContent%28html_fc50757207144a80bf1f87989d907ab0%29%3B%0A%20%20%20%20%20%20%20%20%0A%0A%20%20%20%20%20%20%20%20marker_02afe1e16929424ebea97f0e9c6642a5.bindPopup%28popup_d33708a727364a139b5b111fdabaac2a%29%0A%20%20%20%20%20%20%20%20%3B%0A%0A%20%20%20%20%20%20%20%20%0A%20%20%20%20%0A%20%20%20%20%0A%20%20%20%20%20%20%20%20%20%20%20%20var%20marker_20a1b9c6ae06424aadbc0bf1f7ce788c%20%3D%20L.marker%28%0A%20%20%20%20%20%20%20%20%20%20%20%20%20%20%20%20%5B40.694467%2C%20-73.98293%5D%2C%0A%20%20%20%20%20%20%20%20%20%20%20%20%20%20%20%20%7B%7D%0A%20%20%20%20%20%20%20%20%20%20%20%20%29.addTo%28map_4aa00ef5102d4d3aa0af52fc5a9dde8d%29%3B%0A%20%20%20%20%20%20%20%20%0A%20%20%20%20%0A%20%20%20%20%20%20%20%20var%20popup_38423237c764436c9f9d4449739a2c27%20%3D%20L.popup%28%7B%22maxWidth%22%3A%20450%7D%29%3B%0A%0A%20%20%20%20%20%20%20%20%0A%20%20%20%20%20%20%20%20%20%20%20%20var%20html_21231761ac2447ca9fe362b8e0e75a34%20%3D%20%24%28%60%3Cdiv%20id%3D%22html_21231761ac2447ca9fe362b8e0e75a34%22%20style%3D%22width%3A%20100.0%25%3B%20height%3A%20100.0%25%3B%22%3ERestaurant%20Name%3AForno%20Rosso%20Price%3A%20%24%24%20Rating%3A4.0%3C/div%3E%60%29%5B0%5D%3B%0A%20%20%20%20%20%20%20%20%20%20%20%20popup_38423237c764436c9f9d4449739a2c27.setContent%28html_21231761ac2447ca9fe362b8e0e75a34%29%3B%0A%20%20%20%20%20%20%20%20%0A%0A%20%20%20%20%20%20%20%20marker_20a1b9c6ae06424aadbc0bf1f7ce788c.bindPopup%28popup_38423237c764436c9f9d4449739a2c27%29%0A%20%20%20%20%20%20%20%20%3B%0A%0A%20%20%20%20%20%20%20%20%0A%20%20%20%20%0A%20%20%20%20%0A%20%20%20%20%20%20%20%20%20%20%20%20var%20marker_6c475ae071af49b0b3831fce639b11e5%20%3D%20L.marker%28%0A%20%20%20%20%20%20%20%20%20%20%20%20%20%20%20%20%5B40.594715%2C%20-73.981316%5D%2C%0A%20%20%20%20%20%20%20%20%20%20%20%20%20%20%20%20%7B%7D%0A%20%20%20%20%20%20%20%20%20%20%20%20%29.addTo%28map_4aa00ef5102d4d3aa0af52fc5a9dde8d%29%3B%0A%20%20%20%20%20%20%20%20%0A%20%20%20%20%0A%20%20%20%20%20%20%20%20var%20popup_a6ecd55d983345228bceb419c5bab1fa%20%3D%20L.popup%28%7B%22maxWidth%22%3A%20450%7D%29%3B%0A%0A%20%20%20%20%20%20%20%20%0A%20%20%20%20%20%20%20%20%20%20%20%20var%20html_b27511a5dab5460c8d6dbea6a32d8aae%20%3D%20%24%28%60%3Cdiv%20id%3D%22html_b27511a5dab5460c8d6dbea6a32d8aae%22%20style%3D%22width%3A%20100.0%25%3B%20height%3A%20100.0%25%3B%22%3ERestaurant%20Name%3AL%20%26amp%3B%20B%20Spumoni%20Gardens%20Price%3A%20%24%20Rating%3A4.0%3C/div%3E%60%29%5B0%5D%3B%0A%20%20%20%20%20%20%20%20%20%20%20%20popup_a6ecd55d983345228bceb419c5bab1fa.setContent%28html_b27511a5dab5460c8d6dbea6a32d8aae%29%3B%0A%20%20%20%20%20%20%20%20%0A%0A%20%20%20%20%20%20%20%20marker_6c475ae071af49b0b3831fce639b11e5.bindPopup%28popup_a6ecd55d983345228bceb419c5bab1fa%29%0A%20%20%20%20%20%20%20%20%3B%0A%0A%20%20%20%20%20%20%20%20%0A%20%20%20%20%0A%20%20%20%20%0A%20%20%20%20%20%20%20%20%20%20%20%20var%20marker_a571fe780ef84abd9d3a3aabd1dd0af4%20%3D%20L.marker%28%0A%20%20%20%20%20%20%20%20%20%20%20%20%20%20%20%20%5B40.7294399%2C%20-73.98125%5D%2C%0A%20%20%20%20%20%20%20%20%20%20%20%20%20%20%20%20%7B%7D%0A%20%20%20%20%20%20%20%20%20%20%20%20%29.addTo%28map_4aa00ef5102d4d3aa0af52fc5a9dde8d%29%3B%0A%20%20%20%20%20%20%20%20%0A%20%20%20%20%0A%20%20%20%20%20%20%20%20var%20popup_29ef094a63d540e5ae27d5c4a1f32438%20%3D%20L.popup%28%7B%22maxWidth%22%3A%20450%7D%29%3B%0A%0A%20%20%20%20%20%20%20%20%0A%20%20%20%20%20%20%20%20%20%20%20%20var%20html_3f3275ff755d4164978c72106127006d%20%3D%20%24%28%60%3Cdiv%20id%3D%22html_3f3275ff755d4164978c72106127006d%22%20style%3D%22width%3A%20100.0%25%3B%20height%3A%20100.0%25%3B%22%3ERestaurant%20Name%3ABaker%26%2339%3Bs%20Pizza%20Price%3A%20%24%20Rating%3A4.5%3C/div%3E%60%29%5B0%5D%3B%0A%20%20%20%20%20%20%20%20%20%20%20%20popup_29ef094a63d540e5ae27d5c4a1f32438.setContent%28html_3f3275ff755d4164978c72106127006d%29%3B%0A%20%20%20%20%20%20%20%20%0A%0A%20%20%20%20%20%20%20%20marker_a571fe780ef84abd9d3a3aabd1dd0af4.bindPopup%28popup_29ef094a63d540e5ae27d5c4a1f32438%29%0A%20%20%20%20%20%20%20%20%3B%0A%0A%20%20%20%20%20%20%20%20%0A%20%20%20%20%0A%20%20%20%20%0A%20%20%20%20%20%20%20%20%20%20%20%20var%20marker_8ee1a4735f924e52ac315ff347fb7c4e%20%3D%20L.marker%28%0A%20%20%20%20%20%20%20%20%20%20%20%20%20%20%20%20%5B40.710372%2C%20-73.96794%5D%2C%0A%20%20%20%20%20%20%20%20%20%20%20%20%20%20%20%20%7B%7D%0A%20%20%20%20%20%20%20%20%20%20%20%20%29.addTo%28map_4aa00ef5102d4d3aa0af52fc5a9dde8d%29%3B%0A%20%20%20%20%20%20%20%20%0A%20%20%20%20%0A%20%20%20%20%20%20%20%20var%20popup_41d0a6d29c8e427486ac22cb61574bfc%20%3D%20L.popup%28%7B%22maxWidth%22%3A%20450%7D%29%3B%0A%0A%20%20%20%20%20%20%20%20%0A%20%20%20%20%20%20%20%20%20%20%20%20var%20html_8d20435a14de4850aca76d6d3da10325%20%3D%20%24%28%60%3Cdiv%20id%3D%22html_8d20435a14de4850aca76d6d3da10325%22%20style%3D%22width%3A%20100.0%25%3B%20height%3A%20100.0%25%3B%22%3ERestaurant%20Name%3ABarano%20Price%3A%20%24%24%24%20Rating%3A4.5%3C/div%3E%60%29%5B0%5D%3B%0A%20%20%20%20%20%20%20%20%20%20%20%20popup_41d0a6d29c8e427486ac22cb61574bfc.setContent%28html_8d20435a14de4850aca76d6d3da10325%29%3B%0A%20%20%20%20%20%20%20%20%0A%0A%20%20%20%20%20%20%20%20marker_8ee1a4735f924e52ac315ff347fb7c4e.bindPopup%28popup_41d0a6d29c8e427486ac22cb61574bfc%29%0A%20%20%20%20%20%20%20%20%3B%0A%0A%20%20%20%20%20%20%20%20%0A%20%20%20%20%0A%20%20%20%20%0A%20%20%20%20%20%20%20%20%20%20%20%20var%20marker_9b1e8ade67f347b3baeb754119f059df%20%3D%20L.marker%28%0A%20%20%20%20%20%20%20%20%20%20%20%20%20%20%20%20%5B40.76458%2C%20-73.98247%5D%2C%0A%20%20%20%20%20%20%20%20%20%20%20%20%20%20%20%20%7B%7D%0A%20%20%20%20%20%20%20%20%20%20%20%20%29.addTo%28map_4aa00ef5102d4d3aa0af52fc5a9dde8d%29%3B%0A%20%20%20%20%20%20%20%20%0A%20%20%20%20%0A%20%20%20%20%20%20%20%20var%20popup_b4c8699e29b3497e817d38c5a8f56e58%20%3D%20L.popup%28%7B%22maxWidth%22%3A%20450%7D%29%3B%0A%0A%20%20%20%20%20%20%20%20%0A%20%20%20%20%20%20%20%20%20%20%20%20var%20html_72c6f9296a104a1b8d81bf6bb1d8056a%20%3D%20%24%28%60%3Cdiv%20id%3D%22html_72c6f9296a104a1b8d81bf6bb1d8056a%22%20style%3D%22width%3A%20100.0%25%3B%20height%3A%20100.0%25%3B%22%3ERestaurant%20Name%3A99%20Cent%20Fresh%20Pizza%20Price%3A%20%24%20Rating%3A4.0%3C/div%3E%60%29%5B0%5D%3B%0A%20%20%20%20%20%20%20%20%20%20%20%20popup_b4c8699e29b3497e817d38c5a8f56e58.setContent%28html_72c6f9296a104a1b8d81bf6bb1d8056a%29%3B%0A%20%20%20%20%20%20%20%20%0A%0A%20%20%20%20%20%20%20%20marker_9b1e8ade67f347b3baeb754119f059df.bindPopup%28popup_b4c8699e29b3497e817d38c5a8f56e58%29%0A%20%20%20%20%20%20%20%20%3B%0A%0A%20%20%20%20%20%20%20%20%0A%20%20%20%20%0A%20%20%20%20%0A%20%20%20%20%20%20%20%20%20%20%20%20var%20marker_9cd1f9096a7545998f70d705c429ad68%20%3D%20L.marker%28%0A%20%20%20%20%20%20%20%20%20%20%20%20%20%20%20%20%5B40.721617%2C%20-73.98862%5D%2C%0A%20%20%20%20%20%20%20%20%20%20%20%20%20%20%20%20%7B%7D%0A%20%20%20%20%20%20%20%20%20%20%20%20%29.addTo%28map_4aa00ef5102d4d3aa0af52fc5a9dde8d%29%3B%0A%20%20%20%20%20%20%20%20%0A%20%20%20%20%0A%20%20%20%20%20%20%20%20var%20popup_b7fe7a6cee144de3bdc1e336a9fe1ebc%20%3D%20L.popup%28%7B%22maxWidth%22%3A%20450%7D%29%3B%0A%0A%20%20%20%20%20%20%20%20%0A%20%20%20%20%20%20%20%20%20%20%20%20var%20html_ce242ebc694c446e9cfeb923bb0e79b5%20%3D%20%24%28%60%3Cdiv%20id%3D%22html_ce242ebc694c446e9cfeb923bb0e79b5%22%20style%3D%22width%3A%20100.0%25%3B%20height%3A%20100.0%25%3B%22%3ERestaurant%20Name%3AZazzy%26%2339%3Bs%20Pizza%20Price%3A%20None%20Rating%3A4.5%3C/div%3E%60%29%5B0%5D%3B%0A%20%20%20%20%20%20%20%20%20%20%20%20popup_b7fe7a6cee144de3bdc1e336a9fe1ebc.setContent%28html_ce242ebc694c446e9cfeb923bb0e79b5%29%3B%0A%20%20%20%20%20%20%20%20%0A%0A%20%20%20%20%20%20%20%20marker_9cd1f9096a7545998f70d705c429ad68.bindPopup%28popup_b7fe7a6cee144de3bdc1e336a9fe1ebc%29%0A%20%20%20%20%20%20%20%20%3B%0A%0A%20%20%20%20%20%20%20%20%0A%20%20%20%20%0A%20%20%20%20%0A%20%20%20%20%20%20%20%20%20%20%20%20var%20marker_86a7ca1156434b828289ccd4cbbb3521%20%3D%20L.marker%28%0A%20%20%20%20%20%20%20%20%20%20%20%20%20%20%20%20%5B40.712168%2C%20-73.955707%5D%2C%0A%20%20%20%20%20%20%20%20%20%20%20%20%20%20%20%20%7B%7D%0A%20%20%20%20%20%20%20%20%20%20%20%20%29.addTo%28map_4aa00ef5102d4d3aa0af52fc5a9dde8d%29%3B%0A%20%20%20%20%20%20%20%20%0A%20%20%20%20%0A%20%20%20%20%20%20%20%20var%20popup_48fde9a1f3924d7bbad100e27fe5261d%20%3D%20L.popup%28%7B%22maxWidth%22%3A%20450%7D%29%3B%0A%0A%20%20%20%20%20%20%20%20%0A%20%20%20%20%20%20%20%20%20%20%20%20var%20html_6249cdab98984f9e8d8486347e0690c6%20%3D%20%24%28%60%3Cdiv%20id%3D%22html_6249cdab98984f9e8d8486347e0690c6%22%20style%3D%22width%3A%20100.0%25%3B%20height%3A%20100.0%25%3B%22%3ERestaurant%20Name%3AEmmy%20Squared%20-%20Brooklyn%20Price%3A%20%24%24%20Rating%3A4.0%3C/div%3E%60%29%5B0%5D%3B%0A%20%20%20%20%20%20%20%20%20%20%20%20popup_48fde9a1f3924d7bbad100e27fe5261d.setContent%28html_6249cdab98984f9e8d8486347e0690c6%29%3B%0A%20%20%20%20%20%20%20%20%0A%0A%20%20%20%20%20%20%20%20marker_86a7ca1156434b828289ccd4cbbb3521.bindPopup%28popup_48fde9a1f3924d7bbad100e27fe5261d%29%0A%20%20%20%20%20%20%20%20%3B%0A%0A%20%20%20%20%20%20%20%20%0A%20%20%20%20%0A%20%20%20%20%0A%20%20%20%20%20%20%20%20%20%20%20%20var%20marker_4df1c26d43dc4e03beb36cd16753840b%20%3D%20L.marker%28%0A%20%20%20%20%20%20%20%20%20%20%20%20%20%20%20%20%5B40.73596%2C%20-74.00093%5D%2C%0A%20%20%20%20%20%20%20%20%20%20%20%20%20%20%20%20%7B%7D%0A%20%20%20%20%20%20%20%20%20%20%20%20%29.addTo%28map_4aa00ef5102d4d3aa0af52fc5a9dde8d%29%3B%0A%20%20%20%20%20%20%20%20%0A%20%20%20%20%0A%20%20%20%20%20%20%20%20var%20popup_f203446ec0e34db5924e999eab228b58%20%3D%20L.popup%28%7B%22maxWidth%22%3A%20450%7D%29%3B%0A%0A%20%20%20%20%20%20%20%20%0A%20%20%20%20%20%20%20%20%20%20%20%20var%20html_de5ff047568f4432aeafef65cdeb460f%20%3D%20%24%28%60%3Cdiv%20id%3D%22html_de5ff047568f4432aeafef65cdeb460f%22%20style%3D%22width%3A%20100.0%25%3B%20height%3A%20100.0%25%3B%22%3ERestaurant%20Name%3ARoey%26%2339%3Bs%20Price%3A%20%24%24%20Rating%3A4.0%3C/div%3E%60%29%5B0%5D%3B%0A%20%20%20%20%20%20%20%20%20%20%20%20popup_f203446ec0e34db5924e999eab228b58.setContent%28html_de5ff047568f4432aeafef65cdeb460f%29%3B%0A%20%20%20%20%20%20%20%20%0A%0A%20%20%20%20%20%20%20%20marker_4df1c26d43dc4e03beb36cd16753840b.bindPopup%28popup_f203446ec0e34db5924e999eab228b58%29%0A%20%20%20%20%20%20%20%20%3B%0A%0A%20%20%20%20%20%20%20%20%0A%20%20%20%20%0A%20%20%20%20%0A%20%20%20%20%20%20%20%20%20%20%20%20var%20marker_e155e7f44b2c421baf7d145c9c9f948b%20%3D%20L.marker%28%0A%20%20%20%20%20%20%20%20%20%20%20%20%20%20%20%20%5B40.77823%2C%20-73.98117%5D%2C%0A%20%20%20%20%20%20%20%20%20%20%20%20%20%20%20%20%7B%7D%0A%20%20%20%20%20%20%20%20%20%20%20%20%29.addTo%28map_4aa00ef5102d4d3aa0af52fc5a9dde8d%29%3B%0A%20%20%20%20%20%20%20%20%0A%20%20%20%20%0A%20%20%20%20%20%20%20%20var%20popup_81fb540b0e214f11ab358319169695c2%20%3D%20L.popup%28%7B%22maxWidth%22%3A%20450%7D%29%3B%0A%0A%20%20%20%20%20%20%20%20%0A%20%20%20%20%20%20%20%20%20%20%20%20var%20html_633585f5a1284dc7a9691817cfb65709%20%3D%20%24%28%60%3Cdiv%20id%3D%22html_633585f5a1284dc7a9691817cfb65709%22%20style%3D%22width%3A%20100.0%25%3B%20height%3A%20100.0%25%3B%22%3ERestaurant%20Name%3AMy%20Pie%20Price%3A%20%24%20Rating%3A4.5%3C/div%3E%60%29%5B0%5D%3B%0A%20%20%20%20%20%20%20%20%20%20%20%20popup_81fb540b0e214f11ab358319169695c2.setContent%28html_633585f5a1284dc7a9691817cfb65709%29%3B%0A%20%20%20%20%20%20%20%20%0A%0A%20%20%20%20%20%20%20%20marker_e155e7f44b2c421baf7d145c9c9f948b.bindPopup%28popup_81fb540b0e214f11ab358319169695c2%29%0A%20%20%20%20%20%20%20%20%3B%0A%0A%20%20%20%20%20%20%20%20%0A%20%20%20%20%0A%20%20%20%20%0A%20%20%20%20%20%20%20%20%20%20%20%20var%20marker_e33960ad1b71455eb3e3cff47fb36ca3%20%3D%20L.marker%28%0A%20%20%20%20%20%20%20%20%20%20%20%20%20%20%20%20%5B40.729330068469%2C%20-74.0038400073579%5D%2C%0A%20%20%20%20%20%20%20%20%20%20%20%20%20%20%20%20%7B%7D%0A%20%20%20%20%20%20%20%20%20%20%20%20%29.addTo%28map_4aa00ef5102d4d3aa0af52fc5a9dde8d%29%3B%0A%20%20%20%20%20%20%20%20%0A%20%20%20%20%0A%20%20%20%20%20%20%20%20var%20popup_54abf1e50f3c46cb8c67f9f747e1a621%20%3D%20L.popup%28%7B%22maxWidth%22%3A%20450%7D%29%3B%0A%0A%20%20%20%20%20%20%20%20%0A%20%20%20%20%20%20%20%20%20%20%20%20var%20html_b01c547faac442cb8acd67e5ba5d7354%20%3D%20%24%28%60%3Cdiv%20id%3D%22html_b01c547faac442cb8acd67e5ba5d7354%22%20style%3D%22width%3A%20100.0%25%3B%20height%3A%20100.0%25%3B%22%3ERestaurant%20Name%3AEmily%20-%20West%20Village%20Price%3A%20%24%24%20Rating%3A4.0%3C/div%3E%60%29%5B0%5D%3B%0A%20%20%20%20%20%20%20%20%20%20%20%20popup_54abf1e50f3c46cb8c67f9f747e1a621.setContent%28html_b01c547faac442cb8acd67e5ba5d7354%29%3B%0A%20%20%20%20%20%20%20%20%0A%0A%20%20%20%20%20%20%20%20marker_e33960ad1b71455eb3e3cff47fb36ca3.bindPopup%28popup_54abf1e50f3c46cb8c67f9f747e1a621%29%0A%20%20%20%20%20%20%20%20%3B%0A%0A%20%20%20%20%20%20%20%20%0A%20%20%20%20%0A%20%20%20%20%0A%20%20%20%20%20%20%20%20%20%20%20%20var%20marker_4c683d7500644aac8c0f9942c0615d31%20%3D%20L.marker%28%0A%20%20%20%20%20%20%20%20%20%20%20%20%20%20%20%20%5B40.72693%2C%20-73.99319%5D%2C%0A%20%20%20%20%20%20%20%20%20%20%20%20%20%20%20%20%7B%7D%0A%20%20%20%20%20%20%20%20%20%20%20%20%29.addTo%28map_4aa00ef5102d4d3aa0af52fc5a9dde8d%29%3B%0A%20%20%20%20%20%20%20%20%0A%20%20%20%20%0A%20%20%20%20%20%20%20%20var%20popup_2e5da13c7a0945a7b882c24466d9d03e%20%3D%20L.popup%28%7B%22maxWidth%22%3A%20450%7D%29%3B%0A%0A%20%20%20%20%20%20%20%20%0A%20%20%20%20%20%20%20%20%20%20%20%20var%20html_f703d9a7803743818335f7e12aaff1b3%20%3D%20%24%28%60%3Cdiv%20id%3D%22html_f703d9a7803743818335f7e12aaff1b3%22%20style%3D%22width%3A%20100.0%25%3B%20height%3A%20100.0%25%3B%22%3ERestaurant%20Name%3AVic%26%2339%3Bs%20Price%3A%20%24%24%20Rating%3A4.0%3C/div%3E%60%29%5B0%5D%3B%0A%20%20%20%20%20%20%20%20%20%20%20%20popup_2e5da13c7a0945a7b882c24466d9d03e.setContent%28html_f703d9a7803743818335f7e12aaff1b3%29%3B%0A%20%20%20%20%20%20%20%20%0A%0A%20%20%20%20%20%20%20%20marker_4c683d7500644aac8c0f9942c0615d31.bindPopup%28popup_2e5da13c7a0945a7b882c24466d9d03e%29%0A%20%20%20%20%20%20%20%20%3B%0A%0A%20%20%20%20%20%20%20%20%0A%20%20%20%20%0A%20%20%20%20%0A%20%20%20%20%20%20%20%20%20%20%20%20var%20marker_d5efae8022ed4be4a3d6b77b751c3815%20%3D%20L.marker%28%0A%20%20%20%20%20%20%20%20%20%20%20%20%20%20%20%20%5B40.73512%2C%20-73.97965%5D%2C%0A%20%20%20%20%20%20%20%20%20%20%20%20%20%20%20%20%7B%7D%0A%20%20%20%20%20%20%20%20%20%20%20%20%29.addTo%28map_4aa00ef5102d4d3aa0af52fc5a9dde8d%29%3B%0A%20%20%20%20%20%20%20%20%0A%20%20%20%20%0A%20%20%20%20%20%20%20%20var%20popup_6b30efba758d445ba056e8dd37dd12be%20%3D%20L.popup%28%7B%22maxWidth%22%3A%20450%7D%29%3B%0A%0A%20%20%20%20%20%20%20%20%0A%20%20%20%20%20%20%20%20%20%20%20%20var%20html_7b64604a1ffc4d77adb642e9e86ee0a3%20%3D%20%24%28%60%3Cdiv%20id%3D%22html_7b64604a1ffc4d77adb642e9e86ee0a3%22%20style%3D%22width%3A%20100.0%25%3B%20height%3A%20100.0%25%3B%22%3ERestaurant%20Name%3ARosemary%E2%80%99s%20Price%3A%20None%20Rating%3A4.5%3C/div%3E%60%29%5B0%5D%3B%0A%20%20%20%20%20%20%20%20%20%20%20%20popup_6b30efba758d445ba056e8dd37dd12be.setContent%28html_7b64604a1ffc4d77adb642e9e86ee0a3%29%3B%0A%20%20%20%20%20%20%20%20%0A%0A%20%20%20%20%20%20%20%20marker_d5efae8022ed4be4a3d6b77b751c3815.bindPopup%28popup_6b30efba758d445ba056e8dd37dd12be%29%0A%20%20%20%20%20%20%20%20%3B%0A%0A%20%20%20%20%20%20%20%20%0A%20%20%20%20%0A%20%20%20%20%0A%20%20%20%20%20%20%20%20%20%20%20%20var%20marker_6e6f65f5baf64715b7eefeaf984f2656%20%3D%20L.marker%28%0A%20%20%20%20%20%20%20%20%20%20%20%20%20%20%20%20%5B40.762711%2C%20-73.986708%5D%2C%0A%20%20%20%20%20%20%20%20%20%20%20%20%20%20%20%20%7B%7D%0A%20%20%20%20%20%20%20%20%20%20%20%20%29.addTo%28map_4aa00ef5102d4d3aa0af52fc5a9dde8d%29%3B%0A%20%20%20%20%20%20%20%20%0A%20%20%20%20%0A%20%20%20%20%20%20%20%20var%20popup_33b593e8adf94d23aabaa3902a19a7dd%20%3D%20L.popup%28%7B%22maxWidth%22%3A%20450%7D%29%3B%0A%0A%20%20%20%20%20%20%20%20%0A%20%20%20%20%20%20%20%20%20%20%20%20var%20html_a4d95acc522847a799a776fd6018fd37%20%3D%20%24%28%60%3Cdiv%20id%3D%22html_a4d95acc522847a799a776fd6018fd37%22%20style%3D%22width%3A%20100.0%25%3B%20height%3A%20100.0%25%3B%22%3ERestaurant%20Name%3ADon%20Antonio%20Price%3A%20%24%24%20Rating%3A4.0%3C/div%3E%60%29%5B0%5D%3B%0A%20%20%20%20%20%20%20%20%20%20%20%20popup_33b593e8adf94d23aabaa3902a19a7dd.setContent%28html_a4d95acc522847a799a776fd6018fd37%29%3B%0A%20%20%20%20%20%20%20%20%0A%0A%20%20%20%20%20%20%20%20marker_6e6f65f5baf64715b7eefeaf984f2656.bindPopup%28popup_33b593e8adf94d23aabaa3902a19a7dd%29%0A%20%20%20%20%20%20%20%20%3B%0A%0A%20%20%20%20%20%20%20%20%0A%20%20%20%20%0A%20%20%20%20%0A%20%20%20%20%20%20%20%20%20%20%20%20var%20marker_158f1cd160fa42829d3611938614dfa2%20%3D%20L.marker%28%0A%20%20%20%20%20%20%20%20%20%20%20%20%20%20%20%20%5B40.7398415%2C%20-73.9792862%5D%2C%0A%20%20%20%20%20%20%20%20%20%20%20%20%20%20%20%20%7B%7D%0A%20%20%20%20%20%20%20%20%20%20%20%20%29.addTo%28map_4aa00ef5102d4d3aa0af52fc5a9dde8d%29%3B%0A%20%20%20%20%20%20%20%20%0A%20%20%20%20%0A%20%20%20%20%20%20%20%20var%20popup_6def438cce9b4c9aa1b3fccb29fb9b2e%20%3D%20L.popup%28%7B%22maxWidth%22%3A%20450%7D%29%3B%0A%0A%20%20%20%20%20%20%20%20%0A%20%20%20%20%20%20%20%20%20%20%20%20var%20html_6099cfd13f6749ac80c64dbac35d052b%20%3D%20%24%28%60%3Cdiv%20id%3D%22html_6099cfd13f6749ac80c64dbac35d052b%22%20style%3D%22width%3A%20100.0%25%3B%20height%3A%20100.0%25%3B%22%3ERestaurant%20Name%3APatrizia%26%2339%3Bs%20Pizza%20and%20Pasta%20Price%3A%20%24%24%20Rating%3A4.0%3C/div%3E%60%29%5B0%5D%3B%0A%20%20%20%20%20%20%20%20%20%20%20%20popup_6def438cce9b4c9aa1b3fccb29fb9b2e.setContent%28html_6099cfd13f6749ac80c64dbac35d052b%29%3B%0A%20%20%20%20%20%20%20%20%0A%0A%20%20%20%20%20%20%20%20marker_158f1cd160fa42829d3611938614dfa2.bindPopup%28popup_6def438cce9b4c9aa1b3fccb29fb9b2e%29%0A%20%20%20%20%20%20%20%20%3B%0A%0A%20%20%20%20%20%20%20%20%0A%20%20%20%20%0A%20%20%20%20%0A%20%20%20%20%20%20%20%20%20%20%20%20var%20marker_b3ad63d4150a45dc960c9cea92c97201%20%3D%20L.marker%28%0A%20%20%20%20%20%20%20%20%20%20%20%20%20%20%20%20%5B40.74241%2C%20-73.98452%5D%2C%0A%20%20%20%20%20%20%20%20%20%20%20%20%20%20%20%20%7B%7D%0A%20%20%20%20%20%20%20%20%20%20%20%20%29.addTo%28map_4aa00ef5102d4d3aa0af52fc5a9dde8d%29%3B%0A%20%20%20%20%20%20%20%20%0A%20%20%20%20%0A%20%20%20%20%20%20%20%20var%20popup_cffff3939a584f5db83b228a6ec84385%20%3D%20L.popup%28%7B%22maxWidth%22%3A%20450%7D%29%3B%0A%0A%20%20%20%20%20%20%20%20%0A%20%20%20%20%20%20%20%20%20%20%20%20var%20html_9de3649bcfe348c1b6d9e80946a49c79%20%3D%20%24%28%60%3Cdiv%20id%3D%22html_9de3649bcfe348c1b6d9e80946a49c79%22%20style%3D%22width%3A%20100.0%25%3B%20height%3A%20100.0%25%3B%22%3ERestaurant%20Name%3AMarinara%20Pizza%20Price%3A%20None%20Rating%3A4.0%3C/div%3E%60%29%5B0%5D%3B%0A%20%20%20%20%20%20%20%20%20%20%20%20popup_cffff3939a584f5db83b228a6ec84385.setContent%28html_9de3649bcfe348c1b6d9e80946a49c79%29%3B%0A%20%20%20%20%20%20%20%20%0A%0A%20%20%20%20%20%20%20%20marker_b3ad63d4150a45dc960c9cea92c97201.bindPopup%28popup_cffff3939a584f5db83b228a6ec84385%29%0A%20%20%20%20%20%20%20%20%3B%0A%0A%20%20%20%20%20%20%20%20%0A%20%20%20%20%0A%20%20%20%20%0A%20%20%20%20%20%20%20%20%20%20%20%20var%20marker_c123c470efc14f128bd1f0b36f54b5c7%20%3D%20L.marker%28%0A%20%20%20%20%20%20%20%20%20%20%20%20%20%20%20%20%5B40.73398%2C%20-73.98961%5D%2C%0A%20%20%20%20%20%20%20%20%20%20%20%20%20%20%20%20%7B%7D%0A%20%20%20%20%20%20%20%20%20%20%20%20%29.addTo%28map_4aa00ef5102d4d3aa0af52fc5a9dde8d%29%3B%0A%20%20%20%20%20%20%20%20%0A%20%20%20%20%0A%20%20%20%20%20%20%20%20var%20popup_775bf893195b4246b6a4641f9c386f11%20%3D%20L.popup%28%7B%22maxWidth%22%3A%20450%7D%29%3B%0A%0A%20%20%20%20%20%20%20%20%0A%20%20%20%20%20%20%20%20%20%20%20%20var%20html_11b6baeafd924c37b06dc061407f20d6%20%3D%20%24%28%60%3Cdiv%20id%3D%22html_11b6baeafd924c37b06dc061407f20d6%22%20style%3D%22width%3A%20100.0%25%3B%20height%3A%20100.0%25%3B%22%3ERestaurant%20Name%3AUnregular%20Pizza%20Price%3A%20%24%24%20Rating%3A4.5%3C/div%3E%60%29%5B0%5D%3B%0A%20%20%20%20%20%20%20%20%20%20%20%20popup_775bf893195b4246b6a4641f9c386f11.setContent%28html_11b6baeafd924c37b06dc061407f20d6%29%3B%0A%20%20%20%20%20%20%20%20%0A%0A%20%20%20%20%20%20%20%20marker_c123c470efc14f128bd1f0b36f54b5c7.bindPopup%28popup_775bf893195b4246b6a4641f9c386f11%29%0A%20%20%20%20%20%20%20%20%3B%0A%0A%20%20%20%20%20%20%20%20%0A%20%20%20%20%0A%20%20%20%20%0A%20%20%20%20%20%20%20%20%20%20%20%20var%20marker_3ffa0c63a41e461d96ac37a0bcfa79e8%20%3D%20L.marker%28%0A%20%20%20%20%20%20%20%20%20%20%20%20%20%20%20%20%5B40.72474%2C%20-73.98161%5D%2C%0A%20%20%20%20%20%20%20%20%20%20%20%20%20%20%20%20%7B%7D%0A%20%20%20%20%20%20%20%20%20%20%20%20%29.addTo%28map_4aa00ef5102d4d3aa0af52fc5a9dde8d%29%3B%0A%20%20%20%20%20%20%20%20%0A%20%20%20%20%0A%20%20%20%20%20%20%20%20var%20popup_80d6f1e668b84ba888b95838089dcfec%20%3D%20L.popup%28%7B%22maxWidth%22%3A%20450%7D%29%3B%0A%0A%20%20%20%20%20%20%20%20%0A%20%20%20%20%20%20%20%20%20%20%20%20var%20html_b2a9c19ab18b4ebf82e23565111f28fd%20%3D%20%24%28%60%3Cdiv%20id%3D%22html_b2a9c19ab18b4ebf82e23565111f28fd%22%20style%3D%22width%3A%20100.0%25%3B%20height%3A%20100.0%25%3B%22%3ERestaurant%20Name%3AGruppo%20Price%3A%20%24%24%20Rating%3A4.0%3C/div%3E%60%29%5B0%5D%3B%0A%20%20%20%20%20%20%20%20%20%20%20%20popup_80d6f1e668b84ba888b95838089dcfec.setContent%28html_b2a9c19ab18b4ebf82e23565111f28fd%29%3B%0A%20%20%20%20%20%20%20%20%0A%0A%20%20%20%20%20%20%20%20marker_3ffa0c63a41e461d96ac37a0bcfa79e8.bindPopup%28popup_80d6f1e668b84ba888b95838089dcfec%29%0A%20%20%20%20%20%20%20%20%3B%0A%0A%20%20%20%20%20%20%20%20%0A%20%20%20%20%0A%20%20%20%20%0A%20%20%20%20%20%20%20%20%20%20%20%20var%20marker_bb1023033bbf4feca6fd5ba0f6d7a10d%20%3D%20L.marker%28%0A%20%20%20%20%20%20%20%20%20%20%20%20%20%20%20%20%5B40.7215270996094%2C%20-73.9970855712891%5D%2C%0A%20%20%20%20%20%20%20%20%20%20%20%20%20%20%20%20%7B%7D%0A%20%20%20%20%20%20%20%20%20%20%20%20%29.addTo%28map_4aa00ef5102d4d3aa0af52fc5a9dde8d%29%3B%0A%20%20%20%20%20%20%20%20%0A%20%20%20%20%0A%20%20%20%20%20%20%20%20var%20popup_f07fe9e5f7174faa8d4ae83e34c5264f%20%3D%20L.popup%28%7B%22maxWidth%22%3A%20450%7D%29%3B%0A%0A%20%20%20%20%20%20%20%20%0A%20%20%20%20%20%20%20%20%20%20%20%20var%20html_b240607fae8147e691aa94ebbacd0272%20%3D%20%24%28%60%3Cdiv%20id%3D%22html_b240607fae8147e691aa94ebbacd0272%22%20style%3D%22width%3A%20100.0%25%3B%20height%3A%20100.0%25%3B%22%3ERestaurant%20Name%3AChampion%20Pizza%20Price%3A%20%24%20Rating%3A4.5%3C/div%3E%60%29%5B0%5D%3B%0A%20%20%20%20%20%20%20%20%20%20%20%20popup_f07fe9e5f7174faa8d4ae83e34c5264f.setContent%28html_b240607fae8147e691aa94ebbacd0272%29%3B%0A%20%20%20%20%20%20%20%20%0A%0A%20%20%20%20%20%20%20%20marker_bb1023033bbf4feca6fd5ba0f6d7a10d.bindPopup%28popup_f07fe9e5f7174faa8d4ae83e34c5264f%29%0A%20%20%20%20%20%20%20%20%3B%0A%0A%20%20%20%20%20%20%20%20%0A%20%20%20%20%0A%20%20%20%20%0A%20%20%20%20%20%20%20%20%20%20%20%20var%20marker_622adb45b6d14da89be874b8712104ca%20%3D%20L.marker%28%0A%20%20%20%20%20%20%20%20%20%20%20%20%20%20%20%20%5B40.7208883%2C%20-73.9962404%5D%2C%0A%20%20%20%20%20%20%20%20%20%20%20%20%20%20%20%20%7B%7D%0A%20%20%20%20%20%20%20%20%20%20%20%20%29.addTo%28map_4aa00ef5102d4d3aa0af52fc5a9dde8d%29%3B%0A%20%20%20%20%20%20%20%20%0A%20%20%20%20%0A%20%20%20%20%20%20%20%20var%20popup_06c5c14905b84ae7880fcc8ca29d74da%20%3D%20L.popup%28%7B%22maxWidth%22%3A%20450%7D%29%3B%0A%0A%20%20%20%20%20%20%20%20%0A%20%20%20%20%20%20%20%20%20%20%20%20var%20html_89c43a20e1da49779ff9080e1de576f1%20%3D%20%24%28%60%3Cdiv%20id%3D%22html_89c43a20e1da49779ff9080e1de576f1%22%20style%3D%22width%3A%20100.0%25%3B%20height%3A%20100.0%25%3B%22%3ERestaurant%20Name%3ANolita%20Pizza%20Price%3A%20%24%20Rating%3A4.5%3C/div%3E%60%29%5B0%5D%3B%0A%20%20%20%20%20%20%20%20%20%20%20%20popup_06c5c14905b84ae7880fcc8ca29d74da.setContent%28html_89c43a20e1da49779ff9080e1de576f1%29%3B%0A%20%20%20%20%20%20%20%20%0A%0A%20%20%20%20%20%20%20%20marker_622adb45b6d14da89be874b8712104ca.bindPopup%28popup_06c5c14905b84ae7880fcc8ca29d74da%29%0A%20%20%20%20%20%20%20%20%3B%0A%0A%20%20%20%20%20%20%20%20%0A%20%20%20%20%0A%20%20%20%20%0A%20%20%20%20%20%20%20%20%20%20%20%20var%20marker_b334fd9e38af4e63ac267e8cbf63e80f%20%3D%20L.marker%28%0A%20%20%20%20%20%20%20%20%20%20%20%20%20%20%20%20%5B40.73033%2C%20-73.98403%5D%2C%0A%20%20%20%20%20%20%20%20%20%20%20%20%20%20%20%20%7B%7D%0A%20%20%20%20%20%20%20%20%20%20%20%20%29.addTo%28map_4aa00ef5102d4d3aa0af52fc5a9dde8d%29%3B%0A%20%20%20%20%20%20%20%20%0A%20%20%20%20%0A%20%20%20%20%20%20%20%20var%20popup_d6cc724ff2894b989c82d546fc13cc63%20%3D%20L.popup%28%7B%22maxWidth%22%3A%20450%7D%29%3B%0A%0A%20%20%20%20%20%20%20%20%0A%20%20%20%20%20%20%20%20%20%20%20%20var%20html_640b6364db024282a8bcbbcdf4e5d37f%20%3D%20%24%28%60%3Cdiv%20id%3D%22html_640b6364db024282a8bcbbcdf4e5d37f%22%20style%3D%22width%3A%20100.0%25%3B%20height%3A%20100.0%25%3B%22%3ERestaurant%20Name%3ASauce%20Pizzeria%20Price%3A%20%24%20Rating%3A4.5%3C/div%3E%60%29%5B0%5D%3B%0A%20%20%20%20%20%20%20%20%20%20%20%20popup_d6cc724ff2894b989c82d546fc13cc63.setContent%28html_640b6364db024282a8bcbbcdf4e5d37f%29%3B%0A%20%20%20%20%20%20%20%20%0A%0A%20%20%20%20%20%20%20%20marker_b334fd9e38af4e63ac267e8cbf63e80f.bindPopup%28popup_d6cc724ff2894b989c82d546fc13cc63%29%0A%20%20%20%20%20%20%20%20%3B%0A%0A%20%20%20%20%20%20%20%20%0A%20%20%20%20%0A%20%20%20%20%0A%20%20%20%20%20%20%20%20%20%20%20%20var%20marker_30e18692e7d543788da87096ad0eb337%20%3D%20L.marker%28%0A%20%20%20%20%20%20%20%20%20%20%20%20%20%20%20%20%5B40.6985%2C%20-73.99273%5D%2C%0A%20%20%20%20%20%20%20%20%20%20%20%20%20%20%20%20%7B%7D%0A%20%20%20%20%20%20%20%20%20%20%20%20%29.addTo%28map_4aa00ef5102d4d3aa0af52fc5a9dde8d%29%3B%0A%20%20%20%20%20%20%20%20%0A%20%20%20%20%0A%20%20%20%20%20%20%20%20var%20popup_b63c6977167c4e48ad08b11a8c7d788f%20%3D%20L.popup%28%7B%22maxWidth%22%3A%20450%7D%29%3B%0A%0A%20%20%20%20%20%20%20%20%0A%20%20%20%20%20%20%20%20%20%20%20%20var%20html_8df6a8b873bb469e88625d2eece8248e%20%3D%20%24%28%60%3Cdiv%20id%3D%22html_8df6a8b873bb469e88625d2eece8248e%22%20style%3D%22width%3A%20100.0%25%3B%20height%3A%20100.0%25%3B%22%3ERestaurant%20Name%3AFascati%20Pizza%20Price%3A%20%24%20Rating%3A4.0%3C/div%3E%60%29%5B0%5D%3B%0A%20%20%20%20%20%20%20%20%20%20%20%20popup_b63c6977167c4e48ad08b11a8c7d788f.setContent%28html_8df6a8b873bb469e88625d2eece8248e%29%3B%0A%20%20%20%20%20%20%20%20%0A%0A%20%20%20%20%20%20%20%20marker_30e18692e7d543788da87096ad0eb337.bindPopup%28popup_b63c6977167c4e48ad08b11a8c7d788f%29%0A%20%20%20%20%20%20%20%20%3B%0A%0A%20%20%20%20%20%20%20%20%0A%20%20%20%20%0A%20%20%20%20%0A%20%20%20%20%20%20%20%20%20%20%20%20var%20marker_ef7f4445d27a40a7bcaabe21db88bd7a%20%3D%20L.marker%28%0A%20%20%20%20%20%20%20%20%20%20%20%20%20%20%20%20%5B40.71187%2C%20-73.94283%5D%2C%0A%20%20%20%20%20%20%20%20%20%20%20%20%20%20%20%20%7B%7D%0A%20%20%20%20%20%20%20%20%20%20%20%20%29.addTo%28map_4aa00ef5102d4d3aa0af52fc5a9dde8d%29%3B%0A%20%20%20%20%20%20%20%20%0A%20%20%20%20%0A%20%20%20%20%20%20%20%20var%20popup_bea67ba2c2484879b21518f2ec80fed8%20%3D%20L.popup%28%7B%22maxWidth%22%3A%20450%7D%29%3B%0A%0A%20%20%20%20%20%20%20%20%0A%20%20%20%20%20%20%20%20%20%20%20%20var%20html_c10ce23a418543669be1c383c4f05a65%20%3D%20%24%28%60%3Cdiv%20id%3D%22html_c10ce23a418543669be1c383c4f05a65%22%20style%3D%22width%3A%20100.0%25%3B%20height%3A%20100.0%25%3B%22%3ERestaurant%20Name%3ARome%20To%20Brooklyn%20Pizza%20Price%3A%20None%20Rating%3A5.0%3C/div%3E%60%29%5B0%5D%3B%0A%20%20%20%20%20%20%20%20%20%20%20%20popup_bea67ba2c2484879b21518f2ec80fed8.setContent%28html_c10ce23a418543669be1c383c4f05a65%29%3B%0A%20%20%20%20%20%20%20%20%0A%0A%20%20%20%20%20%20%20%20marker_ef7f4445d27a40a7bcaabe21db88bd7a.bindPopup%28popup_bea67ba2c2484879b21518f2ec80fed8%29%0A%20%20%20%20%20%20%20%20%3B%0A%0A%20%20%20%20%20%20%20%20%0A%20%20%20%20%0A%20%20%20%20%0A%20%20%20%20%20%20%20%20%20%20%20%20var%20marker_337bb76de0694841972c1787de63b8da%20%3D%20L.marker%28%0A%20%20%20%20%20%20%20%20%20%20%20%20%20%20%20%20%5B40.759494511551836%2C%20-73.98673451962638%5D%2C%0A%20%20%20%20%20%20%20%20%20%20%20%20%20%20%20%20%7B%7D%0A%20%20%20%20%20%20%20%20%20%20%20%20%29.addTo%28map_4aa00ef5102d4d3aa0af52fc5a9dde8d%29%3B%0A%20%20%20%20%20%20%20%20%0A%20%20%20%20%0A%20%20%20%20%20%20%20%20var%20popup_e88b9a3683744aad976f3a87b9b8a28a%20%3D%20L.popup%28%7B%22maxWidth%22%3A%20450%7D%29%3B%0A%0A%20%20%20%20%20%20%20%20%0A%20%20%20%20%20%20%20%20%20%20%20%20var%20html_0f46aad54a694674bb303eb7c3911527%20%3D%20%24%28%60%3Cdiv%20id%3D%22html_0f46aad54a694674bb303eb7c3911527%22%20style%3D%22width%3A%20100.0%25%3B%20height%3A%20100.0%25%3B%22%3ERestaurant%20Name%3APatzeria%20Perfect%20Pizza%20Price%3A%20%24%20Rating%3A4.0%3C/div%3E%60%29%5B0%5D%3B%0A%20%20%20%20%20%20%20%20%20%20%20%20popup_e88b9a3683744aad976f3a87b9b8a28a.setContent%28html_0f46aad54a694674bb303eb7c3911527%29%3B%0A%20%20%20%20%20%20%20%20%0A%0A%20%20%20%20%20%20%20%20marker_337bb76de0694841972c1787de63b8da.bindPopup%28popup_e88b9a3683744aad976f3a87b9b8a28a%29%0A%20%20%20%20%20%20%20%20%3B%0A%0A%20%20%20%20%20%20%20%20%0A%20%20%20%20%0A%20%20%20%20%0A%20%20%20%20%20%20%20%20%20%20%20%20var%20marker_4437c634a9ca4064a139478a368fba20%20%3D%20L.marker%28%0A%20%20%20%20%20%20%20%20%20%20%20%20%20%20%20%20%5B40.71505%2C%20-73.958365%5D%2C%0A%20%20%20%20%20%20%20%20%20%20%20%20%20%20%20%20%7B%7D%0A%20%20%20%20%20%20%20%20%20%20%20%20%29.addTo%28map_4aa00ef5102d4d3aa0af52fc5a9dde8d%29%3B%0A%20%20%20%20%20%20%20%20%0A%20%20%20%20%0A%20%20%20%20%20%20%20%20var%20popup_57fb76e595cd4be6a9be0895fe560a67%20%3D%20L.popup%28%7B%22maxWidth%22%3A%20450%7D%29%3B%0A%0A%20%20%20%20%20%20%20%20%0A%20%20%20%20%20%20%20%20%20%20%20%20var%20html_13a58f5d642e440daf28725040114cdd%20%3D%20%24%28%60%3Cdiv%20id%3D%22html_13a58f5d642e440daf28725040114cdd%22%20style%3D%22width%3A%20100.0%25%3B%20height%3A%20100.0%25%3B%22%3ERestaurant%20Name%3AAce%26%2339%3Bs%20Pizza%20Price%3A%20None%20Rating%3A5.0%3C/div%3E%60%29%5B0%5D%3B%0A%20%20%20%20%20%20%20%20%20%20%20%20popup_57fb76e595cd4be6a9be0895fe560a67.setContent%28html_13a58f5d642e440daf28725040114cdd%29%3B%0A%20%20%20%20%20%20%20%20%0A%0A%20%20%20%20%20%20%20%20marker_4437c634a9ca4064a139478a368fba20.bindPopup%28popup_57fb76e595cd4be6a9be0895fe560a67%29%0A%20%20%20%20%20%20%20%20%3B%0A%0A%20%20%20%20%20%20%20%20%0A%20%20%20%20%0A%20%20%20%20%0A%20%20%20%20%20%20%20%20%20%20%20%20var%20marker_ebaeae3862a147afac4b1b3cb0e6afe5%20%3D%20L.marker%28%0A%20%20%20%20%20%20%20%20%20%20%20%20%20%20%20%20%5B40.73927%2C%20-74.00321%5D%2C%0A%20%20%20%20%20%20%20%20%20%20%20%20%20%20%20%20%7B%7D%0A%20%20%20%20%20%20%20%20%20%20%20%20%29.addTo%28map_4aa00ef5102d4d3aa0af52fc5a9dde8d%29%3B%0A%20%20%20%20%20%20%20%20%0A%20%20%20%20%0A%20%20%20%20%20%20%20%20var%20popup_bfc48f780f6944fea27ecca78e9104f8%20%3D%20L.popup%28%7B%22maxWidth%22%3A%20450%7D%29%3B%0A%0A%20%20%20%20%20%20%20%20%0A%20%20%20%20%20%20%20%20%20%20%20%20var%20html_0da61a2601d041fb996576806d3b4619%20%3D%20%24%28%60%3Cdiv%20id%3D%22html_0da61a2601d041fb996576806d3b4619%22%20style%3D%22width%3A%20100.0%25%3B%20height%3A%20100.0%25%3B%22%3ERestaurant%20Name%3AVillage%20Pizza%20Price%3A%20%24%20Rating%3A4.0%3C/div%3E%60%29%5B0%5D%3B%0A%20%20%20%20%20%20%20%20%20%20%20%20popup_bfc48f780f6944fea27ecca78e9104f8.setContent%28html_0da61a2601d041fb996576806d3b4619%29%3B%0A%20%20%20%20%20%20%20%20%0A%0A%20%20%20%20%20%20%20%20marker_ebaeae3862a147afac4b1b3cb0e6afe5.bindPopup%28popup_bfc48f780f6944fea27ecca78e9104f8%29%0A%20%20%20%20%20%20%20%20%3B%0A%0A%20%20%20%20%20%20%20%20%0A%20%20%20%20%0A%20%20%20%20%0A%20%20%20%20%20%20%20%20%20%20%20%20var%20marker_a50ba974f782495c8d9977051f606594%20%3D%20L.marker%28%0A%20%20%20%20%20%20%20%20%20%20%20%20%20%20%20%20%5B40.6974427%2C%20-73.9675197%5D%2C%0A%20%20%20%20%20%20%20%20%20%20%20%20%20%20%20%20%7B%7D%0A%20%20%20%20%20%20%20%20%20%20%20%20%29.addTo%28map_4aa00ef5102d4d3aa0af52fc5a9dde8d%29%3B%0A%20%20%20%20%20%20%20%20%0A%20%20%20%20%0A%20%20%20%20%20%20%20%20var%20popup_84cb0273516d439f8554fc91a22d59fe%20%3D%20L.popup%28%7B%22maxWidth%22%3A%20450%7D%29%3B%0A%0A%20%20%20%20%20%20%20%20%0A%20%20%20%20%20%20%20%20%20%20%20%20var%20html_6ee0ee5b03154242bf2b2df0d1c05c06%20%3D%20%24%28%60%3Cdiv%20id%3D%22html_6ee0ee5b03154242bf2b2df0d1c05c06%22%20style%3D%22width%3A%20100.0%25%3B%20height%3A%20100.0%25%3B%22%3ERestaurant%20Name%3AIl%20Porto%20Ristorante%20Price%3A%20%24%24%20Rating%3A4.0%3C/div%3E%60%29%5B0%5D%3B%0A%20%20%20%20%20%20%20%20%20%20%20%20popup_84cb0273516d439f8554fc91a22d59fe.setContent%28html_6ee0ee5b03154242bf2b2df0d1c05c06%29%3B%0A%20%20%20%20%20%20%20%20%0A%0A%20%20%20%20%20%20%20%20marker_a50ba974f782495c8d9977051f606594.bindPopup%28popup_84cb0273516d439f8554fc91a22d59fe%29%0A%20%20%20%20%20%20%20%20%3B%0A%0A%20%20%20%20%20%20%20%20%0A%20%20%20%20%0A%20%20%20%20%0A%20%20%20%20%20%20%20%20%20%20%20%20var%20marker_949fd2e8215949ef91f66cf299ad1602%20%3D%20L.marker%28%0A%20%20%20%20%20%20%20%20%20%20%20%20%20%20%20%20%5B40.6928735340776%2C%20-74.0016932280972%5D%2C%0A%20%20%20%20%20%20%20%20%20%20%20%20%20%20%20%20%7B%7D%0A%20%20%20%20%20%20%20%20%20%20%20%20%29.addTo%28map_4aa00ef5102d4d3aa0af52fc5a9dde8d%29%3B%0A%20%20%20%20%20%20%20%20%0A%20%20%20%20%0A%20%20%20%20%20%20%20%20var%20popup_6c40085b8ead4bf29f299af664295aba%20%3D%20L.popup%28%7B%22maxWidth%22%3A%20450%7D%29%3B%0A%0A%20%20%20%20%20%20%20%20%0A%20%20%20%20%20%20%20%20%20%20%20%20var%20html_2ed1aedaad9c4154b7c51d0f40e4109a%20%3D%20%24%28%60%3Cdiv%20id%3D%22html_2ed1aedaad9c4154b7c51d0f40e4109a%22%20style%3D%22width%3A%20100.0%25%3B%20height%3A%20100.0%25%3B%22%3ERestaurant%20Name%3AFornino%20Price%3A%20%24%24%20Rating%3A4.0%3C/div%3E%60%29%5B0%5D%3B%0A%20%20%20%20%20%20%20%20%20%20%20%20popup_6c40085b8ead4bf29f299af664295aba.setContent%28html_2ed1aedaad9c4154b7c51d0f40e4109a%29%3B%0A%20%20%20%20%20%20%20%20%0A%0A%20%20%20%20%20%20%20%20marker_949fd2e8215949ef91f66cf299ad1602.bindPopup%28popup_6c40085b8ead4bf29f299af664295aba%29%0A%20%20%20%20%20%20%20%20%3B%0A%0A%20%20%20%20%20%20%20%20%0A%20%20%20%20%0A%20%20%20%20%0A%20%20%20%20%20%20%20%20%20%20%20%20var%20marker_ffaf70f4c5984be5b1e33be4deb900f2%20%3D%20L.marker%28%0A%20%20%20%20%20%20%20%20%20%20%20%20%20%20%20%20%5B40.73357%2C%20-73.955116%5D%2C%0A%20%20%20%20%20%20%20%20%20%20%20%20%20%20%20%20%7B%7D%0A%20%20%20%20%20%20%20%20%20%20%20%20%29.addTo%28map_4aa00ef5102d4d3aa0af52fc5a9dde8d%29%3B%0A%20%20%20%20%20%20%20%20%0A%20%20%20%20%0A%20%20%20%20%20%20%20%20var%20popup_acd443bb86e4424d99ad48d3fc3a15a1%20%3D%20L.popup%28%7B%22maxWidth%22%3A%20450%7D%29%3B%0A%0A%20%20%20%20%20%20%20%20%0A%20%20%20%20%20%20%20%20%20%20%20%20var%20html_9924de2597cf4c26921a393774dc91ac%20%3D%20%24%28%60%3Cdiv%20id%3D%22html_9924de2597cf4c26921a393774dc91ac%22%20style%3D%22width%3A%20100.0%25%3B%20height%3A%20100.0%25%3B%22%3ERestaurant%20Name%3ATriangolo%20Pizza%20Price%3A%20%24%20Rating%3A4.0%3C/div%3E%60%29%5B0%5D%3B%0A%20%20%20%20%20%20%20%20%20%20%20%20popup_acd443bb86e4424d99ad48d3fc3a15a1.setContent%28html_9924de2597cf4c26921a393774dc91ac%29%3B%0A%20%20%20%20%20%20%20%20%0A%0A%20%20%20%20%20%20%20%20marker_ffaf70f4c5984be5b1e33be4deb900f2.bindPopup%28popup_acd443bb86e4424d99ad48d3fc3a15a1%29%0A%20%20%20%20%20%20%20%20%3B%0A%0A%20%20%20%20%20%20%20%20%0A%20%20%20%20%0A%20%20%20%20%0A%20%20%20%20%20%20%20%20%20%20%20%20var%20marker_b35cdf221e6b4ad289a660885bdadbfc%20%3D%20L.marker%28%0A%20%20%20%20%20%20%20%20%20%20%20%20%20%20%20%20%5B40.6779064%2C%20-74.0169529%5D%2C%0A%20%20%20%20%20%20%20%20%20%20%20%20%20%20%20%20%7B%7D%0A%20%20%20%20%20%20%20%20%20%20%20%20%29.addTo%28map_4aa00ef5102d4d3aa0af52fc5a9dde8d%29%3B%0A%20%20%20%20%20%20%20%20%0A%20%20%20%20%0A%20%20%20%20%20%20%20%20var%20popup_9d26ae17f97d47de86d79aaf0e5dae19%20%3D%20L.popup%28%7B%22maxWidth%22%3A%20450%7D%29%3B%0A%0A%20%20%20%20%20%20%20%20%0A%20%20%20%20%20%20%20%20%20%20%20%20var%20html_7c8ff616fcf6435f9754763a5aa712dd%20%3D%20%24%28%60%3Cdiv%20id%3D%22html_7c8ff616fcf6435f9754763a5aa712dd%22%20style%3D%22width%3A%20100.0%25%3B%20height%3A%20100.0%25%3B%22%3ERestaurant%20Name%3AHoek%20Pizza%20Price%3A%20None%20Rating%3A4.0%3C/div%3E%60%29%5B0%5D%3B%0A%20%20%20%20%20%20%20%20%20%20%20%20popup_9d26ae17f97d47de86d79aaf0e5dae19.setContent%28html_7c8ff616fcf6435f9754763a5aa712dd%29%3B%0A%20%20%20%20%20%20%20%20%0A%0A%20%20%20%20%20%20%20%20marker_b35cdf221e6b4ad289a660885bdadbfc.bindPopup%28popup_9d26ae17f97d47de86d79aaf0e5dae19%29%0A%20%20%20%20%20%20%20%20%3B%0A%0A%20%20%20%20%20%20%20%20%0A%20%20%20%20%0A%20%20%20%20%0A%20%20%20%20%20%20%20%20%20%20%20%20var%20marker_5603e7f7f1d74dc2b7c30fa9496d73b7%20%3D%20L.marker%28%0A%20%20%20%20%20%20%20%20%20%20%20%20%20%20%20%20%5B40.670664%2C%20-73.991371%5D%2C%0A%20%20%20%20%20%20%20%20%20%20%20%20%20%20%20%20%7B%7D%0A%20%20%20%20%20%20%20%20%20%20%20%20%29.addTo%28map_4aa00ef5102d4d3aa0af52fc5a9dde8d%29%3B%0A%20%20%20%20%20%20%20%20%0A%20%20%20%20%0A%20%20%20%20%20%20%20%20var%20popup_c9d71b7a557549d684289adb10e313cf%20%3D%20L.popup%28%7B%22maxWidth%22%3A%20450%7D%29%3B%0A%0A%20%20%20%20%20%20%20%20%0A%20%20%20%20%20%20%20%20%20%20%20%20var%20html_b5ddbca1b19d48dcb99b3eccd9314228%20%3D%20%24%28%60%3Cdiv%20id%3D%22html_b5ddbca1b19d48dcb99b3eccd9314228%22%20style%3D%22width%3A%20100.0%25%3B%20height%3A%20100.0%25%3B%22%3ERestaurant%20Name%3ATable%2087%20-%20Gowanus%20Price%3A%20%24%24%20Rating%3A4.0%3C/div%3E%60%29%5B0%5D%3B%0A%20%20%20%20%20%20%20%20%20%20%20%20popup_c9d71b7a557549d684289adb10e313cf.setContent%28html_b5ddbca1b19d48dcb99b3eccd9314228%29%3B%0A%20%20%20%20%20%20%20%20%0A%0A%20%20%20%20%20%20%20%20marker_5603e7f7f1d74dc2b7c30fa9496d73b7.bindPopup%28popup_c9d71b7a557549d684289adb10e313cf%29%0A%20%20%20%20%20%20%20%20%3B%0A%0A%20%20%20%20%20%20%20%20%0A%20%20%20%20%0A%20%20%20%20%0A%20%20%20%20%20%20%20%20%20%20%20%20var%20marker_590881d9bac04a38938b61a6fd654521%20%3D%20L.marker%28%0A%20%20%20%20%20%20%20%20%20%20%20%20%20%20%20%20%5B40.7464708159905%2C%20-73.9899855852127%5D%2C%0A%20%20%20%20%20%20%20%20%20%20%20%20%20%20%20%20%7B%7D%0A%20%20%20%20%20%20%20%20%20%20%20%20%29.addTo%28map_4aa00ef5102d4d3aa0af52fc5a9dde8d%29%3B%0A%20%20%20%20%20%20%20%20%0A%20%20%20%20%0A%20%20%20%20%20%20%20%20var%20popup_a9584175a6be4964b27ae55dcf305ac7%20%3D%20L.popup%28%7B%22maxWidth%22%3A%20450%7D%29%3B%0A%0A%20%20%20%20%20%20%20%20%0A%20%20%20%20%20%20%20%20%20%20%20%20var%20html_df0f0297dff041db94b35af274ed55fc%20%3D%20%24%28%60%3Cdiv%20id%3D%22html_df0f0297dff041db94b35af274ed55fc%22%20style%3D%22width%3A%20100.0%25%3B%20height%3A%20100.0%25%3B%22%3ERestaurant%20Name%3A%241%20Pizza%20Price%3A%20None%20Rating%3A5.0%3C/div%3E%60%29%5B0%5D%3B%0A%20%20%20%20%20%20%20%20%20%20%20%20popup_a9584175a6be4964b27ae55dcf305ac7.setContent%28html_df0f0297dff041db94b35af274ed55fc%29%3B%0A%20%20%20%20%20%20%20%20%0A%0A%20%20%20%20%20%20%20%20marker_590881d9bac04a38938b61a6fd654521.bindPopup%28popup_a9584175a6be4964b27ae55dcf305ac7%29%0A%20%20%20%20%20%20%20%20%3B%0A%0A%20%20%20%20%20%20%20%20%0A%20%20%20%20%0A%20%20%20%20%0A%20%20%20%20%20%20%20%20%20%20%20%20var%20marker_9446578b8ae54d8a8062417459e5fbec%20%3D%20L.marker%28%0A%20%20%20%20%20%20%20%20%20%20%20%20%20%20%20%20%5B40.703137%2C%20-73.993608%5D%2C%0A%20%20%20%20%20%20%20%20%20%20%20%20%20%20%20%20%7B%7D%0A%20%20%20%20%20%20%20%20%20%20%20%20%29.addTo%28map_4aa00ef5102d4d3aa0af52fc5a9dde8d%29%3B%0A%20%20%20%20%20%20%20%20%0A%20%20%20%20%0A%20%20%20%20%20%20%20%20var%20popup_7bb9c5057f7f49608d977740abad43d5%20%3D%20L.popup%28%7B%22maxWidth%22%3A%20450%7D%29%3B%0A%0A%20%20%20%20%20%20%20%20%0A%20%20%20%20%20%20%20%20%20%20%20%20var%20html_93453e6467a24b4f9d26a74237e5c61c%20%3D%20%24%28%60%3Cdiv%20id%3D%22html_93453e6467a24b4f9d26a74237e5c61c%22%20style%3D%22width%3A%20100.0%25%3B%20height%3A%20100.0%25%3B%22%3ERestaurant%20Name%3AIgnazio%26%2339%3Bs%20Price%3A%20%24%24%20Rating%3A3.5%3C/div%3E%60%29%5B0%5D%3B%0A%20%20%20%20%20%20%20%20%20%20%20%20popup_7bb9c5057f7f49608d977740abad43d5.setContent%28html_93453e6467a24b4f9d26a74237e5c61c%29%3B%0A%20%20%20%20%20%20%20%20%0A%0A%20%20%20%20%20%20%20%20marker_9446578b8ae54d8a8062417459e5fbec.bindPopup%28popup_7bb9c5057f7f49608d977740abad43d5%29%0A%20%20%20%20%20%20%20%20%3B%0A%0A%20%20%20%20%20%20%20%20%0A%20%20%20%20%0A%20%20%20%20%0A%20%20%20%20%20%20%20%20%20%20%20%20var%20marker_14f4044cc20145d0b006fcb7c0fff11b%20%3D%20L.marker%28%0A%20%20%20%20%20%20%20%20%20%20%20%20%20%20%20%20%5B40.7392597584612%2C%20-74.0088130692187%5D%2C%0A%20%20%20%20%20%20%20%20%20%20%20%20%20%20%20%20%7B%7D%0A%20%20%20%20%20%20%20%20%20%20%20%20%29.addTo%28map_4aa00ef5102d4d3aa0af52fc5a9dde8d%29%3B%0A%20%20%20%20%20%20%20%20%0A%20%20%20%20%0A%20%20%20%20%20%20%20%20var%20popup_b2b0021c93bb440aacf9e9d06faefd2b%20%3D%20L.popup%28%7B%22maxWidth%22%3A%20450%7D%29%3B%0A%0A%20%20%20%20%20%20%20%20%0A%20%20%20%20%20%20%20%20%20%20%20%20var%20html_cda5c9b151d9486f8ab9f8844f15e851%20%3D%20%24%28%60%3Cdiv%20id%3D%22html_cda5c9b151d9486f8ab9f8844f15e851%22%20style%3D%22width%3A%20100.0%25%3B%20height%3A%20100.0%25%3B%22%3ERestaurant%20Name%3ASIM%C3%92%20PIZZA%20Price%3A%20%24%20Rating%3A4.5%3C/div%3E%60%29%5B0%5D%3B%0A%20%20%20%20%20%20%20%20%20%20%20%20popup_b2b0021c93bb440aacf9e9d06faefd2b.setContent%28html_cda5c9b151d9486f8ab9f8844f15e851%29%3B%0A%20%20%20%20%20%20%20%20%0A%0A%20%20%20%20%20%20%20%20marker_14f4044cc20145d0b006fcb7c0fff11b.bindPopup%28popup_b2b0021c93bb440aacf9e9d06faefd2b%29%0A%20%20%20%20%20%20%20%20%3B%0A%0A%20%20%20%20%20%20%20%20%0A%20%20%20%20%0A%20%20%20%20%0A%20%20%20%20%20%20%20%20%20%20%20%20var%20marker_1e9ab7878f2444d088d56a3e6142b420%20%3D%20L.marker%28%0A%20%20%20%20%20%20%20%20%20%20%20%20%20%20%20%20%5B40.7037211399782%2C%20-73.9918105285751%5D%2C%0A%20%20%20%20%20%20%20%20%20%20%20%20%20%20%20%20%7B%7D%0A%20%20%20%20%20%20%20%20%20%20%20%20%29.addTo%28map_4aa00ef5102d4d3aa0af52fc5a9dde8d%29%3B%0A%20%20%20%20%20%20%20%20%0A%20%20%20%20%0A%20%20%20%20%20%20%20%20var%20popup_52821d6f5fbf482d80aa3c1af1950c65%20%3D%20L.popup%28%7B%22maxWidth%22%3A%20450%7D%29%3B%0A%0A%20%20%20%20%20%20%20%20%0A%20%20%20%20%20%20%20%20%20%20%20%20var%20html_76cc1e0f56fb4f74a807e1366df733dd%20%3D%20%24%28%60%3Cdiv%20id%3D%22html_76cc1e0f56fb4f74a807e1366df733dd%22%20style%3D%22width%3A%20100.0%25%3B%20height%3A%20100.0%25%3B%22%3ERestaurant%20Name%3ATime%20Out%20Market%20New%20York%20Price%3A%20%24%24%20Rating%3A3.5%3C/div%3E%60%29%5B0%5D%3B%0A%20%20%20%20%20%20%20%20%20%20%20%20popup_52821d6f5fbf482d80aa3c1af1950c65.setContent%28html_76cc1e0f56fb4f74a807e1366df733dd%29%3B%0A%20%20%20%20%20%20%20%20%0A%0A%20%20%20%20%20%20%20%20marker_1e9ab7878f2444d088d56a3e6142b420.bindPopup%28popup_52821d6f5fbf482d80aa3c1af1950c65%29%0A%20%20%20%20%20%20%20%20%3B%0A%0A%20%20%20%20%20%20%20%20%0A%20%20%20%20%0A%20%20%20%20%0A%20%20%20%20%20%20%20%20%20%20%20%20var%20marker_4e0f8b6a5b1744f99d0769f0df755779%20%3D%20L.marker%28%0A%20%20%20%20%20%20%20%20%20%20%20%20%20%20%20%20%5B40.6904563903809%2C%20-73.9696273803711%5D%2C%0A%20%20%20%20%20%20%20%20%20%20%20%20%20%20%20%20%7B%7D%0A%20%20%20%20%20%20%20%20%20%20%20%20%29.addTo%28map_4aa00ef5102d4d3aa0af52fc5a9dde8d%29%3B%0A%20%20%20%20%20%20%20%20%0A%20%20%20%20%0A%20%20%20%20%20%20%20%20var%20popup_268e73cb98dc4da0aecd6c7519c07306%20%3D%20L.popup%28%7B%22maxWidth%22%3A%20450%7D%29%3B%0A%0A%20%20%20%20%20%20%20%20%0A%20%20%20%20%20%20%20%20%20%20%20%20var%20html_f3eb0bebe15944a2bb0c573e05cbb883%20%3D%20%24%28%60%3Cdiv%20id%3D%22html_f3eb0bebe15944a2bb0c573e05cbb883%22%20style%3D%22width%3A%20100.0%25%3B%20height%3A%20100.0%25%3B%22%3ERestaurant%20Name%3AGraziella%26%2339%3Bs%20Price%3A%20%24%24%20Rating%3A4.0%3C/div%3E%60%29%5B0%5D%3B%0A%20%20%20%20%20%20%20%20%20%20%20%20popup_268e73cb98dc4da0aecd6c7519c07306.setContent%28html_f3eb0bebe15944a2bb0c573e05cbb883%29%3B%0A%20%20%20%20%20%20%20%20%0A%0A%20%20%20%20%20%20%20%20marker_4e0f8b6a5b1744f99d0769f0df755779.bindPopup%28popup_268e73cb98dc4da0aecd6c7519c07306%29%0A%20%20%20%20%20%20%20%20%3B%0A%0A%20%20%20%20%20%20%20%20%0A%20%20%20%20%0A%20%20%20%20%0A%20%20%20%20%20%20%20%20%20%20%20%20var%20marker_4a7bb97faae74222abcf05412e6abc68%20%3D%20L.marker%28%0A%20%20%20%20%20%20%20%20%20%20%20%20%20%20%20%20%5B40.703447%2C%20-73.99215%5D%2C%0A%20%20%20%20%20%20%20%20%20%20%20%20%20%20%20%20%7B%7D%0A%20%20%20%20%20%20%20%20%20%20%20%20%29.addTo%28map_4aa00ef5102d4d3aa0af52fc5a9dde8d%29%3B%0A%20%20%20%20%20%20%20%20%0A%20%20%20%20%0A%20%20%20%20%20%20%20%20var%20popup_ea74cda27bac453abde20ecd4c3cf274%20%3D%20L.popup%28%7B%22maxWidth%22%3A%20450%7D%29%3B%0A%0A%20%20%20%20%20%20%20%20%0A%20%20%20%20%20%20%20%20%20%20%20%20var%20html_b6cdec4aa27d4eb0a7be50c35877c718%20%3D%20%24%28%60%3Cdiv%20id%3D%22html_b6cdec4aa27d4eb0a7be50c35877c718%22%20style%3D%22width%3A%20100.0%25%3B%20height%3A%20100.0%25%3B%22%3ERestaurant%20Name%3AJuliana%26%2339%3Bs%20-%20Time%20Out%20Market%20Price%3A%20None%20Rating%3A3.5%3C/div%3E%60%29%5B0%5D%3B%0A%20%20%20%20%20%20%20%20%20%20%20%20popup_ea74cda27bac453abde20ecd4c3cf274.setContent%28html_b6cdec4aa27d4eb0a7be50c35877c718%29%3B%0A%20%20%20%20%20%20%20%20%0A%0A%20%20%20%20%20%20%20%20marker_4a7bb97faae74222abcf05412e6abc68.bindPopup%28popup_ea74cda27bac453abde20ecd4c3cf274%29%0A%20%20%20%20%20%20%20%20%3B%0A%0A%20%20%20%20%20%20%20%20%0A%20%20%20%20%0A%3C/script%3E onload=\"this.contentDocument.open();this.contentDocument.write(    decodeURIComponent(this.getAttribute('data-html')));this.contentDocument.close();\" allowfullscreen webkitallowfullscreen mozallowfullscreen></iframe></div></div>"
      ],
      "text/plain": [
       "<folium.folium.Map at 0x260898ae8b0>"
      ]
     },
     "execution_count": 30,
     "metadata": {},
     "output_type": "execute_result"
    }
   ],
   "source": [
    "# Replace None with appropriate code\n",
    "\n",
    "# Import the library\n",
    "import folium\n",
    "\n",
    "# Set up center latitude and longitude\n",
    "center_lat = business_df.iloc[0]['latitude']\n",
    "center_long = business_df.iloc[0]['longitude']\n",
    "\n",
    "# Initialize map with center lat and long\n",
    "yelp_map = folium.Map([center_lat, center_long], zoom_start = 13, control_scale = True)\n",
    "\n",
    "# Adjust this limit to see more or fewer businesses\n",
    "limit=100\n",
    "\n",
    "for business in full_dataset[:limit]:\n",
    "    # Extract information about business\n",
    "    lat = business['coordinates']['latitude']\n",
    "    long = business['coordinates']['longitude']\n",
    "    name = business['name']\n",
    "    rating = business['rating']\n",
    "    price = business.get('price')\n",
    "    details = \"Restaurant Name:{}\\nPrice: {} Rating:{}\".format(name,price,rating)\n",
    "    \n",
    "    # Create popup with relevant details\n",
    "    popup = folium.Popup(details, parse_html=True, max_width = 450)\n",
    "    \n",
    "    # Create marker with relevant lat/long and popup\n",
    "    marker = folium.Marker(location = [lat,long], popup=popup)\n",
    "    \n",
    "    marker.add_to(yelp_map)\n",
    "    \n",
    "yelp_map"
   ]
  },
  {
   "cell_type": "markdown",
   "metadata": {},
   "source": [
    "# 5. Create Presentation Notebook\n",
    "\n",
    "Now that you've completed your project, let's put it into an easily presentable format so you can add it to your portfolio. To do this, we recommend completing the following steps outside of this notebook.\n",
    "\n",
    "1. Create a new GitHub repository for your project.\n",
    "2. Save a copy of this notebook into your local repository.\n",
    "3. Edit the text and images in the notebook to present your project and help someone else understand it.\n",
    "4. Run your notebook from start to finish, then **delete your API key** and save it.\n",
    "5. Create a README.md file in your repository with a brief summary of your project.\n",
    "6. Push your updated repository to GitHub to share with your instructor and employers!"
   ]
  },
  {
   "cell_type": "markdown",
   "metadata": {},
   "source": [
    "# Level Up: Project Enhancements\n",
    "\n",
    "After completing the project, you could consider the following enhancements if you have time:\n",
    "\n",
    "* Save a cleaned version of your dataset in your repository, then modify the notebook to load and use that dataset for the analysis. This will allow others to replicate your analysis and avoid running their own API queries.\n",
    "* Use `seaborn` to improve the styling of your visualizations\n",
    "* Explain the implications of your findings for business owners or internal Yelp staff\n",
    "* Repeat the project for another business category or location, and compare the results"
   ]
  },
  {
   "cell_type": "markdown",
   "metadata": {},
   "source": [
    "# Summary\n",
    "\n",
    "Nice work! In this lab, you've made multiple API calls to Yelp in order to paginate through a results set, prepared your data for analysis, and then conducted and visualized descriptive analyses. Well done!"
   ]
  }
 ],
 "metadata": {
  "kernelspec": {
   "display_name": "Python 3",
   "language": "python",
   "name": "python3"
  },
  "language_info": {
   "codemirror_mode": {
    "name": "ipython",
    "version": 3
   },
   "file_extension": ".py",
   "mimetype": "text/x-python",
   "name": "python",
   "nbconvert_exporter": "python",
   "pygments_lexer": "ipython3",
   "version": "3.8.8"
  },
  "toc": {
   "base_numbering": 1,
   "nav_menu": {},
   "number_sections": true,
   "sideBar": true,
   "skip_h1_title": false,
   "title_cell": "Table of Contents",
   "title_sidebar": "Contents",
   "toc_cell": false,
   "toc_position": {},
   "toc_section_display": true,
   "toc_window_display": false
  }
 },
 "nbformat": 4,
 "nbformat_minor": 2
}
